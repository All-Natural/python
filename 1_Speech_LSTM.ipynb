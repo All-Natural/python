{
  "nbformat": 4,
  "nbformat_minor": 0,
  "metadata": {
    "colab": {
      "name": "1_Speech_LSTM.ipynb",
      "provenance": [],
      "collapsed_sections": [],
      "toc_visible": true,
      "include_colab_link": true
    },
    "kernelspec": {
      "name": "python3",
      "display_name": "Python 3"
    },
    "widgets": {
      "application/vnd.jupyter.widget-state+json": {
        "9f37a11bfe95447f9a90a0bbcf6c3ae9": {
          "model_module": "@jupyter-widgets/controls",
          "model_name": "HBoxModel",
          "state": {
            "_view_name": "HBoxView",
            "_dom_classes": [],
            "_model_name": "HBoxModel",
            "_view_module": "@jupyter-widgets/controls",
            "_model_module_version": "1.5.0",
            "_view_count": null,
            "_view_module_version": "1.5.0",
            "box_style": "",
            "layout": "IPY_MODEL_79727fb62924427893b66c6b33cc8245",
            "_model_module": "@jupyter-widgets/controls",
            "children": [
              "IPY_MODEL_fc64a4dd68804a6badc11d96386fde03",
              "IPY_MODEL_856e67ff269648c4a8ae8b85aaefb5c9"
            ]
          },
          "model_module_version": "1.5.0"
        },
        "79727fb62924427893b66c6b33cc8245": {
          "model_module": "@jupyter-widgets/base",
          "model_name": "LayoutModel",
          "state": {
            "_view_name": "LayoutView",
            "grid_template_rows": null,
            "right": null,
            "justify_content": null,
            "_view_module": "@jupyter-widgets/base",
            "overflow": null,
            "_model_module_version": "1.2.0",
            "_view_count": null,
            "flex_flow": null,
            "width": null,
            "min_width": null,
            "border": null,
            "align_items": null,
            "bottom": null,
            "_model_module": "@jupyter-widgets/base",
            "top": null,
            "grid_column": null,
            "overflow_y": null,
            "overflow_x": null,
            "grid_auto_flow": null,
            "grid_area": null,
            "grid_template_columns": null,
            "flex": null,
            "_model_name": "LayoutModel",
            "justify_items": null,
            "grid_row": null,
            "max_height": null,
            "align_content": null,
            "visibility": null,
            "align_self": null,
            "height": null,
            "min_height": null,
            "padding": null,
            "grid_auto_rows": null,
            "grid_gap": null,
            "max_width": null,
            "order": null,
            "_view_module_version": "1.2.0",
            "grid_template_areas": null,
            "object_position": null,
            "object_fit": null,
            "grid_auto_columns": null,
            "margin": null,
            "display": null,
            "left": null
          },
          "model_module_version": "1.2.0"
        },
        "fc64a4dd68804a6badc11d96386fde03": {
          "model_module": "@jupyter-widgets/controls",
          "model_name": "FloatProgressModel",
          "state": {
            "_view_name": "ProgressView",
            "style": "IPY_MODEL_9d228e3c0231495dab50d6b7b01936c2",
            "_dom_classes": [],
            "description": "100%",
            "_model_name": "FloatProgressModel",
            "bar_style": "success",
            "max": 3193,
            "_view_module": "@jupyter-widgets/controls",
            "_model_module_version": "1.5.0",
            "value": 3193,
            "_view_count": null,
            "_view_module_version": "1.5.0",
            "orientation": "horizontal",
            "min": 0,
            "description_tooltip": null,
            "_model_module": "@jupyter-widgets/controls",
            "layout": "IPY_MODEL_28204cd997614bb7aaa476c8880dfe0c"
          },
          "model_module_version": "1.5.0"
        },
        "856e67ff269648c4a8ae8b85aaefb5c9": {
          "model_module": "@jupyter-widgets/controls",
          "model_name": "HTMLModel",
          "state": {
            "_view_name": "HTMLView",
            "style": "IPY_MODEL_27f1fc12cc4045ce8e6d8f14095166d1",
            "_dom_classes": [],
            "description": "",
            "_model_name": "HTMLModel",
            "placeholder": "​",
            "_view_module": "@jupyter-widgets/controls",
            "_model_module_version": "1.5.0",
            "value": " 3193/3193 [2:40:53&lt;00:00,  3.02s/it]",
            "_view_count": null,
            "_view_module_version": "1.5.0",
            "description_tooltip": null,
            "_model_module": "@jupyter-widgets/controls",
            "layout": "IPY_MODEL_2074670d80f74eda9c9672104ac8046d"
          },
          "model_module_version": "1.5.0"
        },
        "9d228e3c0231495dab50d6b7b01936c2": {
          "model_module": "@jupyter-widgets/controls",
          "model_name": "ProgressStyleModel",
          "state": {
            "_view_name": "StyleView",
            "_model_name": "ProgressStyleModel",
            "description_width": "initial",
            "_view_module": "@jupyter-widgets/base",
            "_model_module_version": "1.5.0",
            "_view_count": null,
            "_view_module_version": "1.2.0",
            "bar_color": null,
            "_model_module": "@jupyter-widgets/controls"
          },
          "model_module_version": "1.5.0"
        },
        "28204cd997614bb7aaa476c8880dfe0c": {
          "model_module": "@jupyter-widgets/base",
          "model_name": "LayoutModel",
          "state": {
            "_view_name": "LayoutView",
            "grid_template_rows": null,
            "right": null,
            "justify_content": null,
            "_view_module": "@jupyter-widgets/base",
            "overflow": null,
            "_model_module_version": "1.2.0",
            "_view_count": null,
            "flex_flow": null,
            "width": null,
            "min_width": null,
            "border": null,
            "align_items": null,
            "bottom": null,
            "_model_module": "@jupyter-widgets/base",
            "top": null,
            "grid_column": null,
            "overflow_y": null,
            "overflow_x": null,
            "grid_auto_flow": null,
            "grid_area": null,
            "grid_template_columns": null,
            "flex": null,
            "_model_name": "LayoutModel",
            "justify_items": null,
            "grid_row": null,
            "max_height": null,
            "align_content": null,
            "visibility": null,
            "align_self": null,
            "height": null,
            "min_height": null,
            "padding": null,
            "grid_auto_rows": null,
            "grid_gap": null,
            "max_width": null,
            "order": null,
            "_view_module_version": "1.2.0",
            "grid_template_areas": null,
            "object_position": null,
            "object_fit": null,
            "grid_auto_columns": null,
            "margin": null,
            "display": null,
            "left": null
          },
          "model_module_version": "1.2.0"
        },
        "27f1fc12cc4045ce8e6d8f14095166d1": {
          "model_module": "@jupyter-widgets/controls",
          "model_name": "DescriptionStyleModel",
          "state": {
            "_view_name": "StyleView",
            "_model_name": "DescriptionStyleModel",
            "description_width": "",
            "_view_module": "@jupyter-widgets/base",
            "_model_module_version": "1.5.0",
            "_view_count": null,
            "_view_module_version": "1.2.0",
            "_model_module": "@jupyter-widgets/controls"
          },
          "model_module_version": "1.5.0"
        },
        "2074670d80f74eda9c9672104ac8046d": {
          "model_module": "@jupyter-widgets/base",
          "model_name": "LayoutModel",
          "state": {
            "_view_name": "LayoutView",
            "grid_template_rows": null,
            "right": null,
            "justify_content": null,
            "_view_module": "@jupyter-widgets/base",
            "overflow": null,
            "_model_module_version": "1.2.0",
            "_view_count": null,
            "flex_flow": null,
            "width": null,
            "min_width": null,
            "border": null,
            "align_items": null,
            "bottom": null,
            "_model_module": "@jupyter-widgets/base",
            "top": null,
            "grid_column": null,
            "overflow_y": null,
            "overflow_x": null,
            "grid_auto_flow": null,
            "grid_area": null,
            "grid_template_columns": null,
            "flex": null,
            "_model_name": "LayoutModel",
            "justify_items": null,
            "grid_row": null,
            "max_height": null,
            "align_content": null,
            "visibility": null,
            "align_self": null,
            "height": null,
            "min_height": null,
            "padding": null,
            "grid_auto_rows": null,
            "grid_gap": null,
            "max_width": null,
            "order": null,
            "_view_module_version": "1.2.0",
            "grid_template_areas": null,
            "object_position": null,
            "object_fit": null,
            "grid_auto_columns": null,
            "margin": null,
            "display": null,
            "left": null
          },
          "model_module_version": "1.2.0"
        },
        "29e4eaf54e514451a314596ad5a2cf5c": {
          "model_module": "@jupyter-widgets/controls",
          "model_name": "HBoxModel",
          "state": {
            "_view_name": "HBoxView",
            "_dom_classes": [],
            "_model_name": "HBoxModel",
            "_view_module": "@jupyter-widgets/controls",
            "_model_module_version": "1.5.0",
            "_view_count": null,
            "_view_module_version": "1.5.0",
            "box_style": "",
            "layout": "IPY_MODEL_72c9540c0b5b48b9ad2254ac6aae9c84",
            "_model_module": "@jupyter-widgets/controls",
            "children": [
              "IPY_MODEL_610695a7851b426e8ab5a8d73ab63402",
              "IPY_MODEL_d959a20a726848cb81c57f57c08c260e"
            ]
          },
          "model_module_version": "1.5.0"
        },
        "72c9540c0b5b48b9ad2254ac6aae9c84": {
          "model_module": "@jupyter-widgets/base",
          "model_name": "LayoutModel",
          "state": {
            "_view_name": "LayoutView",
            "grid_template_rows": null,
            "right": null,
            "justify_content": null,
            "_view_module": "@jupyter-widgets/base",
            "overflow": null,
            "_model_module_version": "1.2.0",
            "_view_count": null,
            "flex_flow": null,
            "width": null,
            "min_width": null,
            "border": null,
            "align_items": null,
            "bottom": null,
            "_model_module": "@jupyter-widgets/base",
            "top": null,
            "grid_column": null,
            "overflow_y": null,
            "overflow_x": null,
            "grid_auto_flow": null,
            "grid_area": null,
            "grid_template_columns": null,
            "flex": null,
            "_model_name": "LayoutModel",
            "justify_items": null,
            "grid_row": null,
            "max_height": null,
            "align_content": null,
            "visibility": null,
            "align_self": null,
            "height": null,
            "min_height": null,
            "padding": null,
            "grid_auto_rows": null,
            "grid_gap": null,
            "max_width": null,
            "order": null,
            "_view_module_version": "1.2.0",
            "grid_template_areas": null,
            "object_position": null,
            "object_fit": null,
            "grid_auto_columns": null,
            "margin": null,
            "display": null,
            "left": null
          },
          "model_module_version": "1.2.0"
        },
        "610695a7851b426e8ab5a8d73ab63402": {
          "model_module": "@jupyter-widgets/controls",
          "model_name": "FloatProgressModel",
          "state": {
            "_view_name": "ProgressView",
            "style": "IPY_MODEL_2aa9bd27992f4eb8933f2b7988ae6118",
            "_dom_classes": [],
            "description": "100%",
            "_model_name": "FloatProgressModel",
            "bar_style": "success",
            "max": 3193,
            "_view_module": "@jupyter-widgets/controls",
            "_model_module_version": "1.5.0",
            "value": 3193,
            "_view_count": null,
            "_view_module_version": "1.5.0",
            "orientation": "horizontal",
            "min": 0,
            "description_tooltip": null,
            "_model_module": "@jupyter-widgets/controls",
            "layout": "IPY_MODEL_1e97ea054fab4747a8b005ac61c895bf"
          },
          "model_module_version": "1.5.0"
        },
        "d959a20a726848cb81c57f57c08c260e": {
          "model_module": "@jupyter-widgets/controls",
          "model_name": "HTMLModel",
          "state": {
            "_view_name": "HTMLView",
            "style": "IPY_MODEL_efab843f022e470badee9134f21b2032",
            "_dom_classes": [],
            "description": "",
            "_model_name": "HTMLModel",
            "placeholder": "​",
            "_view_module": "@jupyter-widgets/controls",
            "_model_module_version": "1.5.0",
            "value": " 3193/3193 [1:19:53&lt;00:00,  1.50s/it]",
            "_view_count": null,
            "_view_module_version": "1.5.0",
            "description_tooltip": null,
            "_model_module": "@jupyter-widgets/controls",
            "layout": "IPY_MODEL_85b99f0019914f6f95740b080b6ec6b8"
          },
          "model_module_version": "1.5.0"
        },
        "2aa9bd27992f4eb8933f2b7988ae6118": {
          "model_module": "@jupyter-widgets/controls",
          "model_name": "ProgressStyleModel",
          "state": {
            "_view_name": "StyleView",
            "_model_name": "ProgressStyleModel",
            "description_width": "initial",
            "_view_module": "@jupyter-widgets/base",
            "_model_module_version": "1.5.0",
            "_view_count": null,
            "_view_module_version": "1.2.0",
            "bar_color": null,
            "_model_module": "@jupyter-widgets/controls"
          },
          "model_module_version": "1.5.0"
        },
        "1e97ea054fab4747a8b005ac61c895bf": {
          "model_module": "@jupyter-widgets/base",
          "model_name": "LayoutModel",
          "state": {
            "_view_name": "LayoutView",
            "grid_template_rows": null,
            "right": null,
            "justify_content": null,
            "_view_module": "@jupyter-widgets/base",
            "overflow": null,
            "_model_module_version": "1.2.0",
            "_view_count": null,
            "flex_flow": null,
            "width": null,
            "min_width": null,
            "border": null,
            "align_items": null,
            "bottom": null,
            "_model_module": "@jupyter-widgets/base",
            "top": null,
            "grid_column": null,
            "overflow_y": null,
            "overflow_x": null,
            "grid_auto_flow": null,
            "grid_area": null,
            "grid_template_columns": null,
            "flex": null,
            "_model_name": "LayoutModel",
            "justify_items": null,
            "grid_row": null,
            "max_height": null,
            "align_content": null,
            "visibility": null,
            "align_self": null,
            "height": null,
            "min_height": null,
            "padding": null,
            "grid_auto_rows": null,
            "grid_gap": null,
            "max_width": null,
            "order": null,
            "_view_module_version": "1.2.0",
            "grid_template_areas": null,
            "object_position": null,
            "object_fit": null,
            "grid_auto_columns": null,
            "margin": null,
            "display": null,
            "left": null
          },
          "model_module_version": "1.2.0"
        },
        "efab843f022e470badee9134f21b2032": {
          "model_module": "@jupyter-widgets/controls",
          "model_name": "DescriptionStyleModel",
          "state": {
            "_view_name": "StyleView",
            "_model_name": "DescriptionStyleModel",
            "description_width": "",
            "_view_module": "@jupyter-widgets/base",
            "_model_module_version": "1.5.0",
            "_view_count": null,
            "_view_module_version": "1.2.0",
            "_model_module": "@jupyter-widgets/controls"
          },
          "model_module_version": "1.5.0"
        },
        "85b99f0019914f6f95740b080b6ec6b8": {
          "model_module": "@jupyter-widgets/base",
          "model_name": "LayoutModel",
          "state": {
            "_view_name": "LayoutView",
            "grid_template_rows": null,
            "right": null,
            "justify_content": null,
            "_view_module": "@jupyter-widgets/base",
            "overflow": null,
            "_model_module_version": "1.2.0",
            "_view_count": null,
            "flex_flow": null,
            "width": null,
            "min_width": null,
            "border": null,
            "align_items": null,
            "bottom": null,
            "_model_module": "@jupyter-widgets/base",
            "top": null,
            "grid_column": null,
            "overflow_y": null,
            "overflow_x": null,
            "grid_auto_flow": null,
            "grid_area": null,
            "grid_template_columns": null,
            "flex": null,
            "_model_name": "LayoutModel",
            "justify_items": null,
            "grid_row": null,
            "max_height": null,
            "align_content": null,
            "visibility": null,
            "align_self": null,
            "height": null,
            "min_height": null,
            "padding": null,
            "grid_auto_rows": null,
            "grid_gap": null,
            "max_width": null,
            "order": null,
            "_view_module_version": "1.2.0",
            "grid_template_areas": null,
            "object_position": null,
            "object_fit": null,
            "grid_auto_columns": null,
            "margin": null,
            "display": null,
            "left": null
          },
          "model_module_version": "1.2.0"
        },
        "089f1cbffef14f159a92e81f34458049": {
          "model_module": "@jupyter-widgets/controls",
          "model_name": "HBoxModel",
          "state": {
            "_view_name": "HBoxView",
            "_dom_classes": [],
            "_model_name": "HBoxModel",
            "_view_module": "@jupyter-widgets/controls",
            "_model_module_version": "1.5.0",
            "_view_count": null,
            "_view_module_version": "1.5.0",
            "box_style": "",
            "layout": "IPY_MODEL_fefb44b6d5fa48c382175dbafc65ae07",
            "_model_module": "@jupyter-widgets/controls",
            "children": [
              "IPY_MODEL_fff32d1279774cc981f726aa048c3228",
              "IPY_MODEL_6a466c4f9a4145d6a295063e7a061a76"
            ]
          },
          "model_module_version": "1.5.0"
        },
        "fefb44b6d5fa48c382175dbafc65ae07": {
          "model_module": "@jupyter-widgets/base",
          "model_name": "LayoutModel",
          "state": {
            "_view_name": "LayoutView",
            "grid_template_rows": null,
            "right": null,
            "justify_content": null,
            "_view_module": "@jupyter-widgets/base",
            "overflow": null,
            "_model_module_version": "1.2.0",
            "_view_count": null,
            "flex_flow": null,
            "width": null,
            "min_width": null,
            "border": null,
            "align_items": null,
            "bottom": null,
            "_model_module": "@jupyter-widgets/base",
            "top": null,
            "grid_column": null,
            "overflow_y": null,
            "overflow_x": null,
            "grid_auto_flow": null,
            "grid_area": null,
            "grid_template_columns": null,
            "flex": null,
            "_model_name": "LayoutModel",
            "justify_items": null,
            "grid_row": null,
            "max_height": null,
            "align_content": null,
            "visibility": null,
            "align_self": null,
            "height": null,
            "min_height": null,
            "padding": null,
            "grid_auto_rows": null,
            "grid_gap": null,
            "max_width": null,
            "order": null,
            "_view_module_version": "1.2.0",
            "grid_template_areas": null,
            "object_position": null,
            "object_fit": null,
            "grid_auto_columns": null,
            "margin": null,
            "display": null,
            "left": null
          },
          "model_module_version": "1.2.0"
        },
        "fff32d1279774cc981f726aa048c3228": {
          "model_module": "@jupyter-widgets/controls",
          "model_name": "FloatProgressModel",
          "state": {
            "_view_name": "ProgressView",
            "style": "IPY_MODEL_726d30d04c5c4aa99b1a508840f70f22",
            "_dom_classes": [],
            "description": "100%",
            "_model_name": "FloatProgressModel",
            "bar_style": "success",
            "max": 3193,
            "_view_module": "@jupyter-widgets/controls",
            "_model_module_version": "1.5.0",
            "value": 3193,
            "_view_count": null,
            "_view_module_version": "1.5.0",
            "orientation": "horizontal",
            "min": 0,
            "description_tooltip": null,
            "_model_module": "@jupyter-widgets/controls",
            "layout": "IPY_MODEL_6f9af38eecbf43bfb761f7695aafd24a"
          },
          "model_module_version": "1.5.0"
        },
        "6a466c4f9a4145d6a295063e7a061a76": {
          "model_module": "@jupyter-widgets/controls",
          "model_name": "HTMLModel",
          "state": {
            "_view_name": "HTMLView",
            "style": "IPY_MODEL_948b83a956ca4b1f8cc8d6a932cb9103",
            "_dom_classes": [],
            "description": "",
            "_model_name": "HTMLModel",
            "placeholder": "​",
            "_view_module": "@jupyter-widgets/controls",
            "_model_module_version": "1.5.0",
            "value": " 3193/3193 [52:55&lt;00:00,  1.01it/s]",
            "_view_count": null,
            "_view_module_version": "1.5.0",
            "description_tooltip": null,
            "_model_module": "@jupyter-widgets/controls",
            "layout": "IPY_MODEL_914b6f6d500b43798c8a4829ad3e19fa"
          },
          "model_module_version": "1.5.0"
        },
        "726d30d04c5c4aa99b1a508840f70f22": {
          "model_module": "@jupyter-widgets/controls",
          "model_name": "ProgressStyleModel",
          "state": {
            "_view_name": "StyleView",
            "_model_name": "ProgressStyleModel",
            "description_width": "initial",
            "_view_module": "@jupyter-widgets/base",
            "_model_module_version": "1.5.0",
            "_view_count": null,
            "_view_module_version": "1.2.0",
            "bar_color": null,
            "_model_module": "@jupyter-widgets/controls"
          },
          "model_module_version": "1.5.0"
        },
        "6f9af38eecbf43bfb761f7695aafd24a": {
          "model_module": "@jupyter-widgets/base",
          "model_name": "LayoutModel",
          "state": {
            "_view_name": "LayoutView",
            "grid_template_rows": null,
            "right": null,
            "justify_content": null,
            "_view_module": "@jupyter-widgets/base",
            "overflow": null,
            "_model_module_version": "1.2.0",
            "_view_count": null,
            "flex_flow": null,
            "width": null,
            "min_width": null,
            "border": null,
            "align_items": null,
            "bottom": null,
            "_model_module": "@jupyter-widgets/base",
            "top": null,
            "grid_column": null,
            "overflow_y": null,
            "overflow_x": null,
            "grid_auto_flow": null,
            "grid_area": null,
            "grid_template_columns": null,
            "flex": null,
            "_model_name": "LayoutModel",
            "justify_items": null,
            "grid_row": null,
            "max_height": null,
            "align_content": null,
            "visibility": null,
            "align_self": null,
            "height": null,
            "min_height": null,
            "padding": null,
            "grid_auto_rows": null,
            "grid_gap": null,
            "max_width": null,
            "order": null,
            "_view_module_version": "1.2.0",
            "grid_template_areas": null,
            "object_position": null,
            "object_fit": null,
            "grid_auto_columns": null,
            "margin": null,
            "display": null,
            "left": null
          },
          "model_module_version": "1.2.0"
        },
        "948b83a956ca4b1f8cc8d6a932cb9103": {
          "model_module": "@jupyter-widgets/controls",
          "model_name": "DescriptionStyleModel",
          "state": {
            "_view_name": "StyleView",
            "_model_name": "DescriptionStyleModel",
            "description_width": "",
            "_view_module": "@jupyter-widgets/base",
            "_model_module_version": "1.5.0",
            "_view_count": null,
            "_view_module_version": "1.2.0",
            "_model_module": "@jupyter-widgets/controls"
          },
          "model_module_version": "1.5.0"
        },
        "914b6f6d500b43798c8a4829ad3e19fa": {
          "model_module": "@jupyter-widgets/base",
          "model_name": "LayoutModel",
          "state": {
            "_view_name": "LayoutView",
            "grid_template_rows": null,
            "right": null,
            "justify_content": null,
            "_view_module": "@jupyter-widgets/base",
            "overflow": null,
            "_model_module_version": "1.2.0",
            "_view_count": null,
            "flex_flow": null,
            "width": null,
            "min_width": null,
            "border": null,
            "align_items": null,
            "bottom": null,
            "_model_module": "@jupyter-widgets/base",
            "top": null,
            "grid_column": null,
            "overflow_y": null,
            "overflow_x": null,
            "grid_auto_flow": null,
            "grid_area": null,
            "grid_template_columns": null,
            "flex": null,
            "_model_name": "LayoutModel",
            "justify_items": null,
            "grid_row": null,
            "max_height": null,
            "align_content": null,
            "visibility": null,
            "align_self": null,
            "height": null,
            "min_height": null,
            "padding": null,
            "grid_auto_rows": null,
            "grid_gap": null,
            "max_width": null,
            "order": null,
            "_view_module_version": "1.2.0",
            "grid_template_areas": null,
            "object_position": null,
            "object_fit": null,
            "grid_auto_columns": null,
            "margin": null,
            "display": null,
            "left": null
          },
          "model_module_version": "1.2.0"
        },
        "062c22193634467fa7b63f27a09a4198": {
          "model_module": "@jupyter-widgets/controls",
          "model_name": "HBoxModel",
          "state": {
            "_view_name": "HBoxView",
            "_dom_classes": [],
            "_model_name": "HBoxModel",
            "_view_module": "@jupyter-widgets/controls",
            "_model_module_version": "1.5.0",
            "_view_count": null,
            "_view_module_version": "1.5.0",
            "box_style": "",
            "layout": "IPY_MODEL_f224370e9ee645eab47bd2cdd64d276b",
            "_model_module": "@jupyter-widgets/controls",
            "children": [
              "IPY_MODEL_416eedf9130f414eaaf9b7c18109af04",
              "IPY_MODEL_8a68236fe4e44c0db8827d33ec7b4757"
            ]
          },
          "model_module_version": "1.5.0"
        },
        "f224370e9ee645eab47bd2cdd64d276b": {
          "model_module": "@jupyter-widgets/base",
          "model_name": "LayoutModel",
          "state": {
            "_view_name": "LayoutView",
            "grid_template_rows": null,
            "right": null,
            "justify_content": null,
            "_view_module": "@jupyter-widgets/base",
            "overflow": null,
            "_model_module_version": "1.2.0",
            "_view_count": null,
            "flex_flow": null,
            "width": null,
            "min_width": null,
            "border": null,
            "align_items": null,
            "bottom": null,
            "_model_module": "@jupyter-widgets/base",
            "top": null,
            "grid_column": null,
            "overflow_y": null,
            "overflow_x": null,
            "grid_auto_flow": null,
            "grid_area": null,
            "grid_template_columns": null,
            "flex": null,
            "_model_name": "LayoutModel",
            "justify_items": null,
            "grid_row": null,
            "max_height": null,
            "align_content": null,
            "visibility": null,
            "align_self": null,
            "height": null,
            "min_height": null,
            "padding": null,
            "grid_auto_rows": null,
            "grid_gap": null,
            "max_width": null,
            "order": null,
            "_view_module_version": "1.2.0",
            "grid_template_areas": null,
            "object_position": null,
            "object_fit": null,
            "grid_auto_columns": null,
            "margin": null,
            "display": null,
            "left": null
          },
          "model_module_version": "1.2.0"
        },
        "416eedf9130f414eaaf9b7c18109af04": {
          "model_module": "@jupyter-widgets/controls",
          "model_name": "FloatProgressModel",
          "state": {
            "_view_name": "ProgressView",
            "style": "IPY_MODEL_84daaa16b0ab48f8bb2faca47739a5ab",
            "_dom_classes": [],
            "description": "100%",
            "_model_name": "FloatProgressModel",
            "bar_style": "success",
            "max": 3193,
            "_view_module": "@jupyter-widgets/controls",
            "_model_module_version": "1.5.0",
            "value": 3193,
            "_view_count": null,
            "_view_module_version": "1.5.0",
            "orientation": "horizontal",
            "min": 0,
            "description_tooltip": null,
            "_model_module": "@jupyter-widgets/controls",
            "layout": "IPY_MODEL_a6d9ebb8176c48329424dce25df00504"
          },
          "model_module_version": "1.5.0"
        },
        "8a68236fe4e44c0db8827d33ec7b4757": {
          "model_module": "@jupyter-widgets/controls",
          "model_name": "HTMLModel",
          "state": {
            "_view_name": "HTMLView",
            "style": "IPY_MODEL_f2a82eef15144d55805695ea3ae3549a",
            "_dom_classes": [],
            "description": "",
            "_model_name": "HTMLModel",
            "placeholder": "​",
            "_view_module": "@jupyter-widgets/controls",
            "_model_module_version": "1.5.0",
            "value": " 3193/3193 [26:27&lt;00:00,  2.01it/s]",
            "_view_count": null,
            "_view_module_version": "1.5.0",
            "description_tooltip": null,
            "_model_module": "@jupyter-widgets/controls",
            "layout": "IPY_MODEL_24c92ac87e654f5cbc1d47eac3094f5d"
          },
          "model_module_version": "1.5.0"
        },
        "84daaa16b0ab48f8bb2faca47739a5ab": {
          "model_module": "@jupyter-widgets/controls",
          "model_name": "ProgressStyleModel",
          "state": {
            "_view_name": "StyleView",
            "_model_name": "ProgressStyleModel",
            "description_width": "initial",
            "_view_module": "@jupyter-widgets/base",
            "_model_module_version": "1.5.0",
            "_view_count": null,
            "_view_module_version": "1.2.0",
            "bar_color": null,
            "_model_module": "@jupyter-widgets/controls"
          },
          "model_module_version": "1.5.0"
        },
        "a6d9ebb8176c48329424dce25df00504": {
          "model_module": "@jupyter-widgets/base",
          "model_name": "LayoutModel",
          "state": {
            "_view_name": "LayoutView",
            "grid_template_rows": null,
            "right": null,
            "justify_content": null,
            "_view_module": "@jupyter-widgets/base",
            "overflow": null,
            "_model_module_version": "1.2.0",
            "_view_count": null,
            "flex_flow": null,
            "width": null,
            "min_width": null,
            "border": null,
            "align_items": null,
            "bottom": null,
            "_model_module": "@jupyter-widgets/base",
            "top": null,
            "grid_column": null,
            "overflow_y": null,
            "overflow_x": null,
            "grid_auto_flow": null,
            "grid_area": null,
            "grid_template_columns": null,
            "flex": null,
            "_model_name": "LayoutModel",
            "justify_items": null,
            "grid_row": null,
            "max_height": null,
            "align_content": null,
            "visibility": null,
            "align_self": null,
            "height": null,
            "min_height": null,
            "padding": null,
            "grid_auto_rows": null,
            "grid_gap": null,
            "max_width": null,
            "order": null,
            "_view_module_version": "1.2.0",
            "grid_template_areas": null,
            "object_position": null,
            "object_fit": null,
            "grid_auto_columns": null,
            "margin": null,
            "display": null,
            "left": null
          },
          "model_module_version": "1.2.0"
        },
        "f2a82eef15144d55805695ea3ae3549a": {
          "model_module": "@jupyter-widgets/controls",
          "model_name": "DescriptionStyleModel",
          "state": {
            "_view_name": "StyleView",
            "_model_name": "DescriptionStyleModel",
            "description_width": "",
            "_view_module": "@jupyter-widgets/base",
            "_model_module_version": "1.5.0",
            "_view_count": null,
            "_view_module_version": "1.2.0",
            "_model_module": "@jupyter-widgets/controls"
          },
          "model_module_version": "1.5.0"
        },
        "24c92ac87e654f5cbc1d47eac3094f5d": {
          "model_module": "@jupyter-widgets/base",
          "model_name": "LayoutModel",
          "state": {
            "_view_name": "LayoutView",
            "grid_template_rows": null,
            "right": null,
            "justify_content": null,
            "_view_module": "@jupyter-widgets/base",
            "overflow": null,
            "_model_module_version": "1.2.0",
            "_view_count": null,
            "flex_flow": null,
            "width": null,
            "min_width": null,
            "border": null,
            "align_items": null,
            "bottom": null,
            "_model_module": "@jupyter-widgets/base",
            "top": null,
            "grid_column": null,
            "overflow_y": null,
            "overflow_x": null,
            "grid_auto_flow": null,
            "grid_area": null,
            "grid_template_columns": null,
            "flex": null,
            "_model_name": "LayoutModel",
            "justify_items": null,
            "grid_row": null,
            "max_height": null,
            "align_content": null,
            "visibility": null,
            "align_self": null,
            "height": null,
            "min_height": null,
            "padding": null,
            "grid_auto_rows": null,
            "grid_gap": null,
            "max_width": null,
            "order": null,
            "_view_module_version": "1.2.0",
            "grid_template_areas": null,
            "object_position": null,
            "object_fit": null,
            "grid_auto_columns": null,
            "margin": null,
            "display": null,
            "left": null
          },
          "model_module_version": "1.2.0"
        },
        "7a20948200e840f992e823b2f3aac782": {
          "model_module": "@jupyter-widgets/controls",
          "model_name": "HBoxModel",
          "state": {
            "_view_name": "HBoxView",
            "_dom_classes": [],
            "_model_name": "HBoxModel",
            "_view_module": "@jupyter-widgets/controls",
            "_model_module_version": "1.5.0",
            "_view_count": null,
            "_view_module_version": "1.5.0",
            "box_style": "",
            "layout": "IPY_MODEL_e3cdd55e99f648fba2c4c0d492d07718",
            "_model_module": "@jupyter-widgets/controls",
            "children": [
              "IPY_MODEL_8348ffb8a6c54e879ae38ba0da2e3b46",
              "IPY_MODEL_fd271528d8194476a1dc86d863b7b190"
            ]
          },
          "model_module_version": "1.5.0"
        },
        "e3cdd55e99f648fba2c4c0d492d07718": {
          "model_module": "@jupyter-widgets/base",
          "model_name": "LayoutModel",
          "state": {
            "_view_name": "LayoutView",
            "grid_template_rows": null,
            "right": null,
            "justify_content": null,
            "_view_module": "@jupyter-widgets/base",
            "overflow": null,
            "_model_module_version": "1.2.0",
            "_view_count": null,
            "flex_flow": null,
            "width": null,
            "min_width": null,
            "border": null,
            "align_items": null,
            "bottom": null,
            "_model_module": "@jupyter-widgets/base",
            "top": null,
            "grid_column": null,
            "overflow_y": null,
            "overflow_x": null,
            "grid_auto_flow": null,
            "grid_area": null,
            "grid_template_columns": null,
            "flex": null,
            "_model_name": "LayoutModel",
            "justify_items": null,
            "grid_row": null,
            "max_height": null,
            "align_content": null,
            "visibility": null,
            "align_self": null,
            "height": null,
            "min_height": null,
            "padding": null,
            "grid_auto_rows": null,
            "grid_gap": null,
            "max_width": null,
            "order": null,
            "_view_module_version": "1.2.0",
            "grid_template_areas": null,
            "object_position": null,
            "object_fit": null,
            "grid_auto_columns": null,
            "margin": null,
            "display": null,
            "left": null
          },
          "model_module_version": "1.2.0"
        },
        "8348ffb8a6c54e879ae38ba0da2e3b46": {
          "model_module": "@jupyter-widgets/controls",
          "model_name": "FloatProgressModel",
          "state": {
            "_view_name": "ProgressView",
            "style": "IPY_MODEL_241133e5f0a04e88964a8491e7cd6c6a",
            "_dom_classes": [],
            "description": "100%",
            "_model_name": "FloatProgressModel",
            "bar_style": "success",
            "max": 3193,
            "_view_module": "@jupyter-widgets/controls",
            "_model_module_version": "1.5.0",
            "value": 3193,
            "_view_count": null,
            "_view_module_version": "1.5.0",
            "orientation": "horizontal",
            "min": 0,
            "description_tooltip": null,
            "_model_module": "@jupyter-widgets/controls",
            "layout": "IPY_MODEL_7cd76c793e424ec3af8fdd2ee6b5be0b"
          },
          "model_module_version": "1.5.0"
        },
        "fd271528d8194476a1dc86d863b7b190": {
          "model_module": "@jupyter-widgets/controls",
          "model_name": "HTMLModel",
          "state": {
            "_view_name": "HTMLView",
            "style": "IPY_MODEL_2ab5a3f494fa4d61ab669cbb7de5c43a",
            "_dom_classes": [],
            "description": "",
            "_model_name": "HTMLModel",
            "placeholder": "​",
            "_view_module": "@jupyter-widgets/controls",
            "_model_module_version": "1.5.0",
            "value": " 3193/3193 [53:37&lt;00:00,  1.01s/it]",
            "_view_count": null,
            "_view_module_version": "1.5.0",
            "description_tooltip": null,
            "_model_module": "@jupyter-widgets/controls",
            "layout": "IPY_MODEL_6a5b2955c8fb493da175c3e8bc5a8b8a"
          },
          "model_module_version": "1.5.0"
        },
        "241133e5f0a04e88964a8491e7cd6c6a": {
          "model_module": "@jupyter-widgets/controls",
          "model_name": "ProgressStyleModel",
          "state": {
            "_view_name": "StyleView",
            "_model_name": "ProgressStyleModel",
            "description_width": "initial",
            "_view_module": "@jupyter-widgets/base",
            "_model_module_version": "1.5.0",
            "_view_count": null,
            "_view_module_version": "1.2.0",
            "bar_color": null,
            "_model_module": "@jupyter-widgets/controls"
          },
          "model_module_version": "1.5.0"
        },
        "7cd76c793e424ec3af8fdd2ee6b5be0b": {
          "model_module": "@jupyter-widgets/base",
          "model_name": "LayoutModel",
          "state": {
            "_view_name": "LayoutView",
            "grid_template_rows": null,
            "right": null,
            "justify_content": null,
            "_view_module": "@jupyter-widgets/base",
            "overflow": null,
            "_model_module_version": "1.2.0",
            "_view_count": null,
            "flex_flow": null,
            "width": null,
            "min_width": null,
            "border": null,
            "align_items": null,
            "bottom": null,
            "_model_module": "@jupyter-widgets/base",
            "top": null,
            "grid_column": null,
            "overflow_y": null,
            "overflow_x": null,
            "grid_auto_flow": null,
            "grid_area": null,
            "grid_template_columns": null,
            "flex": null,
            "_model_name": "LayoutModel",
            "justify_items": null,
            "grid_row": null,
            "max_height": null,
            "align_content": null,
            "visibility": null,
            "align_self": null,
            "height": null,
            "min_height": null,
            "padding": null,
            "grid_auto_rows": null,
            "grid_gap": null,
            "max_width": null,
            "order": null,
            "_view_module_version": "1.2.0",
            "grid_template_areas": null,
            "object_position": null,
            "object_fit": null,
            "grid_auto_columns": null,
            "margin": null,
            "display": null,
            "left": null
          },
          "model_module_version": "1.2.0"
        },
        "2ab5a3f494fa4d61ab669cbb7de5c43a": {
          "model_module": "@jupyter-widgets/controls",
          "model_name": "DescriptionStyleModel",
          "state": {
            "_view_name": "StyleView",
            "_model_name": "DescriptionStyleModel",
            "description_width": "",
            "_view_module": "@jupyter-widgets/base",
            "_model_module_version": "1.5.0",
            "_view_count": null,
            "_view_module_version": "1.2.0",
            "_model_module": "@jupyter-widgets/controls"
          },
          "model_module_version": "1.5.0"
        },
        "6a5b2955c8fb493da175c3e8bc5a8b8a": {
          "model_module": "@jupyter-widgets/base",
          "model_name": "LayoutModel",
          "state": {
            "_view_name": "LayoutView",
            "grid_template_rows": null,
            "right": null,
            "justify_content": null,
            "_view_module": "@jupyter-widgets/base",
            "overflow": null,
            "_model_module_version": "1.2.0",
            "_view_count": null,
            "flex_flow": null,
            "width": null,
            "min_width": null,
            "border": null,
            "align_items": null,
            "bottom": null,
            "_model_module": "@jupyter-widgets/base",
            "top": null,
            "grid_column": null,
            "overflow_y": null,
            "overflow_x": null,
            "grid_auto_flow": null,
            "grid_area": null,
            "grid_template_columns": null,
            "flex": null,
            "_model_name": "LayoutModel",
            "justify_items": null,
            "grid_row": null,
            "max_height": null,
            "align_content": null,
            "visibility": null,
            "align_self": null,
            "height": null,
            "min_height": null,
            "padding": null,
            "grid_auto_rows": null,
            "grid_gap": null,
            "max_width": null,
            "order": null,
            "_view_module_version": "1.2.0",
            "grid_template_areas": null,
            "object_position": null,
            "object_fit": null,
            "grid_auto_columns": null,
            "margin": null,
            "display": null,
            "left": null
          },
          "model_module_version": "1.2.0"
        }
      }
    },
    "accelerator": "GPU"
  },
  "cells": [
    {
      "cell_type": "markdown",
      "metadata": {
        "id": "view-in-github",
        "colab_type": "text"
      },
      "source": [
        "<a href=\"https://colab.research.google.com/github/All-Natural/python/blob/master/1_Speech_LSTM.ipynb\" target=\"_parent\"><img src=\"https://colab.research.google.com/assets/colab-badge.svg\" alt=\"Open In Colab\"/></a>"
      ]
    },
    {
      "cell_type": "markdown",
      "metadata": {
        "id": "HfDVGhsCYWKx"
      },
      "source": [
        "# Speech-to-text with RNN\n",
        "\n",
        "\n",
        "\n",
        "![alt text](https://miro.medium.com/max/556/1*NhOH4X9wKWfO6o8faYFf-w.png)\n",
        "\n",
        "Source: UCA 2019 Deep Learning School lab by Frederic PRECIOSO, Baptiste POUTHIER and Federico UNGOLO."
      ]
    },
    {
      "cell_type": "markdown",
      "metadata": {
        "id": "RBNioI7dZNWg"
      },
      "source": [
        "# Introduction\n",
        "\n",
        "In this example, we are going to use RNN to do some Speech Recognition. \n",
        "\n",
        "Nowadays, speech recognition is a common task present in smart home assistants (Amazon Echo, Google Home), phones, TVs... Most of the time, it is done using deep learning.\n",
        "\n",
        "## What you will learn\n",
        "\n",
        "- The different kinds of RNN (RNN, LSTM, GRU...)\n",
        "\n",
        "- How to load and process audio data in PyTorch\n",
        "\n",
        "- How to implement an RNN in PyTorch\n",
        "\n",
        "- How to create a confusion matrix\n"
      ]
    },
    {
      "cell_type": "markdown",
      "metadata": {
        "id": "x9M96xtPSw2g"
      },
      "source": [
        "## RNN\n",
        "\n",
        "Recurrent Neural Networks are a kind of Neural Network used to process **sequences** of data.\n",
        "These sequences can be of varying length and usually have some context information.\n",
        "\n",
        "For example, sentences (text), audio, videos have some temporal logic. In a sentence, one word depends on the word that comes before it. In a video, one frame probably looks a lot like the previous frames.\n",
        "\n",
        "RNNs have some kind of **persistence** of information during the processing of a sequence. Thus, RNNs are used for lots of things: sentiment analysis, text completion, speech recognition, etc.\n",
        "\n",
        "![alt text](https://www.researchgate.net/profile/Weijiang_Feng/publication/318332317/figure/fig1/AS:614309562437664@1523474221928/The-standard-RNN-and-unfolded-RNN.png)"
      ]
    },
    {
      "cell_type": "markdown",
      "metadata": {
        "id": "y4K3YG1Dxml6"
      },
      "source": [
        "## LSTM (Long Short-Term Memory) and GRU (Gated Recurrent Unit)\n",
        "\n",
        "**RNN Short-term memory problem:**\n",
        "\n",
        "*   Recurrent Neural Networks suffer from short-term memory. If a sequence is long enough, they’ll have a hard time carrying information from earlier time steps to later ones. So if you are trying to process a paragraph of text to do predictions, RNN’s may leave out important information from the beginning.\n",
        "\n",
        "*  During back propagation, recurrent neural networks suffer from the vanishing gradient problem. Gradients are values used to update a neural networks weights. The vanishing gradient problem is when the gradient shrinks as it back propagates through time. If a gradient value becomes extremely small, it doesn’t contribute too much to the learning.\n",
        "\n",
        "**As solution to short-term memory, LSTM and GRU were created:**\n",
        "\n",
        "*   LSTM was introduced by this [article](https://www.bioinf.jku.at/publications/older/2604.pdf).\n",
        "*   GRU was introduced by this [article](https://arxiv.org/pdf/1412.3555.pdf).\n",
        "\n",
        "Both are **Reccurent Neural Network (RNN)** architectures which were created as the solution to short-term memory. They have internal mechanisms called gates that can regulate the flow of information. \n",
        "\n",
        "![alt text](https://www.mdpi.com/energies/energies-13-00147/article_deploy/html/images/energies-13-00147-g008.png)\n",
        "\n",
        "\n",
        "\n",
        "\n",
        "\n",
        "\n",
        "\n"
      ]
    },
    {
      "cell_type": "markdown",
      "metadata": {
        "id": "bMak8L4YEtmq"
      },
      "source": [
        "These gates can learn which data in a sequence is important to keep or throw away. By doing that, it can pass relevant information down the long chain of sequences to make predictions.\n",
        "\n",
        "**LSTM**\n",
        "\n",
        "The LSTMs does have the ability to remove or add information to the cell state, carefully regulated by structures called gates.\n",
        "\n",
        "*   the **cell state** make easy for the information to pass through the cell by combining the cells decisions\n",
        "*   the **forget gate** decides what information should be thrown away from the cell state\n",
        "*   the **input gate** decides which values we'll update using sigmoid ; it's combined with a tanh layer to create an update to the state\n",
        "*   the **output gate**, based on the celle state, output a filtered information\n",
        "\n",
        "**GRU**\n",
        "\n",
        "The GRU is a modified version of the LSTM. It combines the forget and input gates into a single “update gate.” It also merges the cell state and hidden state, and makes some other changes. The resulting model is simpler than standard LSTM models, and has been growing increasingly popular.\n",
        "\n"
      ]
    },
    {
      "cell_type": "markdown",
      "metadata": {
        "id": "uOHdDmVzDDIZ"
      },
      "source": [
        "## Libraries\n",
        "\n",
        "Since we are working with PyTorch and sounds, we are going to use *torchaudio* instead of *torchvision*, this time.\n",
        "\n",
        "Make sure you are using a GPU Runtime! (Runtime -> Change Runtime type)"
      ]
    },
    {
      "cell_type": "code",
      "metadata": {
        "id": "ui0IUVuRZCc8",
        "colab": {
          "base_uri": "https://localhost:8080/"
        },
        "outputId": "d685b00c-5e74-4b77-f97a-3f2fe88fa9a0"
      },
      "source": [
        "!pip install torchaudio"
      ],
      "execution_count": null,
      "outputs": [
        {
          "output_type": "stream",
          "text": [
            "Collecting torchaudio\n",
            "\u001b[?25l  Downloading https://files.pythonhosted.org/packages/2a/f9/618434cf4e46dc975871e1516f5499abef6564ab4366f9b2321ee536be14/torchaudio-0.7.2-cp36-cp36m-manylinux1_x86_64.whl (7.6MB)\n",
            "\u001b[K     |████████████████████████████████| 7.6MB 21.8MB/s \n",
            "\u001b[?25hCollecting torch==1.7.1\n",
            "\u001b[?25l  Downloading https://files.pythonhosted.org/packages/90/4f/acf48b3a18a8f9223c6616647f0a011a5713a985336088d7c76f3a211374/torch-1.7.1-cp36-cp36m-manylinux1_x86_64.whl (776.8MB)\n",
            "\u001b[K     |████████████████████████████████| 776.8MB 24kB/s \n",
            "\u001b[?25hRequirement already satisfied: numpy in /usr/local/lib/python3.6/dist-packages (from torch==1.7.1->torchaudio) (1.19.5)\n",
            "Requirement already satisfied: dataclasses; python_version < \"3.7\" in /usr/local/lib/python3.6/dist-packages (from torch==1.7.1->torchaudio) (0.8)\n",
            "Requirement already satisfied: typing-extensions in /usr/local/lib/python3.6/dist-packages (from torch==1.7.1->torchaudio) (3.7.4.3)\n",
            "\u001b[31mERROR: torchvision 0.8.1+cu101 has requirement torch==1.7.0, but you'll have torch 1.7.1 which is incompatible.\u001b[0m\n",
            "Installing collected packages: torch, torchaudio\n",
            "  Found existing installation: torch 1.7.0+cu101\n",
            "    Uninstalling torch-1.7.0+cu101:\n",
            "      Successfully uninstalled torch-1.7.0+cu101\n",
            "Successfully installed torch-1.7.1 torchaudio-0.7.2\n"
          ],
          "name": "stdout"
        }
      ]
    },
    {
      "cell_type": "code",
      "metadata": {
        "id": "f31ZpwzCY-dz"
      },
      "source": [
        "from IPython.display import Audio\n",
        "\n",
        "## PyTorch things\n",
        "import torch\n",
        "import torchaudio\n",
        "import torch.nn.functional as F\n",
        "\n",
        "## Other libs\n",
        "import matplotlib.pyplot as plt\n",
        "import glob\n",
        "import os\n",
        "import random\n",
        "from tqdm import tqdm_notebook\n",
        "import torchsummary\n",
        "import numpy as np\n",
        "from sklearn.metrics import confusion_matrix\n",
        "from sklearn.preprocessing import normalize\n",
        "import pandas as pd\n",
        "import seaborn as sn"
      ],
      "execution_count": null,
      "outputs": []
    },
    {
      "cell_type": "markdown",
      "metadata": {
        "id": "6JnFUmXxYiGt"
      },
      "source": [
        "# Part 1: Working with audio data\n",
        "\n",
        "The dataset we are using is Google's Speech Dataset (https://ai.googleblog.com/2017/08/launching-speech-commands-dataset.html).\n",
        "\n",
        "It is composed of **\"65,000 one-second long utterances of 30 short words, by thousands of different people\"**.\n",
        "\n",
        "Let's download the dataset:"
      ]
    },
    {
      "cell_type": "code",
      "metadata": {
        "id": "S1nRgZsWYbxc",
        "colab": {
          "base_uri": "https://localhost:8080/"
        },
        "outputId": "d8e21b13-17d8-4de7-d405-6e210c4b050b"
      },
      "source": [
        "!rm -rf ./*\n",
        "!wget -O speech_commands_v0.01.tar.gz http://download.tensorflow.org/data/speech_commands_v0.01.tar.gz\n",
        "!tar xzf speech_commands_v0.01.tar.gz \n",
        "!ls"
      ],
      "execution_count": null,
      "outputs": [
        {
          "output_type": "stream",
          "text": [
            "--2021-02-06 08:42:30--  http://download.tensorflow.org/data/speech_commands_v0.01.tar.gz\n",
            "Resolving download.tensorflow.org (download.tensorflow.org)... 172.217.164.144, 2607:f8b0:4004:814::2010\n",
            "Connecting to download.tensorflow.org (download.tensorflow.org)|172.217.164.144|:80... connected.\n",
            "HTTP request sent, awaiting response... 200 OK\n",
            "Length: 1489096277 (1.4G) [application/gzip]\n",
            "Saving to: ‘speech_commands_v0.01.tar.gz’\n",
            "\n",
            "speech_commands_v0. 100%[===================>]   1.39G   124MB/s    in 11s     \n",
            "\n",
            "2021-02-06 08:42:41 (129 MB/s) - ‘speech_commands_v0.01.tar.gz’ saved [1489096277/1489096277]\n",
            "\n",
            "_background_noise_  go\t     on\t\t\t\t   testing_list.txt\n",
            "bed\t\t    happy    one\t\t\t   three\n",
            "bird\t\t    house    README.md\t\t\t   tree\n",
            "cat\t\t    left     right\t\t\t   two\n",
            "dog\t\t    LICENSE  seven\t\t\t   up\n",
            "down\t\t    marvin   sheila\t\t\t   validation_list.txt\n",
            "eight\t\t    nine     six\t\t\t   wow\n",
            "five\t\t    no\t     speech_commands_v0.01.tar.gz  yes\n",
            "four\t\t    off      stop\t\t\t   zero\n"
          ],
          "name": "stdout"
        }
      ]
    },
    {
      "cell_type": "markdown",
      "metadata": {
        "id": "k1OEu9nuSgWV"
      },
      "source": [
        "Let's print the different classes (words) that are part of this dataset.\n",
        "\n",
        "We can see there are 30 different words."
      ]
    },
    {
      "cell_type": "code",
      "metadata": {
        "id": "CedTjPtSaT7K",
        "colab": {
          "base_uri": "https://localhost:8080/"
        },
        "outputId": "4dc309ea-6ed7-4891-8ac1-55aad2569ab6"
      },
      "source": [
        "classes = os.listdir()\n",
        "classes.remove(\"LICENSE\")\n",
        "classes.remove(\"README.md\")\n",
        "classes.remove(\"_background_noise_\")\n",
        "classes.remove(\"speech_commands_v0.01.tar.gz\")\n",
        "classes.remove(\"testing_list.txt\")\n",
        "classes.remove(\"validation_list.txt\")\n",
        "classes.remove(\".config\")\n",
        "print(classes)\n",
        "print(\"Number of classes\", len(classes))"
      ],
      "execution_count": null,
      "outputs": [
        {
          "output_type": "stream",
          "text": [
            "['five', 'on', 'sheila', 'up', 'house', 'go', 'bird', 'tree', 'left', 'stop', 'marvin', 'dog', 'no', 'wow', 'two', 'one', 'three', 'nine', 'off', 'yes', 'four', 'seven', 'cat', 'right', 'eight', 'down', 'zero', 'happy', 'six', 'bed']\n",
            "Number of classes 30\n"
          ],
          "name": "stdout"
        }
      ]
    },
    {
      "cell_type": "markdown",
      "metadata": {
        "id": "4tMAntg5cA5h"
      },
      "source": [
        "## Q1: Listen to some samples\n",
        "\n",
        "Using the **Audio(filename)** function from IPython notebook, you can listen to an audio file directly in Colab.\n",
        "\n",
        "Try it on some samples!"
      ]
    },
    {
      "cell_type": "code",
      "metadata": {
        "id": "h2zMtc99iHJY",
        "colab": {
          "base_uri": "https://localhost:8080/",
          "height": 74
        },
        "outputId": "737bc01d-e4bf-4b91-c4ec-961513ec7d9d"
      },
      "source": [
        "Audio(\"bed/1528225c_nohash_2.wav\")"
      ],
      "execution_count": null,
      "outputs": [
        {
          "output_type": "execute_result",
          "data": {
            "text/html": [
              "\n",
              "                <audio controls=\"controls\" >\n",
              "                    <source src=\"data:audio/x-wav;base64,UklGRiR9AABXQVZFZm10IBAAAAABAAEAgD4AAAB9AAACABAAZGF0YQB9AAACAAUACQAEAAQACAAHAAcABwADAAUABAAFAAUAAgAFAAUABAAIAAMACQAMAAoADQAJAAkACwAHAAcACQAHAAcACwAJAAgABwAKAAoABgAKAAkABgAEAAYABQADAAcABgAFAAUABgAJAAgAAwABAAgADAABAAIABgACAAcACAAFAAgACwAIAAkACgAHAAkABwAJAAsABAAGAAYABAALAAoACwANAAkACQAKAAkABwAJAAwACwAJAA0ACQAFAAoACQAJAAUACgAKAAgADAAOAAwACQAIAAMACAAOAAwACwAMAA0ACwAIAAcAAwAIAA8ACwAKAAsABwADAAEAAwAHAAkACAAHAA4ABwAHAAkACgAMAAMABQAHAAYABgAGAP//AgAGAAIABQAFAAIA/v8CAAYAAwD//wAAAAD//wEAAAAAAAEA/v8AAP//AAACAP7/AgADAAEAAgABAAAAAAABAAMAAwAAAP////8AAAAAAQAAAAAA///9//7//v/+/////v/9//3////8//r//P////3/+f/6//n/+f/5//n/+//8//3//P/9//3/+//8//v//f/8//v/+//6//v/+v/6//f/9//5//b/+f/4//f/9P/3//n/9P/8//v/+f/5//X/9f/z//L/8//3//H/9f/4//H/9P/2//X/9v/1//P/8f/z//L/8f/w//D/8//z//T/+P/y/+z/8P/z//H/8f/z//H/9f/x/+7/7//v/+v/7P/y/+3/6//v/+7/7P/s/+7/8v/x//L/8P/u/+//7f/z//P/8v/0//H/8v/x/+//9v/z//L/9P/w//D/8P/v//L/9P/2//P/8f/4//X/9P/y//D/9//0//P/9P/x//f/8v/2//f/8//5//n/9v/2//T/9v/4//f/+P/7//v/9v/5//r//P/+//v/+f/3//r/+v/6//v//f/4//j/+//4//z/+//+//v/+f/7//X/+v/5//v/+//6//v/+P////7//f8BAP7//f/+//z///8BAAAAAAD+/wAAAQAAAP3//f/+//z/+//8//3//P/9//7//f/3//r/AAD9//z//f8BAAEA/v/+////AAABAP//AgADAAAABQAFAAIABAADAAQABgAFAAMABQAFAAEAAQADAAYABgAEAAMABQAEAAMABQABAAIABQAEAAIAAQABAAAAAAABAAAAAAAAAAUABwADAAIAAQABAAEAAQABAAEAAQAHAAkAAQAGAA0ACQAIAAkAAwADAAQABwAHAAMABQAEAAUABQADAAMAAgACAAIABAADAAAAAwAAAAAAAgABAAIAAgADAAQABgAJAAgABwAJAAkABwAIAAYACgAHAAYABQABAAUABgAEAAcABwAIAAwACQAJAAsACAAHAAYABAAAAAMACAAHAAYABQAFAAkACAADAAUACAAGAAUACQAHAAkACwAJAAoACgAKAAkADQAOAAYACwAPAAkADQAOAAwADwARAA8ACQANAA8ADAANAAkADAAPAAoADQAOAA4ACwAIAAgACQAMAAoACgALAAgACgAMAAoABwALAAwADAARAA0AEAAPAAwACwAIAA8ADgAKAAoACQALAAgABgAKAAkACQAIAAMACAALAAgACQAKAAcABAAHAAsAAwAEAAgABgAKAAYACAAIAAMABgAHAAYAAwAFAAgACAAKAAcABgAMAAcABAAGAAcABwAGAAcACQAIAAkABgAFAAgABAAFAAkABwAHAAcABQAHAAcABgAJAAYAAQADAAMABgAIAAMABQAFAAUABwAFAAQAAgABAAUABQACAAIAAwAEAAAAAwAFAAIABQAEAAIAAwABAAYABAADAAQA/v8AAP////8AAP///v/9//7//f/9//7/AAABAAEABwAFAAEAAwABAAIAAwAAAAUABAABAAQAAgACAAIAAwAEAAAAAQACAAAAAQAAAAQAAgAAAAMAAwABAAIAAQAAAAAA+//+/////f/9//7//f/7//3//v////7//v/8//v//f/+/wAA/v////7//f////3////+/////v/+/wAA/f/8/////f/8//z/+v/8//3//f/6//r/+v/4//v/+//6//n/+f/4//n/9v/5//3/+f/8//v/+P/4//n/+f/5//j/9f/6//3//P/6//r/+f/6//j/+v/9//f/+v/5//v/+f/2//n/+f/8//j/9//4//j/+//5//3/+v/5//j/9P/3//j/+v/6//r/+v/7//z/+P/8//3/+P/4//f/+//8//v/+//+//7//v8AAP7//v///wEAAgD9//7//f///////v////3///8BAP7/AAAAAP3/AAACAP///////wIAAQAAAAQAAgAEAAIAAQACAAEAAQD//wIABQACAAMAAQAEAAYABgAJAAQAAwADAAAAAwAEAAIAAgACAAQAAgABAAAAAQADAAIABwAEAAMABwACAAcABwD+//7///8EAAUAAgACAAAAAgAGAAgABwAGAAYABQAFAAIABgADAAEABgACAAIAAgAAAAEA/v/+/wAAAQD//wAAAwABAP///v8BAAAAAQAGAAMAAQAEAAUAAwAEAAMABQAGAAEAAQAFAAMAAAD///3/AgAAAP7/AAD9//7//v/9//z/+v/8//v/+/////7/+//6//3//P/6//3//v///wAA/v8AAP/////+//7/AQABAAMAAAD+/wAA/f8AAAEA/v8AAAAAAAABAP//AAABAP3/AAABAP///v/+/wAA/P/7//3////+//z////+//7/+P/6////+//9//7/+//6////AAD9//7////+//v//f/9//v//P/8//3/+v/9////+//8//n/+v/7//j/9f/3//v/+//6//X/9f/4//n/9f/1//n/9v/3//v/+v/6//z//f/8//n/+v/6//v/+v/6//z/+v/8//n/+v/8//7//////////f/8//z//f/7//f/+f/7//r/+P/5//r/+P/2//T/9P/2//b/9//3//X/9P/6//j/+f/5//f/+v///wAA+v/6//r/+P8AAPz/+P/7//b/+f/2//j/AQD4//j/9//4//3/+f/8//n/+f/2//f/+f/x//L/9P/1//n/9//y//b/9f/w//P/9f/z//T/9v/y//f/9//0//j/9P/1//X/9f/0//X/+f/1//j/9//3//X/8f/z//H/8f/z//X/9P/z//D/7v/x//H/8//y//P/9P/w//H/8P/u//P/9P/4//f/9P/1//H/9//0//r/+P/w//j/9f/1//T/9P/1//L/8//w//b/+f/0//T/8//w//P/8f/y//T/8f/7//b/7//2//X/8v/1//r/+v/4//n//v/+//3/+//7//7//f/+//7///8CAAIAAAABAAAA/v8AAP7/AAD/////AQABAAAA//8AAAAAAAAAAAIAAQAAAAEAAQABAAIAAgACAAUABAAEAAYAAQAEAAUAAwAJAAkABwAIAAcABwAEAAgACQAEAAcABgACAAUABQAGAAUAAgAFAAMABQACAAEABAADAAcABQAHAAgACAAJAAUACAAJAAMABAAGAAcABwAFAAcABQAKAAgABgAKAAUABQAHAAYAAwAJAAkABgADAAIABwAEAAQABwAHAAYABAAIAAkABwAFAAkACAAGAAcABAAEAAUABQAHAAUABAACAAUABQAFAAkABQABAAUADQANAAsACgAMAAwACAAKAAUABQAHAAUABAADAAkABQAHAAwABQAGAAUABgAPAAoABwAEAAIABgAEAAYACAAGAAcABgAEAAQACAAFAAUACgAEAAMABAAFAAgABgAGAAcABgAJAAkABwAHAAUABQAFAAIAAgABAAEABAABAP//AAABAAEAAQABAAAAAAAAAAEAAAD+////AAADAAMA/////wAAAQABAAEAAgAAAAEAAgACAAIAAQACAAIAAgABAAIAAQD//wIAAgACAAMAAgAAAAIAAAD//wEAAQAAAAAA/v/+/wEAAAAAAAIAAAACAAMAAQADAAIAAQABAAEAAQAAAAMAAgABAAAA//8BAAAAAAAAAP//AAD+//7//v/8//3///8AAP7////8//z////9//v//v///////v/+/wAAAAAAAP//AQAAAAEAAgABAAIAAgABAP////8AAP7//v8DAAAA/v////7///8BAAIA///8//3////+////AAD+/wAA/f/8////AAD//wEAAwADAAMAAQACAAMAAwACAAMAAgACAAYABgACAAMACQAFAAEAAwAEAAQAAQAEAAIABAAEAAAAAgABAAEABAABAP3///8BAAAA//8BAP///v////3//v/+//7/AQD//wIAAgABAP7//P8BAAIAAAAAAP///////wEAAAD///3//v8AAAAA/v/9//3/+//+//3/+f/7/wAA///7//3///8AAAEA/////wAAAAACAAIABAACAP//AgABAP//AgABAAEAAgABAAIAAQAAAAUAAQAAAAEAAAACAAEAAgABAP//AAABAAAA//8DAAQA//8AAAEAAgACAAIABAABAP//AwACAAAAAwAGAAUABAAEAAUABAAIAAYABgALAAcACgANAAoADQAIAAIACAAFAAIABQAKAAcAAQAFAAUABAACAAQAAwACAAkAAgACAAYAAQADAAEABAAGAAEABgAJAAsACAAIAAoABwAKAAgACQAKAAcACgAKAAwADgALAAoACgAGAAoADAAGAAgACgALAAwABAADAAcABwALAAwACwAKAA0ADQAHAAsADAAIAAsACgALAA0ADQALAA8AEAANABIAEgASAA0AEQAWABAADwASABAAEgAUABIAEgAPAA4AEAAQABAAEAANAAsACQAMAA0ADAAOAAoABgAMAA0ACQANAA4ACwAPAA4ACgAMAAwAEQAMAAoADwAPAA8AEAAPAA0ACwANABEADQAMAAwACQAMAAcABAAMAAwACgANAAoABgALAAsACAALAAgADAALAAcACwAKAAwACQAHAAoACQAGAA8AEgAMABMADgALABAADAAOAAkABwALAAoADQAOAAkADAANAAgACQAEAAIABgAIAAEAAAAKAAgABgAHAA0ACwAHAA4ACQAEAAYABwAKAAcABAAFAAYABAAFAAMABAAHAAMAAQACAAEAAwAFAAAAAAD+////AQD//wMAAQD+/wAA//8BAAAAAAD+//n/+v/9//z/+v/6//v//v/6//n/+f/6//z/+v/6//z/+//8//7/+//7//j/9//6//r/+f/7//r/+P/6//j/9v/1//P/9//0//f/+P/z//f/9f/2//P/8P/2//T/8v/w//P/9P/1//T/8f/y//L/8//y//T/9f/z//T/8v/z//b/8//y//D/8v/v//H/8f/s//P/7v/x//X/8P/s/+r/7P/s/+r/6//v/+3/7v/x/+v/7f/u//D/7f/o//D/8P/u/+r/7v/t/+r/9v/w/+//9f/y/+3/6v/v//D/7P/q/+7/7v/w/+7/7f/x/+r/8f/x/+n/7f/q/+v/7v/t/+v/7f/w/+v/6//u/+3/6f/v//H/7v/v/+r/8P/u/+3/9f/x//H/8f/w/+//7//x//D/7f/v//D/8P/u/+//8P/u/+7/7v/w/+7/7//w/+//7v/r/+//9P/v//D/9P/x//P/8f/w//f/9P/1//b/8v/1//L/8f/0//P/8//0//f//P/5//f/+P/4//f/9P/1//T/+P/4//b/+P/4//X/8//3//f/+P/8//r/9//6//v/+P/7//v//P/8//3//v/6//v////2//f//P/9////+//8//3//v/9////+v/4/wEA/P/7/wAA/P/6//3//v/8//7//P/6//3//P/+//z/+v/9//r//P/7//z/+f/5//3//P/+//7//v///wAA/f/+/wAA/f8BAP///v///wAA///+/////v///wEAAQAAAP//AQD6//v////8//z//P/7//z//v/7//3//v///wAA//8AAP7//f8BAP7//f////v//v/+////AAD+////AAABAP7/AAAAAAAAAAABAAAA/f8AAP///f/+//3////+//7//f/9//3//P////3//f/8//z/AAD9/wAA///+/wAA/v///wAA//8AAAAA//////////8AAAIAAAABAAQAAgADAAYAAwACAAMAAgADAAMAAgACAAIAAgABAAIABAABAAUABAAAAAIABAABAAEABAADAAQAAgABAAMAAgABAAEABAAFAAQABQAFAAcACAAGAAkACAAIAAkACgAJAAYACAADAAMABgADAAIAAwADAAQABQAGAAYABAAFAAIAAQADAAMABQAEAAMAAgABAAMAAgAFAAUAAwAGAAIAAwAGAAEAAQACAAEAAQABAAAAAQAAAAEAAQAAAAAAAAD8//3/AAD9//3//P//////+P/+/wAA/v8BAAAA//////7//v////7//P/+/wAAAAD+//7////+//3//P/+//3//f/+//r//f/7//z//P/8//3/+v/+//v///8BAP3//v/9/wAA///+//3//v8AAP7//f/8////AAD//wAAAQAAAAAA/v/8//3/AAAAAPz/+f/3//v//P////7/+f/7//n/+v/5//f//f/8//3//v/9//n/9//5//f/+f/6//j/9//2//P/+P/8//f/+f/+//n/+P/8//b/9//3//b/+f/7//v/+P/7//v/+//6//3/AAD9//3/9f/2//j/9v/4//j/9v/6//z/+v/9//T/9f/9//n/+P/4//n/9//4//n/+f/4//b/+v/5//b/9f/1//v/9f/4//j/+f/9//r/+v/z//b/9v/1//f/+P/6//f/9P/1//r//v/4//T/+P/2//n/+v/4//f/8v/4//n/+P/8//X/9f/7//j/+P/5//P/+v/8//b/+v/1//v/AwD6//v//P/6//7/+P/2//n/+P/9//v/9v/6//j//f/9//v/+v/2//n/+//8//z//f///////P///wAAAAAAAP//AAD9/wAA/P/9/wEA/f8AAAEA/v///wAA/v/9//v///8EAP///v/8//v/AAAAAAAAAAD//wEAAQD+//z/+/8BAAMAAQABAAAA/////wEAAQABAAMAAQABAAQABQAEAAQAAwACAAIAAwABAAEAAwADAAMAAQADAAIAAQABAAAAAAABAAIAAgABAAEAAwACAP///v8CAAYAAQADAAYABAAEAAMABQADAAYABgAFAAgABAAFAAQABQAIAAYABgAEAAcABQAEAAYABAADAAQABgAFAAQAAwACAAUAAQADAAYAAgACAAMAAgAEAAMAAgAEAAMAAgADAAQABAABAAMABQAEAAQABAAFAAIAAQABAAIAAAAAAAEA//8CAAEAAgABAAAAAAD///////8BAP///v8AAP//+//+//3//P/9//3//v/6/wAA///9//7//P8BAP//AQD+//z//f/9//3/+f/5/////P/5//r/+f/8//n/+P/9//7/AAD+//3//f/+//r/9//7//n/+v/7//b/+P/9//z//P/+//r/+f/4//j//P/8//v//f/+/////P/9//////////////8AAAEA//8AAAAAAAD+////AQD+/wEAAAD+/wIA//8CAAEA/////wAA///9/wAA/v8BAP///f////3///8AAAIAAwACAAIAAAAAAAEA//8AAAQABAACAAQABAAEAAYACAAFAAYABAADAAoABAAAAAQABgADAAcABQD+/wYAAQABAAQAAgABAP7/AQAAAAMAAgD+/wAAAAD//wAAAgACAAIAAQADAAMAAAAAAAAAAQABAAIAAgABAAEAAQABAP7///8BAP7/AAAAAAEABAAAAAIAAQD+/wEAAgACAAEAAAABAAEAAgAEAAMABAAHAAQABwAIAAYABwAKAAgABgAFAAYADAANAAcABwAMAAgABwAIAAcABwALAA8ADgAKAAgACgAJAAkADAAEAAYACwAKAAwACAANAA8ADQAPAAwADAAMAA4ADgAJAA0ADgAMAA4AEQANAAUABwAKAAkACAAMABIAEAAMAA4ADwAJAAkACwAMAAcACwAPAAkACQALAAsACgAJAAoACQAKAAsABQAEAAQACQAMAAwABgABAAQAAwAJAAsAAwADAAgAAwADAAUABQAAAAAABgAFAAIABAAFAAEABgAHAAUABAAEAAgABQAKAAgAAQAGAAQAAQAFAAMABAAJAAUABAAGAAMABgAEAAIABQABAAQA//8EAAcAAAAFAAAAAgACAAAAAwACAAEAAgABAAIABAADAAEAAQACAAQABQAEAAEABAAFAAgABwAHAAQAAQAIAAUABgAFAAQABAACAAUABgAFAAUAAQADAAMAAQACAAAAAQD///////8AAP////8CAP////8AAPv//P///wAAAAD9/////////wEAAgD/////AAD+/wAA/v///wAA/v/+/////P/5//r/+//7//n/+//7//b/9f/1//b/8//z//b/+P/5//j/+//3//n/+f/1//j/9f/4////+P/z//b/+//7//v/+//9//7/+//7//7/AAAAAP7/+v/4//f/+v/3//X/9//z//f/+P/3//r/+P/2//f/9v/1//T/+P/4//X/9//3//v/9//4/wAAAAD8//r//f/+//z/+v/9//v/+f/9/////v/9///////+//v/+v/+/////P/+/wAA/v/9//7/AAD7//r/+P/2//j/+P/5//f/+v/5//n//P/2//n/+//8//v/+P/7//j//P/8//n/+f/4//r/+//5//v//v/6//v/+P/4//n/9P/1//f/9f/2//X/+f/6//f//f/2//T/9f/0//r/9P/y//j/+v/2//b/+v/2//n/+v/4//z/+v/8//r/+v/+//r//f/7//r/+//4//j/9//3//j//P/5//n/+//8//n/+//5//X/+//3//X/9v/7//r/9v/6//r/9v/0//f/+P/3//f/9//1//X/9v/3//T/9f/3//r/+//7//v/+v/+//z//v/7//j/+//8//r/+v/6//f/+//+//z/9v/7//7//f/+/wAA/f///wAA///+//z///////7/AAD//wEAAAD8/////P/7////AQACAAAA/v8AAP///v8BAP7////+//7/AgAAAAAA//////3//v/9//r////8//3/AAAAAAAA//8BAP7///8BAP//AQD9//3/AwAAAP7/AAABAP7//f/6//3/AAD7//z//P/7//7//v/8//v/+//7//7///8BAAMAAgD/////AQD//wIAAwACAAQAAQACAAMAAgAEAAEAAgAEAAIAAgAEAAUAAwAEAAcABwAGAAYABwAGAAgADgAOAAkACQAOAAsACQANAAoACQAJAAoACgANABQACgAMAA4ACgALAAkACQAHAAkACwALAA0ADAALAAoACAALAAsACQALAAsABQD//wYADAAFAAEAAwAFAAYABAAFAAcACgAIAAcACQAMAA8ACgANAA8ACgAMAAoADQAMAAoAEAAQAAwACgAKAAkACAAJAAgABQAFAAYABgAHAAQABwALAAoACQAHAAgABgAAAAYACQAGAAoACwAKAA0ACwANAA0ADwATAA4ADQAJAAwADAALAA8ADQAPAA0ACQAJAAgABgALAAkABgAHAAYACAAGAAYABQAEAAIA//8BAAQABAACAAMABAAEAAQABQAHAAkACwAIAAcACAAHAAgABgAGAAoABgAGAAsACAAGAAcABQADAAYABwACAAQABwAFAAQABAACAAUABwADAAIAAAABAAIABQAJAAIABgAJAAkABwADAAcABQAMAAkABgAOAA0ABwAEAAoADgALAAkABwADAAkABgAJABAACAAJAAcABQAJAAUACwAIAAIACAAEAAcABwAFAAkABgAJAAcABgAJAAUACAAFAAYADQAGAAYACAAIAAUABQAKAAUABgAKAAUABgANAAgABgAIAAcABwAIAAgABAAEAAQABgADAAEABAAEAAUABAAHAAcABgALAAsACgAFAAoACgAHAAsACQANAAsACgAKAA4ADQAKAAsACwALAAcACgAIAAwACwAGAAsACQAFAAYABQAHAAcABwAFAAgACAAKABAACAAHAAsABwAGAA4ADgANAA8ACgAPABEAEAAUAA8ADgAPAA8AEAAOAA8ADQANAAQABwALAAcACQAIAAkABwAEAAMA/f///wMAAQABAAMACAAIAAgACAAFAAQABgAIAAMABQAFAAcABAD+/wUABgAFAAUAAwACAAAABgACAP//BgACAAIABAD9/wAA///8//7/+//7//7//v/+//3/+//8//v//P/5//j//P/8//z/+//8//3//P/+//7////+/////v/9//3//P/+//r/+v/6//v/+//4//r/+//8//n/9f/z//L/9f/y//f/9//0//f/+//8//n/9//3//r/+P/3//b/9v/1//P/+P/4//j/9//z//b/9f/0//j/+f/4//j/9//1//r/+P/0//f/9//3//X/9//5//T/8f/0//b/+f/9//j/+P/6//n/+//5//r/+v/7//3//f////7//f/+//7//f////3/+//8//3/AgABAP//AAD+//7//v/+//3/+v/6//z//P/6//j/9//5//3/+f/4//r/9//5//v/+v/6//z/+//7//z/+P/5//7//f////z/+//5//z////7//r//P/+//r//P/9//7//P/5//n/+v/8//v/+//6//z//f/9//3//v/+//z//P/9//7//v8AAAEA/f/+/wEAAAD+////AQABAAAAAAAAAAEAAAACAAEA//8AAP3/AgACAP//AAD///7////+//v/+//7//z//P/6//z////+//z//f/+/////v/9//3////8//v//P/8//3//v/9//3/+f/8/wAA//////3////+//3////9/wAA/f/8/////v/+//r//f/6//T/+P/7//j/+f/4//j/+v/5//b/9v/6//r/+P/6//r/+v/6//v/+v/5//j/+P/5//n/+P/4//b/9v/4//T/9//6//n/9//0//f/+P/0//T/+P/3//X/9v/1//b/9//4//j/9P/z//b/9//3//f/9v/3//T/9v/8//r/+P/7//r//P/4//j/+v/4//v/9//1//j/+P/4//X/9v/3//T/9f/z//L/+P/2//j/+v/5/wAA9v/1//j/+f/7//n/+//9//n/+f//////AQD6//n//v/4//v/+//6//j/9//6//n/+//7//v//P/4//T/9v/2//b/+f/9//X/8//7//n/+v/6//r/9v/z//v/+f/2//n//P/7//3/AAD+//z//v/9//3//v/9//3//P8AAP3//f/7//j/+//6//j/9v/7//v/+P/6//n/+f/7//z/+v/5//7//v/9/wIA/f/9////+//+///////+//7/AAD7//7/AAAAAAEA/v/+//z//v/+//7///8AAAEAAAACAAAAAQABAAAAAAD+/wAAAQABAAEA//8BAAEAAgACAAIAAQAAAAQABgALAAgACAAIAAYABAADAAYABwAJAAkABQAGAAcABQAKAAoACAAJAAoACgAIAAcACAAIAAoACwAJAAkABwAJAAcACgAHAAQACwAJAAcABQAHAAsACQAIAAYADAAMAAcADgAJAAUACwANAAwAEAAQAAwADwAHAAYACAADAAcABAAFAAgABAAGAA0ADQAHAAsACwAEAAkADAAKAAkACgANAA0ADgAQAA0ADAALAAkACAALAAwADgALAAcADAALAAwACgAOAAsABAALAAsACgALAAsACAAGAAgAAwAHAAUABQAHAAUACgAJAAYAAwAHAAgABAAFAAcACAAEAAcACwAIAAYACgAMAAgABAADAAQABQADAAQABwABAAQABwAEAAgABwAKAAcABwAHAAUACgAGAAgACAAEAAYABgAHAAUABQAGAAMABAAIAAUABQACAAEABgAFAAYAAwACAAIAAAABAAAA/f///////v////7//v///////v/+/////v/7//7////7//3////+/////v/+//3//f/+//z////4//z/AQD6/////f/+//3//f////v////+//v/+//8//z//f/9//v/+f/7//z/+f/6//z//f/7//z//v/8//r//P/+/////P/6//r//P/9//n/+P/9/////P////3//f/8//n/+v/6//3/+v/5//n/+P/7//v/+v/6//v//v/8//3//v/9//7//v/9//////8AAAAA/v////7///8AAAAA///8//z//f/+/////v/9/////v/8//7//v/8//3//f/8//3/+//+/wAA/v/9//3/+f/7//3/+f/7//r/+P/5//v/+P/3//r//P/9//3//v/+/wAA/v/8//v//v////z/AAD+//v/+//7//3//f/7//r/+v/8//r/+f/6//n/+P/5//n/9P/8//7/+P/5//v//f/+//7//f/+//v//P8AAP3//v8BAAAA/////////f///wEAAAAAAAAAAQABAP//AAAAAAAAAAABAAEAAQABAAEAAQD//wAAAQAAAAAA//8CAAEAAAACAAQABAAEAAUAAgACAAEAAQADAAIAAQADAAUABwAJAAgACAAGAAcABgAGAAUAAwADAAQABgAGAAcABgAFAAQACAAHAAgACgAHAAoABAAGAAYAAwAEAAMAAwAHAAcACAAJAAcACAAFAAYACQAEAAMABwACAAQABgAGAAgAAwADAAYABwAKAAgABgAJAAQAAwAEAAUABAAEAAYAAwAEAAIABgADAAEABwABAAYACQAFAAUAAgABAAMABgABAAIABQACAAYAAwAEAAgAAwAFAAYAAQACAAMAAwACAAAABAAFAAMABgAIAAcAAwACAAIAAwADAAEAAgD//wIABAACAAIAAQABAAEA//8AAAAA///+/wAAAgABAAAA//8AAP//AAAAAAAAAAD//////v///wEAAQABAP7//v/8//v////9//3////8/////v////7//P/8//z//P/7//v//f////7//P/7//n/+P/5//f/+P/4//n//P/8//v/9//3//b/9v/2//P/+f/4//b/9v/3//f/8v/1//T/8v/0//X/9v/7//b/9P/6//X/9f/v//T/+P/y//D/8//2//L/8//2//j/9f/w//L/8v/x//X/8//w//H/7//y//P/7//u/+//8//y//L/8//w/+//7P/s/+3/7//w/+3/7v/v/+z/7v/x//H/7f/u/+//6v/v//P/7P/q/+3/6f/s//H/7//q/+v/6//r/+z/7P/z/+3/6v/t/+n/6//m/+3/6//m/+z/5v/l/+L/5f/q/+b/6P/o/+f/5v/o/+b/5P/o/+X/4//m/+n/6//l/+j/7P/p/+r/6P/n/+L/6v/z/+f/5//r/+z/5//n/+n/6P/m/+X/6P/p/+f/5//m/+b/5//h/+f/6//o/+r/5//p/+z/5//l/+f/7P/s/+f/6f/n/+j/5//p/+j/6v/p/+n/6v/p//D/7v/x/+z/6//v/+//7v/w/+//7//0/+3/7//u//D/8//v//H/6//t//P/8f/x/+3/6//z//D/7//2//P/9f/0//T/9P/y//P/8f/4//f/8v/1//b/9v/z//T/9v/1//L/9P/0//X/9f/z//j/9f/z//X/9P/3//P/+P/3//P/+f/1//T/9//2//X/9P/2//b/9v/5//j/9//5//b/8//1//X/9P/2//j/9f/3//r/+//8//j/+v/6//b/+v/3//b//P/5//z/+f/4//r/9f/4//r//v/9//v/AQD///3//f/7//7//f8BAAAA/f/+//v//P/7//r/+//+//z//P/+//3////+//r/AAACAAAAAQD//wEAAAAAAAAA//8CAAQABwACAAQABQADAAYAAwAFAAQACAAHAAUACgAJAAoABQAGAAkACAAJAAgACQAIAAkACAAJAA4ACwANAAwADAANAAsADwAPABEADgAKAA0ADgANAAgADAAMAA8AEAAMABEAEQAQABIAEQAQAA8AEAAUABIAEAAOABEAEQAMABIADAAMABAAEwARABAAEgASABIAEgATABYAGQAWABUAGAAVABQAFQASAA0AEgAWABYAFQAQABQAEQAQAA0ACQATABEAEAAUABQAGAAPAA8AFAASABQAFAASABQAFgAUABMAEwARABIADwATABcAEQAPAA8AEQARABEADgASABQAFAAVAA4ADgAOABEAFAARABQAFAASABIAFAAPAA8AEgARABQAEgAOAA8ADwAOABIAEQAJAAwAEQAQAA0AEQAPAAkAEAAUABIADwAKABAAEAAHAAwAEQALAAkADgAMAAkACwAOAA4ADAAOABAADAALAAgACQAHAAYACwAHAAwACwAHAAwABgAEAAoABgAJAAkABQAIAAgACwAKAAgABwAFAAEABQAEAAYABgAFAAoABQACAAUABAAEAAYABQAKAAcAAQACAAIAAQAAAAEAAgACAAEAAQABAAAAAQAAAAEAAQAAAAAAAQABAAAAAQABAAEABQADAAYACAABAAEAAgABAAAA///+/wAAAgAAAAAAAAD//wAA/v///wAAAAD/////AAD//wAA/v////////8CAAAAAQABAAAAAQACAAEAAAABAAEAAAADAAMAAgAEAAIAAwADAAIAAgAEAAUAAAAAAAAAAAAAAAAAAgACAP//AQADAAEAAgAEAAEAAgABAAEABAADAAAAAAAAAAMABgADAAIAAwABAAIAAgAEAAYAAgAAAAAAAAAAAAEABAAAAAAAAwADAAEAAAAAAAEACQAFAAEABAACAAAAAAAAAAEAAQAAAAAAAAD//wMAAQACAAUAAAACAAMAAAACAAIAAAABAAEAAAABAAEAAgACAAIAAgACAAEAAAADAAQAAQABAAYABAAAAAMAAwABAAQAAgACAAQAAgABAAAA//8AAAEA/////wEAAgACAAIAAgAFAAUAAwAGAAMAAgACAP//AgAFAAAAAAADAAAAAQACAAEAAQABAAAA/v/+/wAAAQD//////f/9//v//f//////AQD+/////f//////+//7/////v/8/wAAAAD+//7//v////3//v/+//z/AAD7//r//f/7//7/+//5//7/9//1//j/+P/7//X/+P/5//j/9//x//n/+f/1//r/9//0//j/8//3//j/7//y//H/8//0//L/9P/1//j/9//1//X/8//z//L/8f/x//P/8v/w//H/8f/v//D/8//y//D/8v/y/+//8P/2//T/8//y//D/9P/z//L/9P/x//D/8P/w/+7/8f/1//D/8f/x//D/8f/1//X/8//1//P/8//t//D/9//w/+7/8//y/+7/8P/x//H/8//u/+z/7f/s/+7/6v/t/+//8f/w/+r/9P/y//P/8//u//X/8P/x/+//7v/0//X/8P/w//T/8f/w//L/9f/2//P/8v/y//D/8//z/+//9f/y/+7/9P/4//b/8f/0/+//7f/0//H/9f/y/+//8//0//L/8v/x//H/7v/s//L/7P/s/+7/7f/w/+3/7f/u/+7/7v/v//H/7//u//L/8//3//b/9f/1//D/9v/7//X/8//y//D/9v/4//P/9f/4//f/+f/4//n/+P/5//j/9P/3//f/+f/9//r//v/8//r//f/5//z/AAD+//3//f8BAP//+v/9//7///////7/AAABAAgAAwAAAAIAAQABAAEAAQD//wIAAgAEAAQA/v///wEAAgACAAEAAQADAAYAAgABAAMABAAEAAMAAwAEAAUAAwAFAAQAAQAFAAcABQAFAAUABgAHAAUABAAGAAUABgAGAAcABgAGAAYAAwAJAAkACwAJAAQACAALAAoACwANAAwACAAIAAoADAAMAA0ADQAJAA8ACwAMAA8ADAALAAcADwARAA8ADwAOAAsACwAOAA0ADAANAAsADAARABMAEgAPABEAEAAOAA4ADgARABQADwAPABUAFQAaABUAEwARAA4AFwAXABQAEwAZABcAFgAVAA0AFAAXABYADAAPABMACgATABIAEwAVABIAFgATAA0AFAAUAA8AEgASABMAFgAQABAAFwAUABIAEgARABEAFAAQABAAEgASABUACQAMABMAFgAQAAcAEwASABEAFAASAA4ACgASAA4ACwAQABUAEwAPABAAEgAVABIAFgAWAA8ADgATABQAFQAXABEAEQAPAAoADwATABEAFAAOAA0AEAASABQADQANAAsADQANAAkAEAAKAAcADgANAAsADAANAA4ADAALAA8AEAAPAAoAEAAOAAYACgAKABAADQALAA0ADAARAAcABQAJAAkADgANAAwACgANAA4ACQAIAAkADAAKAA4AEAAJAA0ADgAJAAkACwAMAA4ADQAKAA0AEQAPAAsADAARAAwADgANAAgADAAJAA0ACgAJAA4ADQAQAAgACgAHAAUACgAEAAsADAALAAsACQAJAAUABgAGAAkABwAFAAcACQAJAAQABQAFAAQABgAEAAgABQAEAAgABQAEAAcAAgADAAcA//8BAAIAAAABAAEAAwADAAAAAQADAAIAAAD9///////+/////f8BAAAA/v/+//3/AAD8//v////+//z//P/+//3//v/+//z////9//r//P/9/////P/4//n//P/6//v//f/7//z/+//8//z/+f/7//v//f/8//v//v/8//v/+f/7//7//f/7//z//v/8//3//v/+/wAAAQD///7/AQD///3/AAD+/wAA///+/wAA/v///////v8AAAAA///////////+/wAAAQD+////AAD//wAAAQABAP7/AAABAP//AAABAAMAAQAAAAEAAQABAAEA/v/+/wAAAAD+//7/AgAAAP//AAD+/wAAAQAAAP/////////////+/wAAAAD9//3//v/+//7//f/9//3////+//3/AAAAAP//AAABAAAA/v8GAAAA//8OAAQABQAHAAYABgACAAkABgAFAAkABAABAAQABwAAAAQACQAEAAQAAAABAAYABAACAAEABAACAAAABAAHAAkACgAJAAgABQAEAAgACAAIAAkABAAIAAwACwAKAAwACwAIAAsABwAEAAIABgAIAAUACAAJAAcAAwADAAMAAgABAAMABwABAAIAAwABAAQABQAIAAkABgAFAAQABwAIAAoACwAMAA4ACwAJAAoACAAJAAsACAAKAAsABgAGAAQABQACAAYABwABAAQAAgAGAAMA//8DAAQAAwADAAEAAQACAAQABQAAAAMABQADAAYACgAHAAMAAwADAAMABgAFAAMABQAHAP7/BQAJAP7/AgAAAAAAAAD//wIA/v/7//z//P/+/////v/9//v//P/7////AAD8////AAD/////AAAAAAIAAQD///7/AAAFAAAA//8DAAAAAAABAP7///8CAAIAAwABAP7//v/+//7//f/8//v/+//5//b/9v/3//r/9v/2//b/8v/1//n/9f/2//X/8//5//r/+f/4//j/+P/6//7/+//7//z/+P/6//z/+v/7//v/+v/5//n/+f/0//b/+v/3//X/9f/3//j/+f/6//P/9P/2//b/9//0//X/8v/1//P/8f/0//L/8v/y//b/9P/3//X/8f/1/+7/8f/1//L/8//z//D/9P/1//H/8//1//j/8v/u//D/8P/y//D/8P/r/+r/7f/t/+f/6//v/+v/7f/t/+r/8v/0/+z/8P/t/+7/7//w//n/7//v//f/9P/0//D/8P/y//P/9P/w//j/9v/0//X/8v/z//X/9P/x//X/8//y//X/8//y//L/8P/x//L/8f/1//X/9f/4//H/9//7//T/8v/x//P/8f/z//T/8P/0//T/8P/1//X/8v/z//P/8//u//H/8P/s//P/8v/u/+3/7//w/+r/7P/u/+3/7P/p/+3/9f/t/+f/7P/s/+z/7P/x//L/8P/w/+f/8f/1/+//7//u//D/6//x//L/7v/y//L/8v/v/+7/8f/y/+//7f/r/+z/8P/w//D/8P/v/+//8v/1//j/8//z//b/9//7//n/+P/5//T/9//3//f/+f/7//v/9////////P/+//z///////3///8AAP////8CAAMAAwAEAAEAAQAHAAUACAAJAAYACwAIAAcACgAIAAoADgAJAA0ADAAKAAsACwANAAkADQAPABAADwAOABIAEAAPABAAEQAUABIAFQAYABIAEwAaABYAFgAPABAAFwAUABYAFQAYABYAFQASABgAGgAYABgAFAAVABEAFQAXABcAGAATABcAFwAWABgAFQAUABMAEwAaABoAEwATABoAFwAVABoAFQASABcAGAAXABcAFgAaABsAGwAbABgAGgAaABcAFgAXABsAGAAYABkAFgAWABcAGAAXABoAGQAaABQAFQAWABMAFgAWABYAFwAYAB0AGAAVABgAGgAYABUAGQAZABgAGwAXABUAGQAYABcAFwAUABcAHAAYABMAFgAZABMAEQAVAA0ADwAXAA4AEAATAAwAFAAWAAwADAAMAAsADAAQAA8AEAAPAA8ADgAPAAsABAAMAA8ADgAOAA8ADgALAAoACQANAA0ACgAFAAQABQABAAYACgAFAAIAAQAEAAQA/////wMAAwAAAAAAAAD//wAA///+/////P8AAAIA//////v////+//7/AQAAAAAA//8BAP3////+//n////8//r//P/9//3//P/6//T/9//8//j/+P/8//b/9v/1//T/9v/1//n/+P/2//j/9f/1//T/8v/0//b/9v/5//f/9f/7//v/+f/2//n/+//3//j/+//7//r/+//6//j/+f/4//j/9P/1//X/8//4//P/9P/1//P/9v/z//b/9//0//f/9v/3//j/9//7//z/+//7//r//P/9//z//f/8//3//f/9//3//f/9//z////+//7//v/9/////v/9//3//f/9/////P/9/wAA/v/+/wAAAAD9//z//f///wAA/v//////AQAAAP3/AAD///7/AAD//wAAAQAAAAEAAgABAAEAAQAAAAUAAwABAAMAAAD///z//P/9/////P/7//7///////3/+//9////AAAAAP//AAAAAAAA/v/7//7////9//7/AAD8//7/AAD+/////P/7//v//f/9//z//v8AAPr/+v/5//f//P/+/wAA+v/8//v/9//6//z//f/7//7//v8AAP//AQABAAAAAAD7////AAD+/wAAAQAAAP//AAABAAAAAAD+//7/AAD+/////f/+//z/+v8AAPz/+//9//3/+//5//v//P/9//3//v/+//7/AAD///////8BAAAAAAACAAAACAAFAAEABAAAAAIAAgADAAIA//8AAPz//v8DAAAA///+//v//f/9//v//v/6//v//v/8/////v/+//7//v8BAAIAAAAAAP//AAABAAEAAAAAAP//AQABAP7///8BAP7//P///wEAAQD///j///8BAP3/AQD9//3////9/wAA///9////AQABAAAA/v/9//7///8AAP////////7/AQAAAAAAAQD9//3//////wAA/v/+/////v8CAAEA/v/+/wAA/////wAAAAAAAP7//v/9//7/AAAAAP////////3///////7////+/////v/+/wAA/f8AAP///v8AAP//AQD/////AwACAAAAAAABAAAA//8DAAEAAQABAP//AQABAAAA///9/wIAAwAAAAEA/////wAAAAAAAAAAAAD//wAA/v/9//7//v/+/////v///////P/+/wAA/v/9//7//f/9//7//f/+//7///////////8AAAAA////////AAD+//z////+//3//f/+/////P/+//7//f/9//7/AgD///7///////z/+//8//7//v/9//z//P/9//3/+//5//r/+//8//r/+v/8//3//v/6//j/+P/6//v/+v/7//7/AAD//wEA///9/////v///wEAAAD9//3//f/9///////+//////8BAAIA/P/9////+v/+//3/+f/9//v/+//+//v//f/6//r/+v/5//n/9v/2//b/+P/4//n/+P/6//r/+P/4//n//P/4//r//f/7//n/+/////n/+f/3//b/+v/3//b/9f/9//7/9f/3//b/8//1//b/+f/7//P/9P/3//P/+P/3//b//v/4//b/9v/0//b/9P/0//T/9//2//P/9f/0//X/+P/5//n/+v/2//P/+P/0//L/8//z//T/9v/0//L/8v/z//H/7P/0//X/8f/2//r/+v/8//r/9P/u//X/+f/4//n/9f8XACUAKgBBAEQAVABeAGUAawB6AJcAmQDRAPYA/ABLAYsBgQFvAZEBmwF+AXcBgAFMARsB/ADHAIYAOwAMAM//mv97/2L/XP9M/zz/Kv8Q/wD/DP8i/zb/Wf+F/53/rv/P//H/BgAOACQAQgBVAGgAeAB4AFkAOQAfAAMA6v/O/8L/nv9z/03/Jv8J/9z+w/60/p/+qv6z/rL+uP66/sz+0v7b/gH/Hf9C/2r/i/+n/7j/yv/d/+f/8v8FABYAFwAQABoAFQAIAAUA+f/2//b/+v////z//f8BAPn/9P8HAB8AJQAzAEEAUABsAIQAmQCiAK4AyADhAPUAAwETARMBEQEPAQUBAgH4AO0A3wDDALEApwCIAG4AUwA5ADQAKAAiABgA///s/9r/z//J/7f/of+R/33/fP+D/2b/Q/8V/9L+yf6e/nf+g/4k/vH90P10/Wv9Sf0W/RP99fzH/Kv8ifw6/Cr8qPyK/dT+t//J//z/NgCTAE8BwgFQAuECPgOIA34DPAO/AjYCmgEwAUABNgHmACwAQP+c/g3+rP1n/Tf9Uv1t/ZT9zv3h/fH9Bv4//sH+lf91ABcBkwHNARYCewKzAusCCwMkA1UDcANMA+wCegLgAXABRAH+AOgAlQAHAND/lf9p/2j/SP8+/3H/wP8xAJwAyQDZAAEBMgGaARsCaQKdAowCZQJaAj8CIwLeAYMBTQEcAeYApgBFAMT/V/8S/9P+0f65/nz+gf5R/lb+h/5h/m/+Vf4e/jv+RP5D/iz+8P2t/Z79hP0T/d78ZPz9+zL8Mvy8/KP9F/6C/r7++P6F/z0ApwARAcIBGwKLAsMCdgJpAiQCugGnAXABLwHwAFgAq/80/9T+cf4v/uH9vv3k/dX96P3+/Qn+Vv6K/vT+g//8/4QA0AArAYkBygEwAmkCmAKtApECgQJoAkcC+AGuAXsBQgEtAe4AmgBgACIAIQAsAD8AcwCBAJwAxAD1AEkBjwHQAf4BKwJlApAClwJvAlACEgLbAcMBkwFiAQMBkgA2AN7/nv9g/yL/7P7H/q3+m/6J/mL+W/5v/pr+3/76/vf+4/7Q/rn+ov6h/pT+iv5Z/hb+5f2c/Sn9tfxe/Af8JPyL/BH97/1m/qv+/P4q/7//bwD/AKUBNwKVAtUC9AKpAloCMALjAdIBrwFWAfwARACL/xn/tf51/kn+J/4T/iH+Gv4S/jX+P/5//u3+Vf/o/1AApADpACABdwGtAeoBCgIYAjICLgJQAjQC7AG1AVYBVQFLAQ0BEgHPAJEAogCIAKAA0wDVAPsALwFbAa8BAAITAjICWAJVAnEChgJlAmQCSQIDAtUBlQFHARQByQByAD4AAADE/6L/eP9D/yH/Bv/2/v7++f74/hH/IP8n/yr/L/8q/xT/2f6b/mD+Kf45/gr+yv13/bz8nvxc/Or74/ts+8L7lfwc/Qr+gP6//in/qv9gAA8BvwEdAooC1wLVAvkCmQIgAtoBawFLAQMBcgDZ/yn/n/46/gP+xf2X/X/9fP3F/fP9Kf5y/p3+A/+D/w4AkwD1AEUBgAHWARQCNwI8AhwCAwLdAbMBfwEwAf4AzQCFAGoASwA6ADAA8//6/yQAQQCnAPEAIQFxAZsB1AEkAmsCrwLfAvoC8gLoAtIClQJMAv4BvAGVAVUB8ACSAC0Asv9p/zf/Dv8O//f+5f7q/s7+zP7X/tz+HP9E/3b/q/+g/6L/bv81/xr/7P7l/tP+m/5Z/uj9Y/0l/aL8JvwU/JP7gPtE+7n6Tvui+2H8qP0S/s3+T/+g/2oA/gCIATUC3QIkA14DPAOLAisCgQH+AOsAagALAH//uf4q/o79E/3A/MD84vwq/aH9v/38/SX+T/7a/mT/GQC0ACUBmwHoASMCLQIdAhYCCAIKAuUBsAFOAcoAaQAQACMARQA7AEEABAD9/ykAFwB4AOQAFAGnAcwB8gFaAkACYQKQApQC0QLiAqkCcgInAscBjQExAdQAtABeABgA1P9a/x3/7/7S/vD+/P7w/vD+4v7u/h3/Nv9e/5L/m/+s/7X/f/9l/yP/tf6Y/lL+8f3R/Vr9+PzW/C/89/vw+5T7ufuF+/z6/fov+977Sv1a/vr+sf/c/1oANAF4ASgCzQIEA4IDhAMDA20CkQHcAJIAUAAAAKP/+/5C/rn9Nf3o/NT83fxE/cb9Kf54/qr+3/4z/7L/WAD/AJQB8QEcAkwCVgI9AikC6gG/AaYBYQEaAbAAKwC2/2b/Ov9b/8P/+/8/AGcAYQDlADQBggE4AnsC8QJQA1oDigN+A1QDLQMYA+kCvgKaAhUCtgE4AaQAZwAFANL/uv9+/1//Mv8f/yv/Pv9V/3b/qf/F//b/IAA/AGoAbQCUAKsAiwBxABUAvv97/xL/yf5s/hT+rv1G/eH8X/wr/Mr7sPvn+9H77vui+0L7Wvub+4j88v0c/+7/bACjABcBqgEZAr8CSwOkA+0DuQMsA2gCegHWAHcAQwAbALz/Iv9a/rH9Q/0B/Qz9Uv3D/UT+qP7r/hn/Uv+o/x8AwwBrAfQBTgJsAm4CZAI/AhsCBgLaAcEBiQEkAb4ANADO/5r/jP+y/yAAfwC7APwA+ABbAccBHALBAgEDSQOHA3oDjANwAywD9wLHAogCXQImAqsBOgG3AEkANQAHAPT/5P+m/6D/iP9+/63/uv/e/wwAJQBWAHMAdwCUAKMAkACqAKwAjABTAN//nP9p/w3/rv5D/rz9bP0i/cf8uPxE/PD7+fu0+/77B/wL/JH8P/yU/Eb94v1E/wYAqgA8AW0B1gFIAsEC5gInAyoD7ALfAhQCXwHSAAIAwv+O/zH/5/5c/s39jP1n/Vn9r/0F/lP+7P5J/6P/CAAwAH8A9wBxAeoBRAJXAk4CQgL8AcgBmQE6AREB1QCWAGkADgCt/2L/TP9i/7f/MwC9ACgBUgF+Aa4BMQK/AjQDtgO5A8gD0QOIA2EDEAOtAmoCHgLNAYkBIAGJACgA1/+x/8f/pf+d/5j/g/+g/8L/7f8bAEYAaACNAKAAnQDAANEA4gD6AOEAtAB4ACsAw/95/yL/x/6Z/h7+z/2J/Rn93vyH/FT8Rfw5/FD8ePyU/Ir8hfyD/ID8m/zw/M/98f7x/48A0QAHAUwBuAEjAnMCogK8AsICjQIjAnQBqgANAKz/fv9S/wb/gP73/Zz9cf1+/Zn90f03/q7+Ef9z/7P/2/8kAH8A+gCKAdcB7AH7Ac8BugGrAWQBSQEWAd4AuwB0ACcAy/+K/2H/cP+U/6j/6f8VAF0AqwARAbABawIQA1EDagNMA0YDaANeA0wDAwOfAkoC1AFaAd8AYgAAANT/yP+9/7f/fP9S/2X/hP/f/ywAYQCdALUAyQDOAMkAyADPAOgA6wDiAK0ASgAEAKb/a/9e/w7/y/57/ur9g/0y/Qb9+fys/Gb8gvzF/PP8Ff0Q/QL9D/0h/Tn9Xf1Q/R79aP3K/WD+S/+0/xEAOQA+AM8AIgFNAY8BwAHRAbIBeAH+AKYARQDk/9r/k/9A//D+df4z/gX+5/3y/Qz+M/5s/r3+7/4Y/1P/h//u/1wArQD8ABoBLgE6AUcBVQFMAUgBJgEdAecAngCKAEUAKAAIANb/5f/5/xEAZwDKAPwAZgHCAQ4CgwJ2AmkCgQJgAngCggJbAjEC1wFOAe8AqABUAEgAMAAGAA0A+P/t//H/1//n/ycAZACfANEA4ADYAL8ArACxALIAsQCiAIoAYgApAPT/w/+E/zn/7P6G/kj+B/7G/Zn9NP0X/SP9Gf0K/dn81/z8/C79ff2t/Zz9p/3P/a39kv1V/Sv9eP2//WP+Gf9w/8b/4v/y/04AsgDqADMBgAGhAb0BkAEdAa0AKQDR/8P/lv9Q/wr/r/5V/gj+zv3F/er9DP5a/sH++f49/2P/j//k/zEAnQDqACcBYQF9AZgBhwF2AWABPAE5ASUB/AC/AH8APgARAPb/z//q/ygAZACwAL4AvAA4Ab4BOQKxAn4CZgKBAlkCfgJoAv8B1gGUAUYBJAHLAFwAPAAdAC8AhQB5AGgAawBQAH4AvADXAPsAHgEkASQBCgG8AJAAaQBCAFgAQAAeAOX/dv87/wL/1v6//mr+KP4K/s/96P2//YD9nf1R/Yj9u/1s/cj9tf2X/dT9n/0A/jH+uf19/ST96fxs/Qr+av7//mn/zP9nAGwAggACASoBiQH6Ae0B4wGeAekAiwBMANT/qP9e//f+5v6R/jH+DP7H/dP9Jv5z/tX+M/9n/53/+f84AKgAFwFEAZsBygHxAR4CBALlAbUBjAFTATQBAQGkAGQA/v/D/5j/e/9w/2D/ev95/8j/DQBRALsA3AB1AfABdAITAzUDiANiA0cDVQPqAvMCkgIsAgoCWQEHAaIAKwAIAOT/5//z/xYAEwA+AHsAdwDdAAkBFgFcAT4BRAE/AfwA7wDdAMEApwB3ACsA7//C/3b/Rv/2/rP+tv6E/lL+F/7Q/br9w/0F/j7+Qf47/jD+QP5b/lT+df6a/ln+Xf5A/rv9jP3z/LT8Ev1E/fb9fv7D/iv/c/+5/ygAsgAJAZ4BCAIIAi0C7gGPAUYBwQCLAHkAIgDI/2T/1v51/jL+8P0O/jn+Y/7J/gf/Rv+e/87/IwCQAOsAawHQAQUCIwIZAgMC9AHQAZkBZgEjAcUAeAAfAMH/ev81/yD/J/88/1z/aP+E/6P/AQCRAPcAiAHSAY0CwQMHBE4E4wNOA6UDLwNFAz8DRQIeAnMBwQBpAJn/O/8v/z7/fv/n/+3/yv/2//n/ggD/AAUBgAGdAbABxgFtAU8BHwEKAfgA7gDeAE0A9P+L/yv/K//w/tn+vv51/kz+O/4k/g7+Lv4f/lr+r/6Z/tb+nv5l/qf+bP52/m/+Iv47/vj9b/0m/Z78ePzt/CD9rv0x/nr+KP91/9j/bgDaAHAB7AFYApcCpAJrAvoBowEzAfAApgAgALL/Jv+g/iz+yv2j/Z/9z/0A/j3+m/7n/lL/tf8TAKgAHQGWAQMCNQJbAlECOgIVAucBswFoASoB0gBwABAApv9L/xv/BP8M/yT/OP9X/4L/vP8FAG8ABwH2Ad4CXgOlA3oDWQNvAz8DTQMwA8YCfwLZATIBkADN/2P/SP9B/2D/iv9z/2z/ff+m/zYArQASAYcBvwHoAe8BvwGWAYABdQF5AXcBNgHQAGsA+v+9/47/Vf9c/y3/8P7S/m/+RP4c/vH9GP4J/j/+tv7G/sT+sP6F/on+iP54/rn+zP6Q/mj+Ff7o/Zn9JP0A/bP8bPxm/Kf8Pv3H/Xb+D/9n/8T/RwAKAYsB4wEzAnkCqAJiAvYBdAHLAEkA2f95/y7/qP4h/rP9Yf0//Uf9eP3D/UX+v/43/7T/AgB0AN4AOwGuAfwBNQJSAkMCJQIKAskBdgEZAacAYwAYAMz/nf9S/xj/+/7o/vP+H/9H/3f/yP8yAK8AHwGQAd4BEgJLAnwC+wJAA08DPQOrAkgC2AFhATwB3QCGAFoABwDJ/5b/Vv9I/3D/sf8mAKEA0wAUAS4BHQFMAU4BXgGKAYEBiAFaAfYAnwBVAAwA3v/f/7v/n/9z/w//7v7P/q/+1v7T/tv+HP8h/+/+of5e/nb+xf7r/ib/KP/C/o/+R/7+/fD9pf2V/az9Zv0//bv8JfzF+2j70vtw/C39Cv7a/q//+v9LALcANgHRATkCzQIYA/wClgLQAR4BZwDX/3//IP/K/mH+Cf6x/UP9Df0c/Wb94v1p/gf/nv8BAE8ArAASAYQB+QFMApcCsQKKAkwC3gGHASgBwwB3ACIA3P+C/yz/1f6J/nL+fP65/vL+Lv97/8f/IABpANsAVAGxASQCbwLeAj4DOQNLAz8DMgMgA54CNQLCATAB3QB6AAwAq/9g/zD/Jf8g/yP/gf/H/yAAqADuAEUBbgF5AbABygHeAeABzQGkAXABKgHHAJEASgATABQA3f/J/6L/Wf9W/xr/Ev8Z/+/+C//b/q7+sP58/nj+a/5r/pT+i/6V/ov+VP5J/ij+BP7w/e39IP4Q/ur9n/0R/eH8pPx+/MD8BP3G/Z/+LP/K/wkAHQCQAA0BkgEtAnICfAJ0AgkCeQH6AEEAxv+P/zb/Ef/E/jP+1/12/Uz9lv3m/U7+3f5W/9T/VgCNAMcAJQF1AewBTQJxAnUCNgLaAZIBSAH/AL8AdgAoAOP/hf8b/97+s/65/u3+Lv93/7r/6/8cAHAAtQAXAZEB7QFTAo4CsgLWAsACsgJ1AjcCDgKyAY4BKAG8AHYA9f/a/6f/cP+M/3z/ov/L//D/PwCIANgAIwF9AaQBwQHaAb0B0AHNAaoBlgFTAR4B6gCbAFwAIQDr/9D/vv+J/2P/Pf8R/wD/4P7S/sn+yP7q/uL+0P6+/pv+pv6s/sD+Df8M/9r+zv55/mb+YP4K/iL+Bv7o/Q/+pP0//eT8SPw2/Hn8yfyS/Uz+u/5P/6H/5f94ANoAYQH8AToCgAKIAhYCnwEZAXMAGADO/3f/Uv/k/mb+Gv66/Zz9u/3q/V7+6f5Z/9j/OQByAMQAGgF8Ad0BIAJJAk8CKgLtAa8BYwEOAb0AbQAcANX/jf85//n+wv6x/sv+A/8+/3j/vf/u/zkAhQDdAFYBrwEJAloCewKKAqsClgJ6AmUC+gHoAagBLAERAYIAJwAKALb/x//F/6v/0f/w/wgAVwCgAM4ALwFnAZcB7AHoAeUB8gHCAb0BqgFmAVkBFAG5AIYALwD8/+T/uv+v/5//bP9H/yP/AP/+/gv/Cv8b/yX/Lv9V/yn/4/7c/sH+z/7u/t/+0v6g/lb+KP4H/uf9+P3x/dr93v2E/V/9Rf0H/RP96Pz7/Ev9o/1d/uf+SP+h//j/cgDfAFMBmgHUAegBxQHAAXYBFgGsACcA6f+k/1f/Av+Z/lb+Nf48/k7+fP6//gT/bP+7/xIAaQCXAOYAKQFvAbIBtwGmAY8BeAFjAUMBDwHUAIsAQgAVAOP/tf+E/1D/Q/9G/2T/jf+n/8b/8P8mAF4ArQDfABMBTgFhAZUBtAHGAQECFgIGAvUBsQFuAUQB/ADfALkAegB3AFAAIwArAAYAGQBZAIgA7QAsAU8BawFbAWMBgQGbAbUBygHJAa0BiQE/AfQAuwB1AG0AZwBWAEkAAwDJ/4r/W/9f/1f/b/98/3b/gf9j/0T/KP8Y/1H/h/+V/5//bP8q//n+v/7B/sD+oP6J/mX+Qf4D/rn9ef1M/WP9ZP1R/RH9v/zP/LX8rfz6/F39Lv7g/lL/0f8gAIYA4AA/Ab0BEAJCAiwCBwK5AU0B7ABfAP7/vf95/0L/4f6I/lP+LP4d/ij+ZP6//iD/fP/T/yYAYACkAPkATQGkAeUBCQIcAhsC9gG1AWYBDgHBAHcAMgD0/6n/TP/1/r/+oP6a/qn+w/7z/jD/bv+//wYAOQCJAOEAMAGKAdMB+AEgAlECigKWAkwCCwLiAZ8BbgErAb4AgABBABAAAQDE/6f/qf+w////SgCIAM8A8QAdAV8BjwGyAdwB9wEdAjcCGQL2AbIBYgEnAe8AyACYAFUAHgDm/6j/bf9E/yX/Hv9D/03/VP9I/yb/I/8X/yf/Sf9S/2z/Z/9J/zD/8f6u/oT+f/55/mX+Wv4z/iL+Cv7x/en9s/25/dT9yP3Z/bD9U/0Z/e78Iv2g/Rj+iP7h/jz/ov/0/y8AgwDfADYBtgH5AfcB0QFnAQ8ByQByAEAACQDC/33/Kv/X/pH+UP41/l/+pv76/lL/jv/R/w8AOQB/AMoAEwFfAZYBtgGwAY4BWQEUAdgAowB0AEkAFgDU/4z/R/8J/9n+x/7T/vH+Gf9A/2z/ov/a/w8AOQBiAKAA7gBIAYEBkQGZAcQB/wETAhAC6AHPAa8BZgE7AfUAwgClAGoAWgA3ABUAEgD+/yQAZQCVAN0ADgE6AXEBlwG2AcwB4AH6ARMCAwLhAaoBSwH6ALUAhQBmACIA1/+m/3f/Rv8b///+7P7m/vn+BP/8/uL+wv7F/uT+Df8m/0D/U/9A/zX/FP/t/uz+5f74/v3+6P6+/l/+If75/dH9w/2q/af9rv2r/Yj9O/30/MX84PxV/fv9lP7t/jj/hP/T/zYAgwDZADEBmgEaAkICFgK3AT4B5gCnAHcAQwAQAMj/bf8b/8v+hf5I/jj+c/7H/hz/X/+A/6r/3/8YAGsAuQAIAVkBigGpAaYBeQE9AfUAwQCjAHwAQwD//7r/bf8m/+b+v/64/sT+3f4K/zL/Vv+B/6D/3/8zAIIA4gAwAW0BpgG2AbwB7gEnAk0CVAI7AiEC4QGJAUkBBQHNALQAjwBwAFcALgAbABgAIwBdAJcAzwAQAT8BdQGiAb4B1QHoAe8B7gHeAbcBhwE5AfEArwBkACUA2v+c/2z/Pv8W//f++f7+/vv+CP8H/yD/Nv85/1P/Uv91/4z/f/+Y/3v/cP95/1D/Sv8f//7+5/6g/m7+Kv4W/gv+5v3Z/aP9qf2o/Yj9pv18/WL9Yf1C/Yr97P1e/tz+Dv9z/+r/RwC5AAEBOQGOAdsBFQIfAucBnQFeAQ8BxgCJADIA3P92/x//7f6v/nr+Wv5j/qf+4/4S/0r/f/+6/wMASwCTAMwA9gAnAT4BRQFJATcBEAHoAMYAlQBoACcA5/+t/2v/Qf8Y//7+9v7z/vX+Cv8v/1n/of/k/xgAUQB6ALsACgFEAX0BoQHEAegB5AHaAfwBDQIIAuwBtAGSAVUBCwHlAKsAhACCAHoAhACAAHEAegB3AJAAxgD4ADMBXgF/AaYBtAGrAZsBiAF1AVcBPwEkAfYAugB1ADcABwDW/6T/ff9u/2P/Tv80/yD/Ff8T/xv/Kf82/0j/T/9O/1D/Wv95/4P/hv90/1f/Sf8y/yv/Gf/3/tb+q/6E/nP+ef59/m3+Sv4l/vH91/3R/cv9u/2T/XD9kP3v/VH+hf6m/u/+aP/y/2YAtQDqABsBYQGoAdEB1AGqAXIBSwEgAeMAggAOAK3/aP9D/wf/wP6D/l7+Y/57/p/+xP7t/h7/Yf+1/wYATQB8AKgA7wA4AV8BaQFbATsBGQH9ANYAngBdABUA0/+W/2L/Lf/8/ub+4v7s/vf+IP9k/5n/yf8DAEQAlQD9AF0BnQHGAe0BBQIZAk8CigKaAnsCPgIEAsQBagEfAdcAnwCKAGsASwAcAO7/2f/U//P/JgBgAJsAzAACATIBVQFpAXYBlAG3AcABqAGHAVwBKAHmAKQAbQAtAPX/xf+S/1z/Kv8D/+3+6P7g/uP+6P73/gr/If9B/1v/cv9+/5P/qP+1/7f/vP+9/53/df86/wP/4f6w/pj+jf6F/nb+L/7y/dL9yP3O/cD9vf2t/YT9lv3T/SL+Uf5n/q7+C/9q/83/EQBNAIgAzgApAWkBhQF5AWABSgE0ARAB1QCHADUA9f+//4b/Pv/6/s3+tf6u/qv+rv65/tD+7/4k/2b/oP/W/wUAPwCCALsA5wAGAR4BJgEmARkBBQHqAL4AkQBrAEkAGwDY/5v/b/9J/z3/Nf9M/3X/hP+U/53/y/8HAEYAkQDiADwBigHXASMCcwKfApMCeAJrAmUCUQIeAucBpAFNAQIBtABkABwA7v/d/9j/2//i/+j/9v8NADMAbgCoAOMAHQFQAXwBggF+AYUBeQF4AW4BTgE2AQ0BxACHAEgA/P/E/4//cv9j/zz/Ff/s/tb+1f7S/tr+6f7//hr/Mf9P/2j/df+A/4z/m/+X/4P/av9M/0n/RP8y/wz/0/6v/pH+eP5y/mf+Qv4Y/vr95f3L/af9nP3H/QX+Q/5q/pH+zf4B/z3/kP/6/1kAnQDhAB8BUQFjAVwBVAFFATwBLgEIAdUAkABMAA0Avf92/0D/DP/t/tv+z/7F/rn+s/7C/ur+Fv9J/4P/yP8SAEYAcQCYAMcA6wAKATMBUwFeAU4BPQEfAfgAzgCcAHUAUwAoAAYA9P/O/6b/gP9w/4P/mP+6/+P/CABAAIgA1AAdAUoBgAHTAQ0CLAJKAlcCVgI8AiMCEgLlAaUBbAFIASQB7gCvAHMAQgAfABAACwACAAAABwAbADYASABXAG4AjACnANIA7gD2AAYBCAEUARkBBwHsAMwAsQCIAFYALQAGANj/qv94/0z/If/4/tj+xP7E/sn+zf7G/sr+yf7C/sj+z/7g/vP+D/8r/0H/T/9W/1n/Tv9P/2P/Zv9U/0D/HP/j/qT+av48/hL+8f3y/Q/+Df7v/eT99v0k/ln+nP78/k7/mv/j/ysAdACmAMkA9gA9AX0BoAGeAZEBfwFhATkBDgHfAKwAeABGABYA3f+T/0f/Df/g/s/+yf7E/sL+xv7Z/u3+A/8j/1n/lv/V/xYAXQCaALoA2gD7ACYBSAFVAWoBdQFuAWEBRwElAQIB4gDLALYAlgCCAHgAYABMAEsAUwBgAHIAgwCYAKEApwC5AM4A5ADwAP8AFwEfASQBNgFAAUABPwFBAUEBPgE2ASkBGwEDAekAzwC+AKoAigBzAF8ASQA0ACYAGAAMAAIA9v/7/wMA/f/8//7/+f/3//b///8DAPX/7//r/93/z//B/7D/mf+H/37/d/9y/2P/OP8j/x7/Df8J/wD/B/8M/wj/G/81/zn/K/8m/zj/Rv9K/0r/Rf9D/zr/Mf8e/wn/+f7u/vL+9P7x/uL+zP66/qf+p/6o/rr+0v7d/vT+AP8U/yT/Mv9V/3j/oP/N//L/DwAoADoARgBWAGkAgACTAKQArwCoAKUAoACUAIgAdABmAFkASwBFADYAJQATAAYAAQD7//X/8v/t//H/+v///wUABgADAAwAFQAZACIAKwA2AD0AQgBDAEEARwBNAFQAYwBqAG0AbwB3AHgAeQCBAIAAiwCKAIoAkACUAJEAkACWAJgAoACeAKEApgCsALsAxADFAMQAyADEAMkAyQDEAMAAvwDAALoAuQCtAKcAogCdAKIAnwCaAJgAkgCOAIYAfQB+AHMAXwBTAEoAQwA1ACYAHwARAAEA9f/n/9v/zv/K/8n/xP/A/7f/tv+0/7D/sP+v/67/tP+7/7n/tP+q/6X/of+e/5z/lP+V/5T/jf+F/33/cv9k/2D/XP9Y/0j/PP82/yb/H/8W/wn///72/vn+9f71/v7++f76/gH/Cf8X/xz/Jv85/0j/Vf9d/2L/a/9z/4H/kP+c/6j/q/+r/6//tv/B/83/1f/k//D/+v8CAA4AFQAhAC8APABQAFcAXwBkAGYAbgBwAHAAcgB4AH4AegB2AG8AZABdAFUAVgBXAFMAUQBNAEoAQwBAAEAAQQBEAEgAUwBRAFcAYABhAG4AcwB7AIQAhwCPAJYAmwCaAJsAmACXAKAAnQCYAJEAiAB/AHcAcwBrAGkAYgBdAGMAXABaAFsAYABmAGoAdwB6AIEAigCIAI0AjwCQAJAAjQCPAIsAfwB8AHIAXABLAD8AMQAnABwACgD8/+3/4//W/8r/w/+9/7r/uf+z/7b/sf+p/67/tP+7/7v/wP/B/8T/x//H/8n/wv/B/8H/uP+w/6j/oP+V/4b/fv9y/2X/XP9U/0b/QP88/zD/Lf8q/yr/Mv81/zL/M/85/zr/P/9K/1D/Vf9Z/13/Zf9s/27/bP9r/2z/cf9z/3b/dv9+/4H/gv+M/47/mf+g/6j/s/+4/8f/0P/g/+3/8P/0//z/CgAYACQALQA4AEAARABHAEUATABPAEoASQBGAEcAQgA8ADoALwAoAC0AMwA3ADkAOAA7AEMARwBMAFkAYgBlAHEAgQCKAJQAlgCWAJwAnACZAJsAmACPAI0AigB/AHUAbQBmAGIAXwBcAFgAVgBQAEsASwBOAE0AUQBYAFoAYwBoAGoAbwBwAHgAewB7AHsAdQB8AHgAcwByAGYAXwBaAFIAQQA6AC4AJAAiABEABQD9//H/6P/g/9z/2//a/9n/2//b/9z/3f/c/9v/3f/i/+L/4//o/+P/4P/b/9b/0f/J/8j/wv+//7n/r/+q/6L/m/+U/43/kP+S/5X/kv+K/4z/i/+Q/5L/lP+Z/57/ov+i/6X/p/+r/63/qv+s/6z/qP+s/6z/qv+k/6j/qf+c/5r/m/+R/43/l/+U/5L/lv+V/5n/mv+f/6b/qP+u/7b/vv/H/9D/2f/k/+X/5//x//r/AAABAAkAEQAUABkAFwAaABUAFQAjACYAJwAsAC8ALgAzADUAOgBAAEoATgBUAFwAYQBpAGkAbABsAHYAegB8AIQAfgB/AHYAcgB1AG4AagBmAGUAYABcAFkATwBOAEwASwBPAEcARwBQAE8ATgBRAFEAUQBMAE8ATQBOAE8ASwBMAEgAQQA+AD0ANQAvACYAHAAaABIACQAGAAAA/v/5//T/9P/x/+n/5//n/+f/5f/j/+P/4f/i/+P/4//k/+P/5f/h/+X/3f/c/+P/1//W/9n/2f/X/9P/0v/R/9H/0v/P/8r/zP/S/9P/0P/K/8H/yf/H/8T/yf/I/8v/zf/I/8f/zP/Q/9D/zf/U/9b/1v/W/+r/AwD//wMAAgDy/+z/8v/q/+H/2//V/9P/1P/Y/9//2//N/9D/x//D/9T/0v/T/9T/0v/c/+L/6v/s/+r/5v/k/+z/7//1//f/8f/1//v///8GAAkABgAJAAcACQAPAAwADAAKAAsACwAQABgAGQAYAB4AIAAcABoAFAATAA8ADgAMAA8ADQAFAAwACgAOABQAEwAUABEAGgAdACEAIQAcACMAKAAwADEALgAxAC0AKgArACUAHAAaABUAEgANAAcABwACAP3/+//5//T/8v/6//T////6/wAA/f8KAKMAwgCDAJoApgBbAA4ABAAoAAkA1v/5/w8A9v/k/zcAiACYAGIAZgBxACYADQACABAA+v/M//f/BADN/8X/4P/3/+3/5v/4/x0ABQDu/z8AEAAHABkAKgAjAJ//FgATAKf/vv/M//T/oP+r/+n/0//W/+j/AwDd/9z/1f8hAHwAOQBJAJwAuACFAGMAjgCFAD4ALwAbAPP/zP+0/8b/p/93/4b/hf9o/3r/kv+j/5v/l/+x/8f/3f/d/wYAEwD4/xEAIQAzAC0ANABZAEEANwBDAEIAPwAXABgAGQD3/+X/7f/1/9f/v//J/87/p/+8/8z/t//A/7r/4f/V/8//8//c//3//////wcAAgAxABIAGwAoACsANAABABMADwALAAcA8f/8/+T/2//i/+b/5//q/+z/0//O/9r/zv/U/97/3v/q/93/4v8DAP7/8P/5////BQDu//P/+P/x//L/3P/X/+b/+P/u/9r/5//y/+r/6P/2//X/7f8CAP//+P/1//T/9P/O/97/8//b/8//0f/q//T/3P/U/+v/6P/W/+X/7//0//H/6P/S/8r/zP+5/9X/vP+V/7j/tP+U/5P/s//T/8X/p/+1/8z/wP+6/8H/z//j/+L/1//o/+7/7f/1//P/+v/v/+H/0v/K/8//1P/G/77/1f/K/8b/z//G/8//xv/J/9n/0P/b/9z/0f/c/+X/6P/d/+b/9//1//L/7//1//j//v/x/+X/7f/e/+b/4P/Y/+r/5P/k/9v/1P/Y/8r/1P/x/+r/4f/u/+3/5//j/+D/7P/9/wAA+P/+/wYABwADAAMAEgASAA0AEQAKAAgABgABAAUABAD9//r//v/6//D/7//4/+v/3f/p//L/7//g/+n//P/0//j/AAAHAAAA9f8KAAcA+v/2//3/CwAEAAoAEgANAP3///8OAAoACAARABkAEgAIAA8AEwAKAAQADwAgABEABQAGAPf/6v/v//X/7//7/wMA/f/x/+z/+f8CAAgAEwAXABsAIAAXABgAIwAXAAwADwAMAPz/9P/0/+7/8P/7/wkACQAQABcACQAJAAcACQAKAAEADwAcACQAJAAcABsAGQAbAB8AIwA0AEQAQQBAADgAMgAvACUAKAAfAB8AFQABAAMA/v/x/+z/9P8AAAEA9v/5/wAA/P8CAA8AHgAmACgAMwAwACEAIQAgACEAKAAsAC8AKAAZABkAEgAIAA8AEAAXAA8A///7//P/6v/e/+b//v////3/CgAZABcAFgAnACwALgA6AE4AVAA8ADQAPwA8AD0AQAA9AC8AHwAeABQA+//q/+T/6P/x/+v/5v/h/9b/3v/o/+j/6P/p//P/9f/y//b///8CAAcAFwAjACkAIwAgACYAIgAdACMAKwAxADEAKQAjAB0ADwAXABYABQAMAAgA+v/w/+3/+f/4/+T/8v8QAAcAAgAIAAgACwAHABgAHgAPABAAEAAKAAAAAAAFAAEA/f8IABEA///v//3//v/w/+v/8v/z/+b/6P/q/+P/3P/h/+v/7P/y////BAAAAAYAEwAbABcAFwAeAB4AFQALAAsACQAFAAgABwAFAP//+f/4//X/+P/x//H/9P/q/+7/6f/j/+f/6P/y//b/9/8AAAEAAAAAAAQACQAOABoAJgArACcAIQAhACUAGgAXABoAFgASAA0AEAALAAgAAgD9/wMABgAGAP7/AAD8//H/9P/5/wAAAgAGAAcAAQAEAAQABgAJAAgABAADAAAA/v/8//b/+//4//T////7/+//7P/w//H/7f/o/+v/6v/m/+n/5f/c/9v/4v/k/+X/4//l/+f/5P/n//P/9//1//r/+f/4//P/8f/x/+3/7P/y//P/7v/o/+f/5f/j/+L/5P/j/93/3v/W/9D/zv/R/9X/1P/V/9r/3f/X/9f/2//a/9v/5v/u/+f/6v/t/+7/6P/Z/+P/5P/k/+P/3v/a/9D/1P/U/8//zv/T/9//3//c/9z/0v/X/9//4//p/+b/4v/f/9//4v/b/93/7P/u/+//8f/s/+r/8v/0//r/AgD+//7////7//r/+//2//b/9v/2//P/7v/t/+f/5f/m/+X/5P/l/+r/8f/r/+v/6v/q//T/7v/u/+v/6P/p/+j/7P/p/+//7f/m/+n/6//u/+v/6P/r/+v/6//s/+r/6P/o/+T/4v/k/93/4f/q/+v/7v/s//D/7//u//P/9v/+//////8DAP///f///wQABQAEAAUA///6//v/+P/x/+7/8P/2//f/8v/1//j/7//w//T/9//4//n//v///wAA//8BAAMAAgD+/wEABQAEAAUAAgD+//v/+v/6//3//P/7//z/9//x//D/7//u//H/9//6//b/9f/5//v//f/8//7/BAAEAAgACgAMAA4ADwASABMADgASABIACAAJAAsACAAEAP//BAD8//b/+//4//b/8v/9//3/9f/9/wEA//8CAAUABQAHAAYACAALAAoADAAOAA4ADAAJAAkADAAKAAQAAwABAP3//f/4//n//P/3//j/9//x//L/9v/z//T/+f/1//n/+v/6/wEA/f/8/wAAAwALAAYAAgAEAAMABwAEAAIAAgACAAQA/f/9/////v/+//v//P/+//n/+P/4//b/9P/x//b/AAD5//b/+v/4//v//P/+/wAA/v8AAP7//f/9//z//v/9/////f/6/////v8BAAEA/P/5//v//P/4//7//f/6//v/+P/4//L/8f/4//f/+v/7//b//P/6//j/9//6////+v/9/wAA////////AAD7//r/+P/6//r/+v/7//f/+v/7//X/9//9//r/AAACAP///v/6//v/+/8AAP3//f8BAAAA/f8AAAMA+P/6//3//f8DAAAA/f/9//j/9//3//P/9P/w//D/8v/v//X/8//t/+//8P/y//D/8f/1//f/+P/9//v/+P/1//r//P/2//z/+f/6//n/9f/2//j/+f/y//b/+//0//T/9f/w//H/8f/z//n/9f/0//X/9P/1//T/+f////v//P8CAAEAAQADAAcABQACAAcABQADAP//AwAGAP3//v/8//v////8//3//f/8//n/+f/9//j/AQD+//X//P/8//7/+v/+/wQAAQABAAAAAgABAAQABgAEAAYABwAGAAgADAALAAUAAwADAAEAAQABAAAAAwADAP//AgABAAAA/////wQAAgAEAAQABAABAAUACQAHAAkACAAKAAoACQAJAAoACwAMAAgABwALAAkADAAMAAgABwAHAAUAAwAEAAEABQADAAEACQAGAAYACQAJAAoABwAJAAwACwAKAAoACQAIAAsADAANAAsACwAKAAYABwAHAAoACgAKAAoABwAIAAsADQAPAA4ADQAPABUAEgAQABMAEQATABMAEgAOABAAGAARABYAFwAQABoAFwAUABEAEgAQABAAGAAUABEAEgATABQAGAAYABUAGQAVABMAGQAbABoAGAAbAB0AGwAbABsAHQAcABkAGgAYABgAGQAUABYAFwATABMAFQAUABIADgAPABIACwAQABMADwAPAAwADgAMAA8AEwATABIAFAASABAAEwANAA8ADwANAA4ADQARAAwACgANAAsACwAKAAwACgAPAAsAAwALAAcABQAJAAUACQAOAAwADgANAAkADwARABAAEQAQABIADwANAAwACgARAA0AEgAVABEAEAAOABYAFAASAA8AEQAVAA8AEAAOAA4ADQARABMAEgAUABQAFwAUABMAEgARABMAFAATABAAEgAPABMAFAANAAkADgAWAA8AEAAOABAAFAAMAA8AEgASABEAEQATAA4ADwANAAwADgAEAA0AEAAJAAsABwALAAsACwAPAAsACwAJAAUABwAIAA4ADQAMABEAEAALAAwADgAOAA0ADwAPAA0ADQAJAAgADAAIAAcABQADAAMAAQACAAEAAgACAAQABgAEAAMABgAGAAEAAwAIAAUAAQACAAIAAwABAAMAAwD//wEAAAAAAP//AAABAP7/AAD9//r/////////AQAAAP///v////7/+v/9//7//v////7/+v/+//z//P////3///8BAP7/+//9//v//f/7//r/+//7//r/+f/7//7/+v/+/////v8AAPv/AgABAP7////9/wAAAAABAP///P/+/wAAAAD9//z/+//6//v/9f/5//v/9//7//f/9f/4//r/+P/5/wAA/f//////+//+//7//f/+///////9//7//P/7//7/+//8//3/9f/5//r/9//5//X/9v/1//T/9//4//j/+P/7//n/9P/1//j/+f/4//r/+v/5//z/+f/7/////v////7//P8CAAEA+f/5//v//P/6//r/8v/0//n/+v/7//j/+v/5//3/+v/7//7//v/8//7/AAD//wMA//8AAAEA//////3//v///wAAAQD///z//P/9//3//f/9//r/+v/7//z//f/5//r/+//7/////P/6//z//P///////v/+////AAD+//7/AAD9////AQD//wEA/f/+//z//P/8//n/+f/5//z//P8AAAEA+//8//3//f/+//7///8AAP7//f////7///8DAAIAAAD///7//f/9//7///8AAP////////v///8AAP7///8AAP///f/9//3/AQABAPz///////3/AAD8//v//P/8//z/+v/8//v/+v/6//n/+f/2//f/+P/1//b/+f/4//n/+f/5//n/9//5//f/9P/8//7/+f/7//r/9//5//r/+v/+//z//v/+//7/AQD///7//f/8//z//v////7//v////3//v////v////9//7/AQD+/wAAAgAGAAUABAADAAMABAADAAUAAwACAAIA//8BAAEAAgAEAAAAAQABAAAAAQD///3//v8BAAQAAQAAAAAA/f8BAAIAAQACAAIAAQADAAQAAwAEAAMABQAEAAQABgAGAAYABQAFAAQABwAIAAIAAgAFAAYACAAKAAYABgAJAAgABwAHAAgABgAGAAYABgAHAAQABwAFAAUACQAIAAgAAgAGAAgABgAGAAsACwAJAA4ADAALAA0ADQAOAAwACwALAAsACgAHAAoACgAKAAkACgAKAAoACAAGAAYABQAJAAUABQAKAAkABwAFAAgACgAJAAoACgAPABIADwANABEADQAOABAADQAOABQAEAAIABEAEAANAA0ADgAPAAsACwALAAwACwANAA0ADQAOAAcACgAOAAkACgAGAAUACwAKAAoACAAMAAsADgAOAAsADgANAAoABQAKAAsACQALAAUABwAJAAsADAALABAAEQAOAAsAEAAKAAoADgAOABAABwAMAAoABwAGAAMADAAHAAcACAAHAAoABgAMAAYAAAAFAAgACAAJAAkABwAPAA4AEQAPAAYADwARAA8ADwATABQAEQAMAA4AEgAOAA8ADgANAA4ACQAKAAgADQAPAAcACgAMAAwACgAKAAgACgAOAAwADAAKAAwACgAIAAkADAAMAA0AEQANAAoADwAOAA0AEQALAA0ADwAMAA4ACwANAAoACQANAAwACQALABEADgANAA0ADgAQAA4ADAAPAA4ABgAMAAkACAAMAAkACwAMAA0ADQANAAoACwANAAoADAAIAAsAEAASAA8ACwAPAAwACwANAA0ACAAGAAgABgAJAAwADAAKAAwADwAMAA8ADAAMAA0ADQALAAoADwANAAwADQAOAAkACQAKAAwACwAFAAsADQAJAAsADQALAAkADQAPAAwACwAMAA8ACwANAAsABwAOABAADAAJAAQABwANAAgACgALAAoADgAOAAoACgAPAAwADAAKAAcACwAPAA4ACgALAAYADAAMAAsAEgASABEACgANABAADQARABAADQAQAA8AEAATABEADAAMAA8ADQAQAA8ADQAMAAwAEAAOAA8ACwAFAA4AEQAOABAACwAOABMADwAPABEAFQARABEAEAAQABMAEQARABIAEgAQABEADQAPABEAEQARAA0ADAANAA4ADgAPAAoACgAOAAwADQAMAAsACwANAA0ADwAMAA4AEAALABAAEAAPAAoABwAOAAsABgAKAA0ADQAIAAwACgAHAAsACQALAAcABAADAAcACgAGAAkABgAFAAUABgALAAsADAAKAAUACAANAAYABwAFAAYABgACAAUABgAHAAQAAwABAAMAAwADAAUA/v/+/wEAAgABAP//AAADAAQAAgACAP3//v/9//7/AwD+////AQD//wAAAQACAAQAAgAAAP7/AAABAAAAAAACAP///f8BAP////////7/+v/7//z/+P/9//z/+v/8//3/+v/4//j/+P/6//f/9f/7//r/+P/7//f/+P/7//r/+P/3//v/9//z//X/8v/1//T/8f/3//X/8//2//b/9f/1//b/9v/2//n/9P/z//b/8//1//f/8v/z//L/8v/0//T/8v/y//T/8v/w//H/7f/q//H/7//u//D/7P/t/+v/7P/w/+//8P/t/+n/8//y/+n/7P/r/+v/7P/w//L/8f/x/+//8v/w/+r/7f/t//D/8f/u/+//7//v//D/7//x/+v/6//y/+3/6P/t/+3/6//v/+//7//s/+3/8f/v/+//9v/z/+//7//v//H/8P/z/+3/7P/w/+7/7//3//r/7f/u/+7/8f/y/+//8v/y//X/8f/x//P/8f/y//T/8v/v//D/8//x//L/8f/p/+//8P/r//D/7//z//D/8P/w/+v/7v/v//f/8v/x//P/8P/0//T/9P/z//H/8v/4//X/8//z//T/9v/0//T/8//0//n/9P/1//v/9//5//n/+P/5//X/9v/2//f/9//5//3/+f/6//n/+f/6//X/+f/7//r/+f/6//r/+v/6//r/+v/8//z/+//5//b/+v/0//b//P/5//r/+//9//v/+P/8//z//v/7//f//f/9//7//v/+//z/+f/9//n/9f/6//n/+v/+//7//f/8//z//P/9//3//v/8//7//f/7//3//f/9//z//P/8//////8AAP3//v////j//P/7//r//f/7//7//P/9//n/+v/5//j/+f/4//v/+P/5//f/+v/4//X/+P/3//f/+P/6//j/+//+//z//v///////P/8/wEA/v/+//3////9//v/AAD+//3////8//r///8AAP7//P/6//r/+v/8//z/+//7//v/+v/+//v/+v/9//3/AAD8//z//P/9//3//P///////v/+/wEA/v/+//z//P/9//3////+/wAAAAACAAAAAAADAAQABAABAAIAAQAAAAMAAAD/////AAABAP7/AAD///7/AgABAAAAAQD///7//////wEABAAAAAMABAACAAEA//8BAAAAAQABAP//AAD/////AQD+/wAAAwADAP///f////7/AAD///r//f8AAPr/+f/6//r/+v/4//f/8P/z//n/8f/y//H/7v/x//T/9v/w//T/9//w//L/9v/1//P/9f/1//P/8//y//P/8P/y//r/9P/y//X/8f/v//H/8//v/+n/8P/y/+v/8P/y/+3/6//u/+3/6f/x//D/7//x/+7/8P/v/+//7f/t/+//8f/x/+z/7f/v/+7/8f/2//j/9//4//X/9P/1//P/9f/2//X/+f/5//j//f/2//P/9//z//v/9//y//f/9v/5//b/+f/5//b/9//4//f/+v/9//v/+//8////AAD+//7////+////AAD/////AgD+//3///8AAP///f8AAP7//f/9//v//f8AAAAA///+//////////7///8AAAIAAQAAAAAAAQACAAEAAQABAAEAAQACAAEAAQACAAEABQAGAAAABAADAAMABgADAAUABAADAAUABgAIAAMABQADAAMAAwADAAcABAAFAAUABAAFAAEABwAIAAcADQAIAAgACAALAA0ACgAMAAkACgAJAAoADQALAA8ADQAPAA0ABwANAA8AEgATAA8ADQAPABEADAANABUAEwAOABIAEwATABMAEwATABMAEwARAA8ADwATABEAEQAUABIAEAARABMAEwAQABQADgALABIAEwATABAADwAQAA8ADwANAA8AEAANAA8ADwANAA0AEwAQAA4AEwAPAAwADgAPAA8ADwARAA4ACwALAA0ADwAOAA8ADgAKAAoADgAQABEAEAAOAAwADQANAAwADwAMAAwACAADAAsACgAGAAYABAAIAAwACQAKAAgABwAHAAAAAAABAAAAAwAEAAMAAgAHAAcABQAFAAMAAgABAAQABAAEAAQABAADAAIABQABAAgACAADAAUABAAEAAIABgAEAAEAAQACAAAA//////3/AAD//wEAAQAAAAIAAwADAAEAAgADAAQAAwADAAEA/v8DAP7//v8BAAAA/////wAA/v8AAP3/+P/5//v/+v/5//z//P/9//z/+P/6//v//P/5//v////9//7//f/9//7/+/8BAAEA+v/7//z/+//9//7//P/7//f/+//+//v/+//4//j/+P/3//j/9v/0//P/+//7//X/9//2//L/8P/5//f/9f/4//T/9v/y//P/8//x//L/8//1//H/8f/2//H/8f/1//T/8//z//T/9P/2//L/8f/z/+7/7v/s/+v/7f/t//P/8v/w//L/7//u/+//7//y//X/8P/w//L/8v/1//P/8v/w//P/9P/u/+3/8f/0/+//7P/0//P/+P/7/+//8P/y//H/+P/1//P/8//1//T/7v/x//D/8f/u//L/8v/z//j/7v/x/+//7v/x//L/9P/s//L/9v/x/+//8f/u//T/+v/2//T/8P/0//X/+v/2//D/9//w/+3/8v/w//H/8P/y//X/8v/0//H/9P/4//H/9v/1//D/8f/u/+//9P/w//H/6v/q//P/8P/y//X/8P/y//r/9v/0//P/8P/3//L/8f/2//f/9f/3//f/9P/2//f/+f/y//b/+v/z//f/+P/3//f/+f/0//L/+//2//v//P/x//f/+P/2//H/9f/6//j/+//7//v/+//8/wAA/P/8//3//P/7//r//P/+/////v///wAA/f/7/wAAAgD//wAAAAD+//7//v8BAP//AAADAPz//v8BAPv//f////7/+//8/wAA/f8AAAEAAQACAAEABAADAAMAAwAEAAIAAwAHAA==\" type=\"audio/x-wav\" />\n",
              "                    Your browser does not support the audio element.\n",
              "                </audio>\n",
              "              "
            ],
            "text/plain": [
              "<IPython.lib.display.Audio object>"
            ]
          },
          "metadata": {
            "tags": []
          },
          "execution_count": 8
        }
      ]
    },
    {
      "cell_type": "code",
      "metadata": {
        "id": "B3ISm2faizpf",
        "colab": {
          "base_uri": "https://localhost:8080/",
          "height": 75
        },
        "outputId": "1f871a28-cb33-4371-dd92-17d29630ac37"
      },
      "source": [
        "Audio(\"cat/004ae714_nohash_0.wav\")"
      ],
      "execution_count": null,
      "outputs": [
        {
          "output_type": "execute_result",
          "data": {
            "text/html": [
              "\n",
              "                <audio controls=\"controls\" >\n",
              "                    <source src=\"data:audio/x-wav;base64,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\" type=\"audio/x-wav\" />\n",
              "                    Your browser does not support the audio element.\n",
              "                </audio>\n",
              "              "
            ],
            "text/plain": [
              "<IPython.lib.display.Audio object>"
            ]
          },
          "metadata": {
            "tags": []
          },
          "execution_count": 6
        }
      ]
    },
    {
      "cell_type": "code",
      "metadata": {
        "colab": {
          "base_uri": "https://localhost:8080/",
          "height": 75
        },
        "id": "zfegOMy6_75w",
        "outputId": "83907bb7-dbf0-4049-feca-3c895462bac5"
      },
      "source": [
        "Audio(\"/content/nine/012c8314_nohash_1.wav\")\n"
      ],
      "execution_count": null,
      "outputs": [
        {
          "output_type": "execute_result",
          "data": {
            "text/html": [
              "\n",
              "                <audio controls=\"controls\" >\n",
              "                    <source src=\"data:audio/x-wav;base64,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\" type=\"audio/x-wav\" />\n",
              "                    Your browser does not support the audio element.\n",
              "                </audio>\n",
              "              "
            ],
            "text/plain": [
              "<IPython.lib.display.Audio object>"
            ]
          },
          "metadata": {
            "tags": []
          },
          "execution_count": 7
        }
      ]
    },
    {
      "cell_type": "markdown",
      "metadata": {
        "id": "25WgIgbncJq9"
      },
      "source": [
        "## Q2: Displaying a waveform\n",
        "\n",
        "Use **torchaudio.load** to load an audio file. Then, use matplotlib to display it.\n",
        "\n",
        "HINT: you may have to transpose the waveform with **.t()** in order to display it"
      ]
    },
    {
      "cell_type": "code",
      "metadata": {
        "id": "BJmE6p_cjXMT",
        "colab": {
          "base_uri": "https://localhost:8080/",
          "height": 283
        },
        "outputId": "44cdb67a-d0f3-4ecd-8de8-31645a5d8754"
      },
      "source": [
        "waveform, sample_rate = torchaudio.load(\"cat/004ae714_nohash_0.wav\", normalization=True)\n",
        "\n",
        "plt.plot(waveform.t())\n",
        "\n",
        "waveform.detach().numpy().shape"
      ],
      "execution_count": null,
      "outputs": [
        {
          "output_type": "execute_result",
          "data": {
            "text/plain": [
              "(1, 16000)"
            ]
          },
          "metadata": {
            "tags": []
          },
          "execution_count": 10
        },
        {
          "output_type": "display_data",
          "data": {
            "image/png": "[encoded data removed]",
            "text/plain": [
              "<Figure size 432x288 with 1 Axes>"
            ]
          },
          "metadata": {
            "tags": [],
            "needs_background": "light"
          }
        }
      ]
    },
    {
      "cell_type": "markdown",
      "metadata": {
        "id": "xkmYb0GhcQbk"
      },
      "source": [
        "## Computing MFCC features\n",
        "\n",
        "Extracting MFCC (**Mel Frequency Cepstral Coefficients**) features is a well known signal processing technique, especially used in **ASR** (Automatic Speech Recognition). These features are meant to represent the way humans perceive sound. https://en.wikipedia.org/wiki/Mel-frequency_cepstrum\n",
        "\n",
        "*Torchaudio* has transforms (just like the ones in *torchvision*) that allow you to compute these features:"
      ]
    },
    {
      "cell_type": "code",
      "metadata": {
        "id": "mAgWaItCkBdK",
        "colab": {
          "base_uri": "https://localhost:8080/",
          "height": 245
        },
        "outputId": "a6d3ac40-47c3-4ce3-cb19-9f3553a8b91f"
      },
      "source": [
        "mfcc = torchaudio.transforms.MFCC(n_mfcc=12, log_mels=True)(waveform)\n",
        "plt.figure()\n",
        "plt.imshow(mfcc[0].detach().numpy())\n",
        "print(mfcc.shape)"
      ],
      "execution_count": null,
      "outputs": [
        {
          "output_type": "stream",
          "text": [
            "torch.Size([1, 12, 81])\n"
          ],
          "name": "stdout"
        },
        {
          "output_type": "stream",
          "text": [
            "/usr/local/lib/python3.6/dist-packages/torchaudio/functional.py:318: UserWarning: At least one mel filterbank has all zero values. The value for `n_mels` (128) may be set too high. Or, the value for `n_freqs` (201) may be set too low.\n",
            "  \"At least one mel filterbank has all zero values. \"\n",
            "/usr/local/lib/python3.6/dist-packages/torch/functional.py:516: UserWarning: stft will require the return_complex parameter be explicitly  specified in a future PyTorch release. Use return_complex=False  to preserve the current behavior or return_complex=True to return  a complex output. (Triggered internally at  /pytorch/aten/src/ATen/native/SpectralOps.cpp:653.)\n",
            "  normalized, onesided, return_complex)\n",
            "/usr/local/lib/python3.6/dist-packages/torch/functional.py:516: UserWarning: The function torch.rfft is deprecated and will be removed in a future PyTorch release. Use the new torch.fft module functions, instead, by importing torch.fft and calling torch.fft.fft or torch.fft.rfft. (Triggered internally at  /pytorch/aten/src/ATen/native/SpectralOps.cpp:590.)\n",
            "  normalized, onesided, return_complex)\n"
          ],
          "name": "stderr"
        },
        {
          "output_type": "display_data",
          "data": {
            "image/png": "[encoded data removed]",
            "text/plain": [
              "<Figure size 432x288 with 1 Axes>"
            ]
          },
          "metadata": {
            "tags": [],
            "needs_background": "light"
          }
        }
      ]
    },
    {
      "cell_type": "markdown",
      "metadata": {
        "id": "C4DgzPVMza78"
      },
      "source": [
        "Here, we are only keeping 12 MFCC features because it is enough for our purposes.\n",
        "\n",
        "As you can see, we are getting a Tensor of shape [1, 12, 81], because we have one audio channel (mono) with 12 coefficients over 81 time windows."
      ]
    },
    {
      "cell_type": "markdown",
      "metadata": {
        "id": "EbBmOyI1cVS-"
      },
      "source": [
        "## Creating a custom audio Dataset\n",
        "\n",
        "You may have noticed that in this dataset, the test and validation datasets are given in testing_list.txt and validation_list.txt files. \n",
        "\n",
        "With that, we can infer a training list as well:"
      ]
    },
    {
      "cell_type": "code",
      "metadata": {
        "id": "4Xy92F47oCnz",
        "colab": {
          "base_uri": "https://localhost:8080/"
        },
        "outputId": "86931b6f-49a3-4e6a-ac64-59bb5bb85d2d"
      },
      "source": [
        "## Read the test list\n",
        "with open(\"testing_list.txt\") as testing_f:\n",
        "  testing_list = [x.strip() for x in testing_f.readlines()]\n",
        "\n",
        "## Read the val list\n",
        "with open(\"validation_list.txt\") as val_f:\n",
        "  validation_list = [x.strip() for x in val_f.readlines()]  \n",
        "\n",
        "print(\"Number of testing samples\", len(testing_list))\n",
        "print(\"Number of validation samples\", len(validation_list))\n",
        "\n",
        "## Construct a train list\n",
        "training_list = []\n",
        "for c in classes:\n",
        "  training_list += glob.glob(c + \"/*\")\n",
        "\n",
        "training_list = list(filter(lambda x : not x in testing_list and not x in validation_list, training_list))\n",
        "print(\"Number of training samples\", len(training_list))"
      ],
      "execution_count": null,
      "outputs": [
        {
          "output_type": "stream",
          "text": [
            "Number of testing samples 6835\n",
            "Number of validation samples 6798\n",
            "Number of training samples 51088\n"
          ],
          "name": "stdout"
        }
      ]
    },
    {
      "cell_type": "markdown",
      "metadata": {
        "id": "gXMxzxIZ0l_4"
      },
      "source": [
        "Now, we can create a custom SpeechDataset class that takes a file list in input."
      ]
    },
    {
      "cell_type": "code",
      "metadata": {
        "id": "16BFbZcPmEUo"
      },
      "source": [
        "class SpeechDataset(torch.utils.data.Dataset):\n",
        "  \n",
        "  def __init__(self, classes, file_list):\n",
        "    \n",
        "    self.classes = classes\n",
        "    \n",
        "    # create a map from class name to integer\n",
        "    self.class_to_int = dict(zip(classes, range(len(classes))))\n",
        "    \n",
        "    # store the file names\n",
        "    self.samples = file_list\n",
        "    \n",
        "    # store our MFCC transform\n",
        "    self.mfcc_transform = torchaudio.transforms.MFCC(n_mfcc=12, log_mels=True)\n",
        "    \n",
        "  def __len__(self):\n",
        "    return len(self.samples)\n",
        "    \n",
        "  def __getitem__(self,i):\n",
        "    with torch.no_grad():\n",
        "      # load a normalized waveform\n",
        "      waveform,_ = torchaudio.load(self.samples[i], normalization=True)\n",
        "      \n",
        "      # if the waveform is too short (less than 1 second) we pad it with zeroes\n",
        "      if waveform.shape[1] < 16000:\n",
        "        waveform = F.pad(input=waveform, pad=(0, 16000 - waveform.shape[1]), mode='constant', value=0)\n",
        "      \n",
        "      # then, we apply the transform\n",
        "      mfcc = self.mfcc_transform(waveform).squeeze(0).transpose(0,1)\n",
        "    \n",
        "    # get the label from the file name\n",
        "    label = self.samples[i].split(\"/\")[0]\n",
        "    \n",
        "    # return the mfcc coefficient with the sample label\n",
        "    return mfcc, self.class_to_int[label]"
      ],
      "execution_count": null,
      "outputs": []
    },
    {
      "cell_type": "markdown",
      "metadata": {
        "id": "kEh1Qpj51Kt2"
      },
      "source": [
        "## Q3: Create instances of the SpeechDataset for the train and val sets\n",
        "\n",
        "Fill the code below to create your Dataset objects for training."
      ]
    },
    {
      "cell_type": "code",
      "metadata": {
        "id": "f6daZ3fGqAPH",
        "colab": {
          "base_uri": "https://localhost:8080/"
        },
        "outputId": "914debc0-4fd5-4193-bb23-14a118bb95ce"
      },
      "source": [
        "train_set = SpeechDataset(classes, training_list)\n",
        "val_set =SpeechDataset(classes, validation_list)\n",
        "\n",
        "print(train_set[5][0].shape)"
      ],
      "execution_count": null,
      "outputs": [
        {
          "output_type": "stream",
          "text": [
            "torch.Size([81, 12])\n"
          ],
          "name": "stdout"
        },
        {
          "output_type": "stream",
          "text": [
            "/usr/local/lib/python3.6/dist-packages/torchaudio/functional.py:318: UserWarning: At least one mel filterbank has all zero values. The value for `n_mels` (128) may be set too high. Or, the value for `n_freqs` (201) may be set too low.\n",
            "  \"At least one mel filterbank has all zero values. \"\n"
          ],
          "name": "stderr"
        }
      ]
    },
    {
      "cell_type": "code",
      "metadata": {
        "colab": {
          "base_uri": "https://localhost:8080/",
          "height": 285
        },
        "id": "j2fa73jkCRas",
        "outputId": "ccd22484-391b-429f-8098-6cd4dff8996a"
      },
      "source": [
        "plt.imshow(train_set[2][0].detach().numpy()), train_set[2][1]"
      ],
      "execution_count": null,
      "outputs": [
        {
          "output_type": "execute_result",
          "data": {
            "text/plain": [
              "(<matplotlib.image.AxesImage at 0x7f5d5ee90f60>, 0)"
            ]
          },
          "metadata": {
            "tags": []
          },
          "execution_count": 13
        },
        {
          "output_type": "display_data",
          "data": {
            "image/png": "[encoded data removed]",
            "text/plain": [
              "<Figure size 432x288 with 1 Axes>"
            ]
          },
          "metadata": {
            "tags": [],
            "needs_background": "light"
          }
        }
      ]
    },
    {
      "cell_type": "code",
      "metadata": {
        "colab": {
          "base_uri": "https://localhost:8080/",
          "height": 285
        },
        "id": "4RVXU7ApCgjE",
        "outputId": "4efb13fa-c974-482f-cb63-d213187f24d6"
      },
      "source": [
        "plt.imshow(train_set[5][0].detach().numpy()),train_set[5][1]"
      ],
      "execution_count": null,
      "outputs": [
        {
          "output_type": "execute_result",
          "data": {
            "text/plain": [
              "(<matplotlib.image.AxesImage at 0x7f5d5eddea20>, 0)"
            ]
          },
          "metadata": {
            "tags": []
          },
          "execution_count": 14
        },
        {
          "output_type": "display_data",
          "data": {
            "image/png": "[encoded data removed]",
            "text/plain": [
              "<Figure size 432x288 with 1 Axes>"
            ]
          },
          "metadata": {
            "tags": [],
            "needs_background": "light"
          }
        }
      ]
    },
    {
      "cell_type": "markdown",
      "metadata": {
        "id": "P_l-FHgwccx2"
      },
      "source": [
        "## Q4: Create Dataloaders for training and validation\n",
        "\n",
        "Fill the code below to create DataLoaders with the Datasets you just created.\n",
        "\n",
        "Do not forget to add shuffling to the training DataLoader.\n",
        "\n",
        "Print a batch of data to make sure everything works."
      ]
    },
    {
      "cell_type": "code",
      "metadata": {
        "id": "Cndnctmar0RM",
        "colab": {
          "base_uri": "https://localhost:8080/"
        },
        "outputId": "3484070f-e437-4f50-affa-4894d6779468"
      },
      "source": [
        "train_dl = torch.utils.data.DataLoader(train_set, batch_size=16, shuffle=True)\n",
        "val_dl = torch.utils.data.DataLoader(val_set, batch_size=16)\n",
        "\n",
        "print(next(iter(train_dl)))"
      ],
      "execution_count": null,
      "outputs": [
        {
          "output_type": "stream",
          "text": [
            "[tensor([[[-1.0637e+02, -5.4292e+00, -4.4026e+00,  ...,  2.9215e+00,\n",
            "          -1.6236e+00, -6.3222e-02],\n",
            "         [-1.0987e+02, -5.7308e+00, -5.6694e+00,  ...,  1.6178e+00,\n",
            "          -1.8101e+00,  1.4947e+00],\n",
            "         [-1.1159e+02, -6.0773e+00, -3.7907e+00,  ...,  4.6690e+00,\n",
            "           1.1873e-01,  2.4011e-01],\n",
            "         ...,\n",
            "         [-9.6928e+01,  2.7216e+00,  3.7308e-01,  ..., -2.8185e-01,\n",
            "          -1.1177e+00,  2.4567e+00],\n",
            "         [-1.5630e+02,  2.3842e-07, -1.8173e-05,  ...,  2.2292e-05,\n",
            "          -1.0246e-05,  9.5367e-06],\n",
            "         [-1.5630e+02,  7.5102e-06, -8.2770e-06,  ...,  2.2531e-05,\n",
            "          -1.0448e-05,  9.9540e-06]],\n",
            "\n",
            "        [[-8.1759e+01,  1.3860e+01, -3.7891e+00,  ...,  2.3775e+00,\n",
            "          -1.1725e+00,  1.9890e+00],\n",
            "         [-7.9835e+01,  1.8154e+01,  1.4739e+00,  ..., -1.5673e-01,\n",
            "          -1.2407e+00, -2.8058e-01],\n",
            "         [-8.1054e+01,  1.8053e+01,  1.6121e+00,  ...,  3.5604e+00,\n",
            "          -1.7877e-01, -1.0043e-01],\n",
            "         ...,\n",
            "         [-7.2773e+01,  2.5374e+01, -5.4732e+00,  ...,  3.1986e+00,\n",
            "          -2.9796e+00, -1.1225e+00],\n",
            "         [-7.9088e+01,  2.0450e+01, -2.4793e+00,  ...,  2.0414e+00,\n",
            "          -1.7644e+00, -1.7635e+00],\n",
            "         [-8.0818e+01,  2.1718e+01,  3.5504e-01,  ...,  2.0360e+00,\n",
            "          -8.1333e-01, -1.7140e+00]],\n",
            "\n",
            "        [[-1.0700e+02,  6.2579e+00, -2.8017e+00,  ..., -3.0257e-01,\n",
            "           1.1567e-01,  4.4625e-01],\n",
            "         [-1.0445e+02,  6.1932e+00, -4.4051e+00,  ..., -1.5964e+00,\n",
            "          -4.6408e+00,  2.8258e+00],\n",
            "         [-8.7158e+01, -4.9640e+00, -3.6067e+00,  ..., -4.2867e+00,\n",
            "          -1.1621e+01,  2.2945e+00],\n",
            "         ...,\n",
            "         [-1.0152e+02,  2.0503e+01, -1.0238e+01,  ...,  5.2159e-01,\n",
            "          -2.2874e+00, -3.5416e+00],\n",
            "         [-1.0440e+02,  1.7519e+01, -5.9484e+00,  ...,  1.2155e+00,\n",
            "          -3.6096e+00, -9.1137e-01],\n",
            "         [-1.1243e+02,  1.2488e+01, -7.6225e+00,  ..., -2.1027e+00,\n",
            "          -1.0060e+00,  3.5442e+00]],\n",
            "\n",
            "        ...,\n",
            "\n",
            "        [[-3.6310e+01, -1.2952e+01, -7.8606e+00,  ..., -9.4955e-01,\n",
            "           1.6476e+00, -3.3207e+00],\n",
            "         [-2.5805e+01, -8.3271e+00, -8.4538e+00,  ..., -1.4591e+00,\n",
            "          -7.8381e-01,  3.6709e-01],\n",
            "         [-2.5016e+01, -8.6356e+00, -7.9262e+00,  ..., -1.4722e+00,\n",
            "          -9.9671e-01, -2.8116e-01],\n",
            "         ...,\n",
            "         [-5.0455e+01,  1.4424e+01, -4.5440e+00,  ...,  2.4199e+00,\n",
            "          -1.7764e+00,  2.9952e+00],\n",
            "         [-5.4253e+01,  1.1257e+01, -5.2808e+00,  ...,  4.1887e+00,\n",
            "          -3.0289e+00,  1.3281e+00],\n",
            "         [-5.0918e+01,  1.5076e+01, -1.9460e+00,  ...,  4.4671e+00,\n",
            "           6.1532e-01, -8.4091e-01]],\n",
            "\n",
            "        [[-4.2514e+01, -6.6791e+00, -7.6030e+00,  ...,  1.9882e+00,\n",
            "          -9.9034e-01,  1.5600e+00],\n",
            "         [-6.1105e+01, -6.7716e+00, -1.9908e+00,  ...,  8.0269e-01,\n",
            "          -4.4778e+00,  6.2526e-01],\n",
            "         [-6.6312e+01, -6.0104e+00, -2.9473e-01,  ..., -1.9802e+00,\n",
            "          -5.5104e+00,  3.9964e-02],\n",
            "         ...,\n",
            "         [-2.1620e+01, -6.9558e+00, -1.0964e+01,  ..., -7.2922e-01,\n",
            "          -2.7402e+00,  1.2959e+00],\n",
            "         [-5.3900e+01, -5.1083e+00, -6.2540e+00,  ...,  2.6015e+00,\n",
            "          -2.8787e+00,  1.2076e+00],\n",
            "         [-5.3686e+01, -4.3675e+00, -4.7477e+00,  ...,  3.4185e-01,\n",
            "          -3.0607e+00, -1.6681e+00]],\n",
            "\n",
            "        [[-1.2736e+02, -1.2894e+01,  2.9484e+00,  ..., -5.2305e+00,\n",
            "           1.5889e+00, -2.5854e-01],\n",
            "         [-1.3642e+02, -3.9840e+00,  8.8136e-01,  ..., -5.0858e+00,\n",
            "          -1.0458e+00,  2.2228e+00],\n",
            "         [-1.4109e+02,  2.1813e+00,  1.5837e+00,  ..., -4.5236e+00,\n",
            "          -1.3525e+00,  1.2462e+00],\n",
            "         ...,\n",
            "         [-1.3562e+02,  5.8121e+00, -1.5208e+00,  ..., -4.6965e-01,\n",
            "          -2.7436e+00,  1.5641e+00],\n",
            "         [-1.3340e+02,  8.0805e+00, -1.1825e+00,  ..., -7.1822e-01,\n",
            "          -1.1925e+00,  2.5316e-01],\n",
            "         [-1.3368e+02,  5.0888e+00,  1.7587e+00,  ..., -2.2760e-01,\n",
            "          -2.8678e+00, -1.2272e+00]]]), tensor([20,  4,  9, 27, 20, 15,  1, 23, 25, 20, 28, 16, 16, 22,  9, 26])]\n"
          ],
          "name": "stdout"
        }
      ]
    },
    {
      "cell_type": "markdown",
      "metadata": {
        "id": "-3Md2cucYmo0"
      },
      "source": [
        "# Part 2: Implementing a simple Recurrent Neural Network\n",
        "\n",
        "For our network, we are going to use an **RNN module** from torch.nn (which can have multiple layers, or cells).\n",
        "\n",
        "This module has an **input size**, which in our case will be equal to **the number of MFCC features (12)**. The input size is the number of dimensions of **x** in the image below.\n",
        "\n",
        "It also has an **hidden size**, which is the size of the output of the layers as well as the size of the internal representation of the features. We are going to choose **256** to start, but feel free to change that. This is the dimension of **h** in the image below.\n",
        "\n",
        "PyTorch RNN modules have a **number of layers**, which is simply the number of stacked **RNN Cells**. We are going to use 2 cells here, but feel free to change that as well. This is the **depth** in the image below.\n",
        "\n",
        "Then, in order to get as many output as the number of classes in our dataset, we need to have a **Linear layer** that goes from **256 inputs (the hidden size) to 30 outputs (the number of classes).**\n",
        "\n",
        "Finally, to output categorical probabilities, we use a **Softmax layer.**\n",
        "\n",
        "![alt text](https://i.stack.imgur.com/SjnTl.png)"
      ]
    },
    {
      "cell_type": "markdown",
      "metadata": {
        "id": "cd7MYqOfchC0"
      },
      "source": [
        "## Q4: Implement the network\n",
        "\n",
        "Fill the code below to implement the network."
      ]
    },
    {
      "cell_type": "code",
      "metadata": {
        "id": "b4fzpQlXvlPG"
      },
      "source": [
        "class SpeechRNN(torch.nn.Module):\n",
        "  \n",
        "  def __init__(self):\n",
        "    super(SpeechRNN, self).__init__()\n",
        "    \n",
        "    self.rnn = torch.nn.LSTM(input_size = 12, \n",
        "                              hidden_size= 256, \n",
        "                              num_layers = 4, \n",
        "                              batch_first=True)\n",
        "    \n",
        "    self.out_layer = torch.nn.Linear(256, 30)\n",
        "    \n",
        "    self.softmax = torch.nn.LogSoftmax(dim=1)\n",
        "    \n",
        "  def forward(self, x):\n",
        "    \n",
        "    out, _ = self.rnn(x)\n",
        "    \n",
        "    x = self.out_layer(out[:,-1,:])\n",
        "    \n",
        "    return self.softmax(x)"
      ],
      "execution_count": null,
      "outputs": []
    },
    {
      "cell_type": "markdown",
      "metadata": {
        "id": "Oo3BG30RESke"
      },
      "source": [
        "# To add more layers"
      ]
    },
    {
      "cell_type": "code",
      "metadata": {
        "id": "SBR6TBkSER73"
      },
      "source": [
        "class SpeechRNN(torch.nn.Module):\n",
        "  \n",
        "  def __init__(self):\n",
        "    super(SpeechRNN, self).__init__()\n",
        "    \n",
        "    self.rnn = torch.nn.LSTM(input_size = 12, \n",
        "                              hidden_size= 256, \n",
        "                              num_layers = 4, \n",
        "                              batch_first=True)\n",
        "    \n",
        "    self.h1 = torch.nn.Linear(256, 256)\n",
        "\n",
        "    self.h2 = torch.nn.Linear(256, 256)\n",
        "\n",
        "    self.out_layer = torch.nn.Linear(256, 30)\n",
        "    \n",
        "    self.softmax = torch.nn.LogSoftmax(dim=1)\n",
        "    \n",
        "  def forward(self, x):\n",
        "    \n",
        "    x, _ = self.rnn(x)\n",
        "\n",
        "    x = self.h1(x)\n",
        "\n",
        "    out = self.h2(x)\n",
        "    \n",
        "    x = self.out_layer(out[:,-1,:])\n",
        "    \n",
        "    return self.softmax(x)"
      ],
      "execution_count": null,
      "outputs": []
    },
    {
      "cell_type": "markdown",
      "metadata": {
        "id": "C49yQcCt21g2"
      },
      "source": [
        "Use this code to check that your implementation is working."
      ]
    },
    {
      "cell_type": "code",
      "metadata": {
        "id": "sP7MB5iTzzey",
        "colab": {
          "base_uri": "https://localhost:8080/"
        },
        "outputId": "647966f9-1171-4c06-a63f-a0b6109cede8"
      },
      "source": [
        "net = SpeechRNN()\n",
        "batch = next(iter(train_dl))[0]\n",
        "print(batch.shape)\n",
        "y = net(batch)\n",
        "print(y.shape)\n",
        "print(net)"
      ],
      "execution_count": null,
      "outputs": [
        {
          "output_type": "stream",
          "text": [
            "torch.Size([16, 81, 12])\n",
            "torch.Size([16, 30])\n",
            "SpeechRNN(\n",
            "  (rnn): LSTM(12, 256, num_layers=4, batch_first=True)\n",
            "  (h1): Linear(in_features=256, out_features=256, bias=True)\n",
            "  (h2): Linear(in_features=256, out_features=256, bias=True)\n",
            "  (out_layer): Linear(in_features=256, out_features=30, bias=True)\n",
            "  (softmax): LogSoftmax(dim=1)\n",
            ")\n"
          ],
          "name": "stdout"
        }
      ]
    },
    {
      "cell_type": "markdown",
      "metadata": {
        "id": "-9YE3KoWYpSV"
      },
      "source": [
        "# Part 3: Training the network\n",
        "\n",
        "As usual, we need to define a loss and an optimizer. Since we have a categorical classification problem, we use cross-entropy (negative log likelihood).\n",
        "\n",
        "We can use the Adam optimizer, feel free to change it or the learning rate."
      ]
    },
    {
      "cell_type": "code",
      "metadata": {
        "id": "IGojns40_47n"
      },
      "source": [
        "##RE-RUN THIS CODE TO GET A \"NEW\" NETWORK\n",
        "\n",
        "LEARNING_RATE = 0.001\n",
        "\n",
        "## Create an instance of our network\n",
        "net = SpeechRNN()\n",
        "\n",
        "## Move it to the GPU\n",
        "#net = net()\n",
        "\n",
        "# Negative log likelihood loss\n",
        "criterion = torch.nn.NLLLoss()\n",
        "\n",
        "# Adam optimizer\n",
        "optimizer = torch.optim.Adam(net.parameters(), lr=LEARNING_RATE)"
      ],
      "execution_count": null,
      "outputs": []
    },
    {
      "cell_type": "markdown",
      "metadata": {
        "id": "NFRoVfl8corQ"
      },
      "source": [
        "## Q5: Training loop\n",
        "\n",
        "We also need to write a training loop. Fill the code below to create it:"
      ]
    },
    {
      "cell_type": "code",
      "metadata": {
        "id": "cMy9ADUP_5ib",
        "colab": {
          "base_uri": "https://localhost:8080/",
          "height": 597,
          "referenced_widgets": [
            "9f37a11bfe95447f9a90a0bbcf6c3ae9",
            "79727fb62924427893b66c6b33cc8245",
            "fc64a4dd68804a6badc11d96386fde03",
            "856e67ff269648c4a8ae8b85aaefb5c9",
            "9d228e3c0231495dab50d6b7b01936c2",
            "28204cd997614bb7aaa476c8880dfe0c",
            "27f1fc12cc4045ce8e6d8f14095166d1",
            "2074670d80f74eda9c9672104ac8046d",
            "29e4eaf54e514451a314596ad5a2cf5c",
            "72c9540c0b5b48b9ad2254ac6aae9c84",
            "610695a7851b426e8ab5a8d73ab63402",
            "d959a20a726848cb81c57f57c08c260e",
            "2aa9bd27992f4eb8933f2b7988ae6118",
            "1e97ea054fab4747a8b005ac61c895bf",
            "efab843f022e470badee9134f21b2032",
            "85b99f0019914f6f95740b080b6ec6b8",
            "089f1cbffef14f159a92e81f34458049",
            "fefb44b6d5fa48c382175dbafc65ae07",
            "fff32d1279774cc981f726aa048c3228",
            "6a466c4f9a4145d6a295063e7a061a76",
            "726d30d04c5c4aa99b1a508840f70f22",
            "6f9af38eecbf43bfb761f7695aafd24a",
            "948b83a956ca4b1f8cc8d6a932cb9103",
            "914b6f6d500b43798c8a4829ad3e19fa",
            "062c22193634467fa7b63f27a09a4198",
            "f224370e9ee645eab47bd2cdd64d276b",
            "416eedf9130f414eaaf9b7c18109af04",
            "8a68236fe4e44c0db8827d33ec7b4757",
            "84daaa16b0ab48f8bb2faca47739a5ab",
            "a6d9ebb8176c48329424dce25df00504",
            "f2a82eef15144d55805695ea3ae3549a",
            "24c92ac87e654f5cbc1d47eac3094f5d",
            "7a20948200e840f992e823b2f3aac782",
            "e3cdd55e99f648fba2c4c0d492d07718",
            "8348ffb8a6c54e879ae38ba0da2e3b46",
            "fd271528d8194476a1dc86d863b7b190",
            "241133e5f0a04e88964a8491e7cd6c6a",
            "7cd76c793e424ec3af8fdd2ee6b5be0b",
            "2ab5a3f494fa4d61ab669cbb7de5c43a",
            "6a5b2955c8fb493da175c3e8bc5a8b8a"
          ]
        },
        "outputId": "7c1212d7-717d-4916-f415-2071519cd971"
      },
      "source": [
        "## NUMBER OF EPOCHS TO TRAIN\n",
        "N_EPOCHS = 2\n",
        "\n",
        "epoch_loss, epoch_acc, epoch_val_loss, epoch_val_acc = [], [], [], []\n",
        "\n",
        "for e in range(N_EPOCHS):\n",
        "  \n",
        "  print(\"EPOCH:\",e)\n",
        "  \n",
        "  ### TRAINING LOOP\n",
        "  running_loss = 0\n",
        "  running_accuracy = 0\n",
        "  \n",
        "  ## Put the network in training mode\n",
        "  net.train()\n",
        "  \n",
        "  for i, batch in enumerate(tqdm_notebook(train_dl)):\n",
        "    \n",
        "    # Get a batch from the dataloader\n",
        "    x = batch[0]\n",
        "    labels = batch[1]\n",
        "    \n",
        "    # move the batch to GPU\n",
        "    #x = x()\n",
        "    #labels = labels()\n",
        "\n",
        "    # Compute the network output\n",
        "    y = net(x)\n",
        "    \n",
        "    # Compute the loss\n",
        "    loss = criterion(y, labels)\n",
        "    \n",
        "    # Reset the gradients\n",
        "    optimizer.zero_grad()\n",
        "    \n",
        "    # Compute the gradients\n",
        "    loss.backward()\n",
        "    \n",
        "    # Apply one step of the descent algorithm to update the weights\n",
        "    optimizer.step()\n",
        "    \n",
        "    ## Compute some statistics\n",
        "    with torch.no_grad():\n",
        "      running_loss += loss.item()\n",
        "      running_accuracy += (y.max(1)[1] == labels).sum().item()\n",
        "    \n",
        "  print(\"Training accuracy:\", running_accuracy/float(len(train_set)),\n",
        "        \"Training loss:\", running_loss/float(len(train_set)))\n",
        "  \n",
        "  epoch_loss.append(running_loss/len(train_set))\n",
        "  epoch_acc.append(running_accuracy/len(train_set))\n",
        "  \n",
        "  ### VALIDATION LOOP\n",
        "  ## Put the network in validation mode\n",
        "  net.eval()\n",
        "  \n",
        "  running_val_loss = 0\n",
        "  running_val_accuracy = 0\n",
        "  \n",
        "  for i, batch in enumerate(val_dl):\n",
        "    \n",
        "    with torch.no_grad():\n",
        "      # Get a batch from the dataloader\n",
        "      x = batch[0]\n",
        "      labels = batch[1]\n",
        "\n",
        "      # move the batch to GPU\n",
        "      #x = x.cuda()\n",
        "      #labels = labels.cuda()\n",
        "\n",
        "      # Compute the network output\n",
        "      y= net(x)\n",
        "      \n",
        "      # Compute the loss\n",
        "      loss = criterion(y, labels)\n",
        "      \n",
        "      running_val_loss += loss.item()\n",
        "      running_val_accuracy += (y.max(1)[1] == labels).sum().item()\n",
        "    \n",
        "  print(\"Validation accuracy:\", running_val_accuracy/float(len(val_set)),\n",
        "        \"Validation loss:\", running_val_loss/float(len(val_set)))\n",
        "  \n",
        "  epoch_val_loss.append(running_val_loss/len(val_set))\n",
        "  epoch_val_acc.append(running_val_accuracy/len(val_set))\n",
        "      "
      ],
      "execution_count": null,
      "outputs": [
        {
          "output_type": "stream",
          "text": [
            "EPOCH: 0\n"
          ],
          "name": "stdout"
        },
        {
          "output_type": "stream",
          "text": [
            "/usr/local/lib/python3.6/dist-packages/ipykernel_launcher.py:17: TqdmDeprecationWarning: This function will be removed in tqdm==5.0.0\n",
            "Please use `tqdm.notebook.tqdm` instead of `tqdm.tqdm_notebook`\n"
          ],
          "name": "stderr"
        },
        {
          "output_type": "display_data",
          "data": {
            "application/vnd.jupyter.widget-view+json": {
              "model_id": "9f37a11bfe95447f9a90a0bbcf6c3ae9",
              "version_minor": 0,
              "version_major": 2
            },
            "text/plain": [
              "HBox(children=(FloatProgress(value=0.0, max=3193.0), HTML(value='')))"
            ]
          },
          "metadata": {
            "tags": []
          }
        },
        {
          "output_type": "stream",
          "text": [
            "/usr/local/lib/python3.6/dist-packages/torch/autograd/__init__.py:132: UserWarning: CUDA initialization: The NVIDIA driver on your system is too old (found version 10010). Please update your GPU driver by downloading and installing a new version from the URL: http://www.nvidia.com/Download/index.aspx Alternatively, go to: https://pytorch.org to install a PyTorch version that has been compiled with your version of the CUDA driver. (Triggered internally at  /pytorch/c10/cuda/CUDAFunctions.cpp:100.)\n",
            "  allow_unreachable=True)  # allow_unreachable flag\n"
          ],
          "name": "stderr"
        },
        {
          "output_type": "stream",
          "text": [
            "\n",
            "Training accuracy: 0.42338709677419356 Training loss: 0.1124998881714054\n",
            "Validation accuracy: 0.5944395410414828 Validation loss: 0.08029986762341138\n",
            "EPOCH: 1\n"
          ],
          "name": "stdout"
        },
        {
          "output_type": "display_data",
          "data": {
            "application/vnd.jupyter.widget-view+json": {
              "model_id": "29e4eaf54e514451a314596ad5a2cf5c",
              "version_minor": 0,
              "version_major": 2
            },
            "text/plain": [
              "HBox(children=(FloatProgress(value=0.0, max=3193.0), HTML(value='')))"
            ]
          },
          "metadata": {
            "tags": []
          }
        },
        {
          "output_type": "stream",
          "text": [
            "\n",
            "Training accuracy: 0.744577983088005 Training loss: 0.0537227940296616\n",
            "Validation accuracy: 0.7928802588996764 Validation loss: 0.04515000406898466\n",
            "EPOCH: 2\n"
          ],
          "name": "stdout"
        },
        {
          "output_type": "display_data",
          "data": {
            "application/vnd.jupyter.widget-view+json": {
              "model_id": "089f1cbffef14f159a92e81f34458049",
              "version_minor": 0,
              "version_major": 2
            },
            "text/plain": [
              "HBox(children=(FloatProgress(value=0.0, max=3193.0), HTML(value='')))"
            ]
          },
          "metadata": {
            "tags": []
          }
        },
        {
          "output_type": "stream",
          "text": [
            "\n",
            "Training accuracy: 0.8251252740369558 Training loss: 0.038090182713850125\n",
            "Validation accuracy: 0.8114151220947338 Validation loss: 0.04156062181563086\n",
            "EPOCH: 3\n"
          ],
          "name": "stdout"
        },
        {
          "output_type": "display_data",
          "data": {
            "application/vnd.jupyter.widget-view+json": {
              "model_id": "062c22193634467fa7b63f27a09a4198",
              "version_minor": 0,
              "version_major": 2
            },
            "text/plain": [
              "HBox(children=(FloatProgress(value=0.0, max=3193.0), HTML(value='')))"
            ]
          },
          "metadata": {
            "tags": []
          }
        },
        {
          "output_type": "stream",
          "text": [
            "\n",
            "Training accuracy: 0.8536055433761353 Training loss: 0.03197891009619883\n",
            "Validation accuracy: 0.8467196234186526 Validation loss: 0.03424171518075936\n",
            "EPOCH: 4\n"
          ],
          "name": "stdout"
        },
        {
          "output_type": "display_data",
          "data": {
            "application/vnd.jupyter.widget-view+json": {
              "model_id": "7a20948200e840f992e823b2f3aac782",
              "version_minor": 0,
              "version_major": 2
            },
            "text/plain": [
              "HBox(children=(FloatProgress(value=0.0, max=3193.0), HTML(value='')))"
            ]
          },
          "metadata": {
            "tags": []
          }
        },
        {
          "output_type": "stream",
          "text": [
            "\n",
            "Training accuracy: 0.8744519260883182 Training loss: 0.027738614357404722\n",
            "Validation accuracy: 0.8462783171521036 Validation loss: 0.03426199578992184\n"
          ],
          "name": "stdout"
        }
      ]
    },
    {
      "cell_type": "code",
      "metadata": {
        "id": "tpGw2VwON7Se",
        "colab": {
          "base_uri": "https://localhost:8080/"
        },
        "outputId": "1c7922d8-3b2e-457a-ca14-711b2d171bb2"
      },
      "source": [
        "!nvidia-smi"
      ],
      "execution_count": null,
      "outputs": [
        {
          "output_type": "stream",
          "text": [
            "Sat Feb  6 05:41:36 2021       \n",
            "+-----------------------------------------------------------------------------+\n",
            "| NVIDIA-SMI 460.39       Driver Version: 418.67       CUDA Version: 10.1     |\n",
            "|-------------------------------+----------------------+----------------------+\n",
            "| GPU  Name        Persistence-M| Bus-Id        Disp.A | Volatile Uncorr. ECC |\n",
            "| Fan  Temp  Perf  Pwr:Usage/Cap|         Memory-Usage | GPU-Util  Compute M. |\n",
            "|                               |                      |               MIG M. |\n",
            "|===============================+======================+======================|\n",
            "|   0  Tesla T4            Off  | 00000000:00:04.0 Off |                    0 |\n",
            "| N/A   38C    P8     9W /  70W |      0MiB / 15079MiB |      0%      Default |\n",
            "|                               |                      |                 ERR! |\n",
            "+-------------------------------+----------------------+----------------------+\n",
            "                                                                               \n",
            "+-----------------------------------------------------------------------------+\n",
            "| Processes:                                                                  |\n",
            "|  GPU   GI   CI        PID   Type   Process name                  GPU Memory |\n",
            "|        ID   ID                                                   Usage      |\n",
            "|=============================================================================|\n",
            "|  No running processes found                                                 |\n",
            "+-----------------------------------------------------------------------------+\n"
          ],
          "name": "stdout"
        }
      ]
    },
    {
      "cell_type": "markdown",
      "metadata": {
        "id": "_AB3fhIDZkcA"
      },
      "source": [
        "## Q6: From RNN to LSTM/GRU\n",
        "\n",
        "As you can see, the accuracy is pretty bad when we are only using \"regular\" RNNs. These are not used very much in practice nowadays because they do not have long-term memory. This means that by the time the network is done processing the whole audio sample, it probably has already forgotten the important parts of it. **Replace the RNN module in your network (Q4) with an LSTM or a GRU module (as you want). Train a new network and watch that accuracy go up!**"
      ]
    },
    {
      "cell_type": "markdown",
      "metadata": {
        "id": "we2NokjPSJyk"
      },
      "source": [
        "# Part 4: Evaluation\n",
        "\n",
        "Now, we need to evaluate our network on the test set.\n",
        "\n",
        "Use the code below to do that:"
      ]
    },
    {
      "cell_type": "code",
      "metadata": {
        "id": "-MuCIQF0SOMp",
        "colab": {
          "base_uri": "https://localhost:8080/"
        },
        "outputId": "6146f0f4-fa57-442b-b9c2-ddbd7d7d231e"
      },
      "source": [
        "# Create a test dataset instance\n",
        "test_dataset = SpeechDataset(classes, testing_list)\n",
        "\n",
        "# Create a DataLoader\n",
        "test_dl = torch.utils.data.DataLoader(test_dataset, batch_size=64)\n",
        "\n",
        "net.eval()\n",
        "\n",
        "test_loss = 0\n",
        "test_accuracy = 0\n",
        "\n",
        "preds, y_test = np.array([]), np.array([])\n",
        "\n",
        "for i, batch in enumerate(test_dl):\n",
        "\n",
        "  with torch.no_grad():\n",
        "    # Get a batch from the dataloader\n",
        "    x = batch[0]\n",
        "    labels = batch[1]\n",
        "\n",
        "    # move the batch to GPU\n",
        "    #x = x.cuda()\n",
        "    #labels = labels.cuda()\n",
        "\n",
        "    # Compute the network output\n",
        "    y = net(x)\n",
        "\n",
        "    # Compute the loss\n",
        "    loss = criterion(y, labels)\n",
        "    \n",
        "    ## Store all the predictions an labels for later\n",
        "    preds = np.hstack([preds, y.max(1)[1].cpu().numpy()])\n",
        "    y_test = np.hstack([y_test, labels.cpu().numpy()])\n",
        "\n",
        "    test_loss += loss.item()\n",
        "    test_accuracy += (y.max(1)[1] == labels).sum().item()\n",
        "\n",
        "print(\"Test accuracy:\", test_accuracy/float(len(test_dataset)),\n",
        "      \"Test loss:\", test_loss/float(len(test_dataset)))"
      ],
      "execution_count": null,
      "outputs": [
        {
          "output_type": "stream",
          "text": [
            "/usr/local/lib/python3.6/dist-packages/torchaudio/functional.py:318: UserWarning: At least one mel filterbank has all zero values. The value for `n_mels` (128) may be set too high. Or, the value for `n_freqs` (201) may be set too low.\n",
            "  \"At least one mel filterbank has all zero values. \"\n"
          ],
          "name": "stderr"
        },
        {
          "output_type": "stream",
          "text": [
            "Test accuracy: 0.8507681053401609 Test loss: 0.008404378765742973\n"
          ],
          "name": "stdout"
        }
      ]
    },
    {
      "cell_type": "markdown",
      "metadata": {
        "id": "0cdeFL0Wb-Ro"
      },
      "source": [
        "## Confusion matrix\n",
        "\n",
        "In classification problems, it is common to use a confusion matrix to visualize which particular classes the model struggles with.\n",
        "\n",
        "Use the code below to generate a confusion matrix. What is the confusion that your network makes the most?"
      ]
    },
    {
      "cell_type": "code",
      "metadata": {
        "id": "4gjiSPncbzuS",
        "colab": {
          "base_uri": "https://localhost:8080/",
          "height": 671
        },
        "outputId": "c87fee42-087f-462d-d7e3-3d2e9796fac2"
      },
      "source": [
        "def show_confusion_matrix(pred, Y_TEST, classes):\n",
        "\n",
        "  cm = confusion_matrix(y_true=Y_TEST, y_pred=pred)\n",
        "  cm = normalize(cm,axis=1,norm='l1')\n",
        "  \n",
        "  df_cm = pd.DataFrame(cm, index = classes, columns = classes)\n",
        "  \n",
        "  plt.figure(figsize=(30,15))\n",
        "  \n",
        "  cmap = sn.cubehelix_palette(light=1, as_cmap=True)\n",
        "  sn.heatmap(df_cm, annot=True,cmap=cmap)\n",
        "  plt.title('Confusion Matrix',fontdict={'fontsize':20})\n",
        "  plt.xlabel('Predicted labels')\n",
        "  plt.ylabel('True labels')\n",
        "  plt.show\n",
        "\n",
        "\n",
        "show_confusion_matrix(preds, y_test, classes)"
      ],
      "execution_count": null,
      "outputs": [
        {
          "output_type": "display_data",
          "data": {
            "image/png": "[encoded data removed]",
            "text/plain": [
              "<Figure size 2160x1080 with 2 Axes>"
            ]
          },
          "metadata": {
            "tags": [],
            "needs_background": "light"
          }
        }
      ]
    },
    {
      "cell_type": "code",
      "metadata": {
        "id": "h0LtTgmBl-Lg"
      },
      "source": [
        ""
      ],
      "execution_count": null,
      "outputs": []
    }
  ]
}