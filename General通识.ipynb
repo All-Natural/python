{
  "nbformat": 4,
  "nbformat_minor": 0,
  "metadata": {
    "kernelspec": {
      "display_name": "Python 3",
      "language": "python",
      "name": "python3"
    },
    "language_info": {
      "codemirror_mode": {
        "name": "ipython",
        "version": 3
      },
      "file_extension": ".py",
      "mimetype": "text/x-python",
      "name": "python",
      "nbconvert_exporter": "python",
      "pygments_lexer": "ipython3",
      "version": "3.8.3"
    },
    "colab": {
      "name": "General通识.ipynb",
      "provenance": [],
      "include_colab_link": true
    }
  },
  "cells": [
    {
      "cell_type": "markdown",
      "metadata": {
        "id": "view-in-github",
        "colab_type": "text"
      },
      "source": [
        "<a href=\"https://colab.research.google.com/github/All-Natural/python/blob/master/General%E9%80%9A%E8%AF%86.ipynb\" target=\"_parent\"><img src=\"https://colab.research.google.com/assets/colab-badge.svg\" alt=\"Open In Colab\"/></a>"
      ]
    },
    {
      "cell_type": "markdown",
      "metadata": {
        "id": "Iotqhy45VzXE"
      },
      "source": [
        "### Employee resignation analysis"
      ]
    },
    {
      "cell_type": "markdown",
      "metadata": {
        "id": "mkk7eGCuVzXG"
      },
      "source": [
        "1. 进行数据展示\n",
        "2. 简单的EDA分析(更细节的分析在单独的EDA分析中)\n",
        "3. 数据预处理建模\n",
        "4. 算法对比（LR, RF, LGBM...）(这个在另附一篇ML算法的对比上)"
      ]
    },
    {
      "cell_type": "code",
      "metadata": {
        "id": "EJWuBYYYVzXH"
      },
      "source": [
        "import pandas as pd\n",
        "import matplotlib.pyplot as plt\n",
        "import numpy as np\n",
        "import warnings\n",
        "import os\n",
        "from sklearn.preprocessing import LabelEncoder\n",
        "import seaborn as sns\n",
        "warnings.filterwarnings('ignore')\n",
        "%matplotlib inline"
      ],
      "execution_count": null,
      "outputs": []
    },
    {
      "cell_type": "code",
      "metadata": {
        "id": "LUi3TJ5nVzXI"
      },
      "source": [
        "# 先载入IBM HR DATA这个数据集然后对照着IBM HR DATA (Edited)来看看Attrition那一列0和1代表的都是什么\n",
        "dataoriginal = pd.read_csv('IBM HR DATA.csv')\n",
        "attrition_classes = pd.value_counts(dataoriginal[\"Attrition\"],sort = True).sort_index()\n",
        "attrition_classes.plot(kind = \"bar\")\n",
        "plt.xticks(rotation=0) \n",
        "plt.title(\"Attrition Show\")"
      ],
      "execution_count": null,
      "outputs": []
    },
    {
      "cell_type": "code",
      "metadata": {
        "id": "hFfN5gKcVzXJ"
      },
      "source": [
        "# 载入数据\n",
        "data = pd.read_csv(\"IBM HR Data (Edited).csv\")\n",
        "data.head()"
      ],
      "execution_count": null,
      "outputs": []
    },
    {
      "cell_type": "code",
      "metadata": {
        "id": "Xw_4wX4BVzXJ"
      },
      "source": [
        "data.shape\n",
        "# 一共有23423条样本，每条样本共计28个特征"
      ],
      "execution_count": null,
      "outputs": []
    },
    {
      "cell_type": "code",
      "metadata": {
        "id": "WSOw2SKsVzXK"
      },
      "source": [
        "data.info()"
      ],
      "execution_count": null,
      "outputs": []
    },
    {
      "cell_type": "markdown",
      "metadata": {
        "id": "BO_afVWQVzXK"
      },
      "source": [
        "#### Missing_value"
      ]
    },
    {
      "cell_type": "code",
      "metadata": {
        "id": "9zLGfT50VzXK"
      },
      "source": [
        "def missing_value_table(df):\n",
        "    # 计算所有缺失值\n",
        "    mis_val = df.isnull().sum()\n",
        "    \n",
        "    # 求出百分比\n",
        "    mis_val_percent = 100*df.isnull().sum() / len(df)\n",
        "    \n",
        "    # 做成表格展示出来，合并\n",
        "    mis_val_table = pd.concat([mis_val,mis_val_percent],axis=1)\n",
        "    mis_val_rename = mis_val_table.rename(columns = {0:\"Missing values\", 1:\"% of total values\"})\n",
        "    \n",
        "    # 剔除完整的数据（无缺失值）并对现有数据进行排序\n",
        "    mis_val_rename = mis_val_rename[mis_val_rename.iloc[:,1] != 0].sort_values(\"% of total values\", ascending = False) \n",
        "    # 取所有数据的第一列， 并进行降序排列\n",
        "    \n",
        "    return mis_val_rename"
      ],
      "execution_count": null,
      "outputs": []
    },
    {
      "cell_type": "code",
      "metadata": {
        "id": "9Yk4GFmIVzXK"
      },
      "source": [
        "missing_value_table(data)[:10]"
      ],
      "execution_count": null,
      "outputs": []
    },
    {
      "cell_type": "markdown",
      "metadata": {
        "id": "ms51wsg3VzXL"
      },
      "source": [
        "#### Object"
      ]
    },
    {
      "cell_type": "code",
      "metadata": {
        "id": "svnUcvRlVzXL"
      },
      "source": [
        "data.dtypes.value_counts()"
      ],
      "execution_count": null,
      "outputs": []
    },
    {
      "cell_type": "code",
      "metadata": {
        "id": "xqaE-H8HVzXL"
      },
      "source": [
        "data.select_dtypes('object').apply(pd.Series.nunique,axis = 0)"
      ],
      "execution_count": null,
      "outputs": []
    },
    {
      "cell_type": "code",
      "metadata": {
        "id": "rggYAgKjVzXM"
      },
      "source": [
        "data = pd.get_dummies(data)\n",
        "data.shape"
      ],
      "execution_count": null,
      "outputs": []
    },
    {
      "cell_type": "code",
      "metadata": {
        "id": "f3Bo_3nAVzXM"
      },
      "source": [
        "le = LabelEncoder()\n",
        "for col in data :\n",
        "    if data[col].dtypes == \"object\" :\n",
        "        if len (list(data[col].unique())) <= 2:\n",
        "            le.fit(data[col])\n",
        "            data[col] = le.transform(data[col])"
      ],
      "execution_count": null,
      "outputs": []
    },
    {
      "cell_type": "markdown",
      "metadata": {
        "id": "iWzBtHd2VzXM"
      },
      "source": [
        "### EDA"
      ]
    },
    {
      "cell_type": "markdown",
      "metadata": {
        "id": "7HQFxhrlVzXM"
      },
      "source": [
        "#### Attrition Show"
      ]
    },
    {
      "cell_type": "code",
      "metadata": {
        "id": "z0S8UQnmVzXM"
      },
      "source": [
        "attrition_classes = pd.value_counts(data[\"Attrition\"],sort = True).sort_index()\n",
        "attrition_classes.plot(kind = \"bar\")\n",
        "plt.xticks(rotation=0) \n",
        "plt.title(\"Attrition Show\")"
      ],
      "execution_count": null,
      "outputs": []
    },
    {
      "cell_type": "code",
      "metadata": {
        "id": "VzyhpYDqVzXN"
      },
      "source": [
        "pd.value_counts(data[\"Attrition\"], sort = True).sort_index()"
      ],
      "execution_count": null,
      "outputs": []
    },
    {
      "cell_type": "markdown",
      "metadata": {
        "id": "WrJ0idaaVzXN"
      },
      "source": [
        "#### 0代表工作，1代表辞职"
      ]
    },
    {
      "cell_type": "code",
      "metadata": {
        "id": "hQyddAoxVzXN"
      },
      "source": [
        "# The correlation coefficient 引入corr相关系数\n",
        "# 1<=x<=1,1 is the most relevant, and minus 1 is the most outlier\n",
        "correlations = data.corr()['Attrition'].sort_values()\n",
        "correlations.head()"
      ],
      "execution_count": null,
      "outputs": []
    },
    {
      "cell_type": "code",
      "metadata": {
        "id": "_aUou5UEVzXN"
      },
      "source": [
        "correlations.tail(6)"
      ],
      "execution_count": null,
      "outputs": []
    },
    {
      "cell_type": "markdown",
      "metadata": {
        "id": "l0PWcr_lVzXN"
      },
      "source": [
        "从corr系数可以看到OverTime_Yes是对于辞职与否的最大影响因素，其次是DistanceFromHome , NumCompaniesWorked , HourlyRate  "
      ]
    },
    {
      "cell_type": "code",
      "metadata": {
        "id": "ojh9wtSSVzXO"
      },
      "source": [
        "# 看一下影响因素最大的'OverTime'是什么样子的\n",
        "OverTime_classes = pd.value_counts(dataoriginal[\"OverTime\"],sort = True).sort_index()\n",
        "OverTime_classes.plot(kind = \"bar\")\n",
        "plt.xticks(rotation=0) \n",
        "plt.title(\"OverTime Show\")"
      ],
      "execution_count": null,
      "outputs": []
    },
    {
      "cell_type": "code",
      "metadata": {
        "id": "_0G2LxxCVzXO"
      },
      "source": [
        "pd.value_counts(data[\"OverTime_Yes\"], sort = True).sort_index()"
      ],
      "execution_count": null,
      "outputs": []
    },
    {
      "cell_type": "markdown",
      "metadata": {
        "id": "iewPz8KLVzXO"
      },
      "source": [
        "#### 1代表加班，0代表不加班"
      ]
    },
    {
      "cell_type": "code",
      "metadata": {
        "id": "VOPe5Xm4VzXO"
      },
      "source": [
        "plt.figure(figsize = (10,8))\n",
        "#KDEPLOT\n",
        "sns.kdeplot(data.loc[data['Attrition']==0, 'OverTime_Yes'] , label = 'Attrition == 0')\n",
        "sns.kdeplot(data.loc[data['Attrition']==1, 'OverTime_Yes'] , label = 'Attrition == 1')\n",
        "plt.xlabel('OverTime_Yes')\n",
        "plt.grid()\n",
        "plt.show()"
      ],
      "execution_count": null,
      "outputs": []
    },
    {
      "cell_type": "markdown",
      "metadata": {
        "id": "tSXY_8Z2VzXO"
      },
      "source": [
        "从图中可以看到，对于已经辞职的人来说加班与否其实没有太大影响；对于尚在工作的员工来说，不加班就不辞职"
      ]
    },
    {
      "cell_type": "code",
      "metadata": {
        "id": "2WYp7O8NVzXP"
      },
      "source": [
        "# 构造剩下的影响因素数据\n",
        "ext_data = data[['Attrition','NumCompaniesWorked', 'DistanceFromHome', 'OverTime_Yes']]\n",
        "ext_data_corrs = ext_data.corr()\n",
        "ext_data_corrs"
      ],
      "execution_count": null,
      "outputs": []
    },
    {
      "cell_type": "code",
      "metadata": {
        "id": "yKds4hDrVzXP"
      },
      "source": [
        "# 采用热力图展示各个指标的相关性\n",
        "plt.figure(figsize=(10,8))\n",
        "sns.heatmap(ext_data_corrs,cmap = plt.cm.RdYlBu_r,annot=True) # heatmap\n",
        "plt.show()"
      ],
      "execution_count": null,
      "outputs": []
    },
    {
      "cell_type": "code",
      "metadata": {
        "id": "49oC-H7mVzXP"
      },
      "source": [
        "plt.figure(figsize = (10,8))\n",
        "for i,source in enumerate (['NumCompaniesWorked', 'DistanceFromHome', 'OverTime_Yes']):\n",
        "    # 指定子图的位置\n",
        "    plt.subplot(3,1,i+1) # 3行1列，依次向下排序\n",
        "    # KDEplot\n",
        "    sns.kdeplot(data.loc[data['Attrition']==0,source],label='Attrition==0')\n",
        "    sns.kdeplot(data.loc[data['Attrition']==1,source],label='Attrition==1')\n",
        "    plt.title('D of %s' % source)\n",
        "    plt.grid()\n",
        "plt.tight_layout(h_pad=2.5)\n",
        "plt.show()"
      ],
      "execution_count": null,
      "outputs": []
    },
    {
      "cell_type": "markdown",
      "metadata": {
        "id": "HTbftg-6VzXP"
      },
      "source": [
        "还有更多的EDA分析在另一篇EDA分析中"
      ]
    },
    {
      "cell_type": "markdown",
      "metadata": {
        "id": "UNTLCG_-VzXP"
      },
      "source": [
        "### 数据预处理"
      ]
    },
    {
      "cell_type": "code",
      "metadata": {
        "id": "Zh2BTdZYVzXQ"
      },
      "source": [
        "from sklearn.preprocessing import StandardScaler\n",
        "from sklearn.model_selection import train_test_split\n",
        "\n",
        "# 首先先对最初的数据进行处理\n",
        "label = data['Attrition']\n",
        "train = data.drop (columns = ['Attrition']) # 删除原始数据集data的标签‘Attrition’\n",
        "\n",
        "train,test,y_train,y_test = train_test_split(train, label, test_size = 0.3, random_state = 0)  # 随机种子设为0，保证每次传回的值都是一样的\n",
        "features = list(train.columns) # 所有的列名做一个list表格形式\n",
        "\n",
        "imputer = SimpleImputer(strategy = 'median') # 拿中位数填充\n",
        "std = StandardScaler() # 标准化模块\n",
        "\n",
        "# 缺失值填充\n",
        "imputer.fit(train)\n",
        "train = imputer.transform(train)\n",
        "test = imputer.transform(test)\n",
        "\n",
        "# 数据标准化\n",
        "std.fit(train)\n",
        "train = std.transform(train)\n",
        "test = std.transform(test)"
      ],
      "execution_count": null,
      "outputs": []
    },
    {
      "cell_type": "code",
      "metadata": {
        "id": "JpiD6U8SVzXQ"
      },
      "source": [
        "test.shape"
      ],
      "execution_count": null,
      "outputs": []
    },
    {
      "cell_type": "markdown",
      "metadata": {
        "id": "xpv5hMDiVzXQ"
      },
      "source": [
        "#### 基础模型：逻辑回归"
      ]
    },
    {
      "cell_type": "code",
      "metadata": {
        "id": "zHHOQnBJVzXQ"
      },
      "source": [
        "from sklearn.linear_model import LogisticRegression\n",
        "log_reg = LogisticRegression(C=0.0001)  # C为正则化惩罚的力度 \n",
        "log_reg.fit(train,y_train)"
      ],
      "execution_count": null,
      "outputs": []
    },
    {
      "cell_type": "code",
      "metadata": {
        "id": "CJm1O3UkVzXQ"
      },
      "source": [
        "# 预测结果，并返回评估指标\n",
        "predictions = log_reg.predict_proba(test)[:,1] # 来得到[0，1]的一个预测指标, 0为最偏离， 1为最接近\n",
        "predictions[:5] # 此时得到的为概率值"
      ],
      "execution_count": null,
      "outputs": []
    },
    {
      "cell_type": "code",
      "metadata": {
        "id": "S9KDI2SDVzXR"
      },
      "source": [
        "from sklearn.metrics import roc_auc_score\n",
        "test_auc = roc_auc_score(y_test,predictions) # y_test为标签，predictions为测试出来的结果\n",
        "test_auc # 通过这个预测结果的准确度来评估结果准不准，越接近1越准"
      ],
      "execution_count": null,
      "outputs": []
    },
    {
      "cell_type": "markdown",
      "metadata": {
        "id": "p0_2O0QIVzXR"
      },
      "source": [
        "### 机器学习算法对比"
      ]
    },
    {
      "cell_type": "markdown",
      "metadata": {
        "id": "xJrHR7SrVzXR"
      },
      "source": [
        "具体的算法对比在另一篇里面"
      ]
    }
  ]
}