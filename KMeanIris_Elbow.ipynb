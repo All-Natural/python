{
  "nbformat": 4,
  "nbformat_minor": 0,
  "metadata": {
    "colab": {
      "name": "KMeanIris_Elbow.ipynb",
      "provenance": [],
      "include_colab_link": true
    },
    "kernelspec": {
      "name": "python3",
      "display_name": "Python 3"
    }
  },
  "cells": [
    {
      "cell_type": "markdown",
      "metadata": {
        "id": "view-in-github",
        "colab_type": "text"
      },
      "source": [
        "<a href=\"https://colab.research.google.com/github/All-Natural/python/blob/master/KMeanIris_Elbow.ipynb\" target=\"_parent\"><img src=\"https://colab.research.google.com/assets/colab-badge.svg\" alt=\"Open In Colab\"/></a>"
      ]
    },
    {
      "cell_type": "code",
      "metadata": {
        "id": "wyLUaKWGe6Zd",
        "tags": [],
        "colab": {
          "base_uri": "https://localhost:8080/",
          "height": 1000
        },
        "outputId": "0e6be5e3-5fc4-4838-eec2-62cecce89ae5"
      },
      "source": [
        "# -*- coding: utf-8 -*-\n",
        "# -*- coding: utf-8 -*-\n",
        "import numpy as np\n",
        "import pandas as pd\n",
        "\n",
        "#Importing the credit card default data\n",
        "# download the csv file in the same folder as the python file. Run programme in that directory\n",
        "\n",
        "df = pd.read_csv(\"/content/Iris(Edit).csv\")\n",
        "print(df)\n",
        "\n",
        "# only have the columns ID, LIMIT_BAL, SEX, EDUCATION, MARRIAGE, AGE, default payment next month\n",
        "\n",
        "# separate the data into the features and classification\n",
        "X = df.drop(columns = ['Iris'])\n",
        "y = df['Iris']\n",
        "print(X)\n",
        "print(\"Actual Y\")\n",
        "print(y)\n",
        "\n",
        "# implement the KMeans\n",
        "from sklearn.cluster import KMeans\n",
        "model = KMeans(n_clusters=3, random_state=0)\n",
        "model.fit(X[:], y[:])\n",
        "y_predicted = model.predict(X)\n",
        "print(\"Predicted Y\")\n",
        "print(y_predicted)\n",
        "\n",
        "# assses accuracy of model\n",
        "# since KMeans only separates into two different categories without labels, we need to account for different labels in python\n",
        "if sum(y_predicted == np.array(y)) > sum(y_predicted != np.array(y)):\n",
        "    y_predicted_labelled = y_predicted\n",
        "    score = sum(y_predicted == np.array(y))\n",
        "else:\n",
        "    y_predicted_labelled = abs(y_predicted - 1)\n",
        "    score = sum(y_predicted != np.array(y))\n",
        "\n",
        "accuracy = score/ y.shape[0]\n",
        "print('The model has an accuracy of {}%'.format(round(accuracy*100, 2)))\n",
        "\n",
        "\n",
        "# How do you find the optimal K\n",
        "from sklearn.cluster import KMeans\n",
        "from sklearn import metrics\n",
        "from scipy.spatial.distance import cdist\n",
        "import numpy as np\n",
        "import matplotlib.pyplot as plt\n",
        "\n",
        "distortions = []\n",
        "inertias = []\n",
        "mapping1 = {}\n",
        "mapping2 = {}\n",
        "K = range(1,10)\n",
        "\n",
        "for k in K: \n",
        "    #Building and fitting the model\n",
        "    kmeanModel = KMeans(n_clusters=k).fit(X)\n",
        "    kmeanModel.fit(X)\n",
        "    \n",
        "    # The distortions in this case is the difference between each data point coordinates and the centroid coordinates. \n",
        "    # We are using euclidean distance in this case..\n",
        "    # Higher K leads to lower distance but runs the risk of overfitting\n",
        "    distortions.append(sum(np.min(cdist(X, kmeanModel.cluster_centers_,\n",
        "                      'euclidean'),axis=1)) / X.shape[0])\n",
        "\n",
        "    # Sum of squared distances of samples to their closest cluster center.\n",
        "    # inbuilt in sklearn\n",
        "    inertias.append(kmeanModel.inertia_)\n",
        "\n",
        "    mapping1[k] = sum(np.min(cdist(X, kmeanModel.cluster_centers_,\n",
        "                 'euclidean'),axis=1)) / X.shape[0]\n",
        "    mapping2[k] = kmeanModel.inertia_\n",
        "\n",
        "for key,val in mapping1.items():\n",
        "    print(str(key)+' : '+str(val))\n",
        "\n",
        "\n",
        "\n",
        "plt.plot(K, distortions, 'bx-')\n",
        "plt.xlabel('Values of K')\n",
        "plt.ylabel('Distortion')\n",
        "plt.title('The Elbow Method using Distortion')\n",
        "plt.show()\n",
        "\n",
        "for key,val in mapping2.items():\n",
        "    print(str(key)+' : '+str(val))\n",
        "\n",
        "plt.plot(K, inertias, 'bx-')\n",
        "plt.xlabel('Values of K')\n",
        "plt.ylabel('Inertia')\n",
        "plt.title('The Elbow Method using Inertia')\n",
        "plt.show()"
      ],
      "execution_count": null,
      "outputs": [
        {
          "output_type": "stream",
          "text": [
            "     SepalLength  SepalWidth  PetalLength  PetalWidth  Iris\n",
            "0            5.1         3.5          1.4         0.2     0\n",
            "1            4.9         3.0          1.4         0.2     0\n",
            "2            4.7         3.2          1.3         0.2     0\n",
            "3            4.6         3.1          1.5         0.2     0\n",
            "4            5.0         3.6          1.4         0.2     0\n",
            "..           ...         ...          ...         ...   ...\n",
            "145          6.7         3.0          5.2         2.3     2\n",
            "146          6.3         2.5          5.0         1.9     2\n",
            "147          6.5         3.0          5.2         2.0     2\n",
            "148          6.2         3.4          5.4         2.3     2\n",
            "149          5.9         3.0          5.1         1.8     2\n",
            "\n",
            "[150 rows x 5 columns]\n",
            "     SepalLength  SepalWidth  PetalLength  PetalWidth\n",
            "0            5.1         3.5          1.4         0.2\n",
            "1            4.9         3.0          1.4         0.2\n",
            "2            4.7         3.2          1.3         0.2\n",
            "3            4.6         3.1          1.5         0.2\n",
            "4            5.0         3.6          1.4         0.2\n",
            "..           ...         ...          ...         ...\n",
            "145          6.7         3.0          5.2         2.3\n",
            "146          6.3         2.5          5.0         1.9\n",
            "147          6.5         3.0          5.2         2.0\n",
            "148          6.2         3.4          5.4         2.3\n",
            "149          5.9         3.0          5.1         1.8\n",
            "\n",
            "[150 rows x 4 columns]\n",
            "Actual Y\n",
            "0      0\n",
            "1      0\n",
            "2      0\n",
            "3      0\n",
            "4      0\n",
            "      ..\n",
            "145    2\n",
            "146    2\n",
            "147    2\n",
            "148    2\n",
            "149    2\n",
            "Name: Iris, Length: 150, dtype: int64\n",
            "Predicted Y\n",
            "[1 1 1 1 1 1 1 1 1 1 1 1 1 1 1 1 1 1 1 1 1 1 1 1 1 1 1 1 1 1 1 1 1 1 1 1 1\n",
            " 1 1 1 1 1 1 1 1 1 1 1 1 1 2 2 0 2 2 2 2 2 2 2 2 2 2 2 2 2 2 2 2 2 2 2 2 2\n",
            " 2 2 2 0 2 2 2 2 2 2 2 2 2 2 2 2 2 2 2 2 2 2 2 2 2 2 0 2 0 0 0 0 2 0 0 0 0\n",
            " 0 0 2 2 0 0 0 0 2 0 2 0 2 0 0 2 2 0 0 0 0 0 2 0 0 0 0 2 0 0 0 2 0 0 0 2 0\n",
            " 0 2]\n",
            "The model has an accuracy of 90.67%\n",
            "1 : 1.943034159037026\n",
            "2 : 0.856027968244863\n",
            "3 : 0.648839494895334\n",
            "4 : 0.5581937771352218\n",
            "5 : 0.5104611995137194\n",
            "6 : 0.46638747942971565\n",
            "7 : 0.4357296254952564\n",
            "8 : 0.40997313636352994\n",
            "9 : 0.40113393963369326\n"
          ],
          "name": "stdout"
        },
        {
          "output_type": "display_data",
          "data": {
            "image/png": "[encoded data removed]",
            "text/plain": [
              "<Figure size 432x288 with 1 Axes>"
            ]
          },
          "metadata": {
            "tags": [],
            "needs_background": "light"
          }
        },
        {
          "output_type": "stream",
          "text": [
            "1 : 680.8244\n",
            "2 : 152.36870647733906\n",
            "3 : 78.94084142614602\n",
            "4 : 57.31787321428571\n",
            "5 : 46.53558205128205\n",
            "6 : 38.93873974358974\n",
            "7 : 34.31265004600874\n",
            "8 : 29.954086421037225\n",
            "9 : 28.162697532148336\n"
          ],
          "name": "stdout"
        },
        {
          "output_type": "display_data",
          "data": {
            "image/png": "[encoded data removed]",
            "text/plain": [
              "<Figure size 432x288 with 1 Axes>"
            ]
          },
          "metadata": {
            "tags": [],
            "needs_background": "light"
          }
        }
      ]
    }
  ]
}